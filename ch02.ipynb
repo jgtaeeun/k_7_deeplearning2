{
 "cells": [
  {
   "cell_type": "code",
   "execution_count": 1,
   "id": "92e2fd14-4a22-4ed9-8e4a-aac1a6410ef6",
   "metadata": {},
   "outputs": [],
   "source": [
    "import torch\n",
    "import torch.nn as nn"
   ]
  },
  {
   "cell_type": "code",
   "execution_count": 2,
   "id": "5883f6d5-b3cd-469e-98c5-67d0ad3fa6ae",
   "metadata": {},
   "outputs": [],
   "source": [
    "import pandas as pd\n",
    "import numpy as np\n",
    "import matplotlib.pyplot as plt\n",
    "import seaborn as sns"
   ]
  },
  {
   "cell_type": "code",
   "execution_count": 3,
   "id": "394e409d-e93f-4b7f-b862-f23425085f2b",
   "metadata": {},
   "outputs": [
    {
     "name": "stdout",
     "output_type": "stream",
     "text": [
      "<class 'pandas.core.frame.DataFrame'>\n",
      "RangeIndex: 1728 entries, 0 to 1727\n",
      "Data columns (total 7 columns):\n",
      " #   Column        Non-Null Count  Dtype \n",
      "---  ------        --------------  ----- \n",
      " 0   price         1728 non-null   object\n",
      " 1   maint         1728 non-null   object\n",
      " 2   doors         1728 non-null   object\n",
      " 3   persons       1728 non-null   object\n",
      " 4   lug_capacity  1728 non-null   object\n",
      " 5   safety        1728 non-null   object\n",
      " 6   output        1728 non-null   object\n",
      "dtypes: object(7)\n",
      "memory usage: 94.6+ KB\n"
     ]
    }
   ],
   "source": [
    "dataset = pd.read_csv(\"data/car_evaluation.csv\")\n",
    "dataset.info()"
   ]
  },
  {
   "cell_type": "code",
   "execution_count": 4,
   "id": "754e93c2-589d-40cf-8e1c-f4718d820d9c",
   "metadata": {},
   "outputs": [
    {
     "data": {
      "text/html": [
       "<div>\n",
       "<style scoped>\n",
       "    .dataframe tbody tr th:only-of-type {\n",
       "        vertical-align: middle;\n",
       "    }\n",
       "\n",
       "    .dataframe tbody tr th {\n",
       "        vertical-align: top;\n",
       "    }\n",
       "\n",
       "    .dataframe thead th {\n",
       "        text-align: right;\n",
       "    }\n",
       "</style>\n",
       "<table border=\"1\" class=\"dataframe\">\n",
       "  <thead>\n",
       "    <tr style=\"text-align: right;\">\n",
       "      <th></th>\n",
       "      <th>price</th>\n",
       "      <th>maint</th>\n",
       "      <th>doors</th>\n",
       "      <th>persons</th>\n",
       "      <th>lug_capacity</th>\n",
       "      <th>safety</th>\n",
       "      <th>output</th>\n",
       "    </tr>\n",
       "  </thead>\n",
       "  <tbody>\n",
       "    <tr>\n",
       "      <th>0</th>\n",
       "      <td>vhigh</td>\n",
       "      <td>vhigh</td>\n",
       "      <td>2</td>\n",
       "      <td>2</td>\n",
       "      <td>small</td>\n",
       "      <td>low</td>\n",
       "      <td>unacc</td>\n",
       "    </tr>\n",
       "    <tr>\n",
       "      <th>1</th>\n",
       "      <td>vhigh</td>\n",
       "      <td>vhigh</td>\n",
       "      <td>2</td>\n",
       "      <td>2</td>\n",
       "      <td>small</td>\n",
       "      <td>med</td>\n",
       "      <td>unacc</td>\n",
       "    </tr>\n",
       "    <tr>\n",
       "      <th>2</th>\n",
       "      <td>vhigh</td>\n",
       "      <td>vhigh</td>\n",
       "      <td>2</td>\n",
       "      <td>2</td>\n",
       "      <td>small</td>\n",
       "      <td>high</td>\n",
       "      <td>unacc</td>\n",
       "    </tr>\n",
       "    <tr>\n",
       "      <th>3</th>\n",
       "      <td>vhigh</td>\n",
       "      <td>vhigh</td>\n",
       "      <td>2</td>\n",
       "      <td>2</td>\n",
       "      <td>med</td>\n",
       "      <td>low</td>\n",
       "      <td>unacc</td>\n",
       "    </tr>\n",
       "    <tr>\n",
       "      <th>4</th>\n",
       "      <td>vhigh</td>\n",
       "      <td>vhigh</td>\n",
       "      <td>2</td>\n",
       "      <td>2</td>\n",
       "      <td>med</td>\n",
       "      <td>med</td>\n",
       "      <td>unacc</td>\n",
       "    </tr>\n",
       "  </tbody>\n",
       "</table>\n",
       "</div>"
      ],
      "text/plain": [
       "   price  maint doors persons lug_capacity safety output\n",
       "0  vhigh  vhigh     2       2        small    low  unacc\n",
       "1  vhigh  vhigh     2       2        small    med  unacc\n",
       "2  vhigh  vhigh     2       2        small   high  unacc\n",
       "3  vhigh  vhigh     2       2          med    low  unacc\n",
       "4  vhigh  vhigh     2       2          med    med  unacc"
      ]
     },
     "execution_count": 4,
     "metadata": {},
     "output_type": "execute_result"
    }
   ],
   "source": [
    "categorical_columns=['price','maint','doors','persons', 'lug_capacity', 'safety']\n",
    "for category in categorical_columns :\n",
    "    dataset[category]=dataset[category].astype('category')\n",
    "dataset.head()"
   ]
  },
  {
   "cell_type": "code",
   "execution_count": 5,
   "id": "0e265b38-3b58-47d2-ab48-05c31679ce46",
   "metadata": {},
   "outputs": [],
   "source": [
    "price=dataset['price'].cat.codes.values\n",
    "maint=dataset['maint'].cat.codes.values\n",
    "doors=dataset['doors'].cat.codes.values\n",
    "persons=dataset['persons'].cat.codes.values\n",
    "lug_capacity=dataset['lug_capacity'].cat.codes.values\n",
    "safety=dataset['safety'].cat.codes.values"
   ]
  },
  {
   "cell_type": "code",
   "execution_count": 6,
   "id": "b050a5a2-8b12-4c5e-81a3-062d980a0fa8",
   "metadata": {},
   "outputs": [
    {
     "data": {
      "text/plain": [
       "array([[3, 3, 0, 0, 2, 1],\n",
       "       [3, 3, 0, 0, 2, 2],\n",
       "       [3, 3, 0, 0, 2, 0],\n",
       "       [3, 3, 0, 0, 1, 1],\n",
       "       [3, 3, 0, 0, 1, 2],\n",
       "       [3, 3, 0, 0, 1, 0],\n",
       "       [3, 3, 0, 0, 0, 1],\n",
       "       [3, 3, 0, 0, 0, 2],\n",
       "       [3, 3, 0, 0, 0, 0],\n",
       "       [3, 3, 0, 1, 2, 1]], dtype=int8)"
      ]
     },
     "execution_count": 6,
     "metadata": {},
     "output_type": "execute_result"
    }
   ],
   "source": [
    "categorical_data=np.stack([price,maint,doors,persons, lug_capacity, safety],1)\n",
    "categorical_data[:10]"
   ]
  },
  {
   "cell_type": "code",
   "execution_count": 7,
   "id": "4016a7c3-de75-4c0a-9008-c8664c2799c3",
   "metadata": {},
   "outputs": [
    {
     "data": {
      "text/plain": [
       "array([[False, False,  True, False],\n",
       "       [False, False,  True, False],\n",
       "       [False, False,  True, False],\n",
       "       ...,\n",
       "       [False, False,  True, False],\n",
       "       [False,  True, False, False],\n",
       "       [False, False, False,  True]])"
      ]
     },
     "execution_count": 7,
     "metadata": {},
     "output_type": "execute_result"
    }
   ],
   "source": [
    "outputs=pd.get_dummies(dataset['output']).values\n",
    "outputs"
   ]
  },
  {
   "cell_type": "code",
   "execution_count": 8,
   "id": "8d1ecb1f-5d6c-4c33-a84a-8c266c357ca3",
   "metadata": {},
   "outputs": [],
   "source": [
    "\n",
    "categorical_data =torch.tensor(categorical_data, dtype = torch.int64)\n",
    "\n",
    "outputs =torch.tensor(outputs).flatten()"
   ]
  },
  {
   "cell_type": "code",
   "execution_count": 9,
   "id": "419177d7-51b7-420a-957b-6e521df00756",
   "metadata": {},
   "outputs": [
    {
     "data": {
      "text/plain": [
       "torch.Size([6912])"
      ]
     },
     "execution_count": 9,
     "metadata": {},
     "output_type": "execute_result"
    }
   ],
   "source": [
    "categorical_data.size()\n",
    "outputs.size()"
   ]
  },
  {
   "cell_type": "code",
   "execution_count": 10,
   "id": "70bbdb86-89c5-4565-8d48-6355d6e5ac3e",
   "metadata": {},
   "outputs": [
    {
     "data": {
      "text/plain": [
       "[4, 4, 4, 3, 3, 3]"
      ]
     },
     "execution_count": 10,
     "metadata": {},
     "output_type": "execute_result"
    }
   ],
   "source": [
    "categorical_column_sizes=[\n",
    "    len(dataset[column].cat.categories) for column in categorical_columns\n",
    "]\n",
    "categorical_column_sizes"
   ]
  },
  {
   "cell_type": "code",
   "execution_count": 11,
   "id": "646a6b9e-dd67-4d08-b0f9-a52f7e4ed67d",
   "metadata": {},
   "outputs": [
    {
     "data": {
      "text/plain": [
       "[(4, 2), (4, 2), (4, 2), (3, 2), (3, 2), (3, 2)]"
      ]
     },
     "execution_count": 11,
     "metadata": {},
     "output_type": "execute_result"
    }
   ],
   "source": [
    "categorical_embedding_sizes= [(col_size, min(50, (col_size+1)//2)) for col_size in categorical_column_sizes]\n",
    "categorical_embedding_sizes"
   ]
  },
  {
   "cell_type": "code",
   "execution_count": 12,
   "id": "5f16fb24-17d5-43c2-b125-7ce6123f983a",
   "metadata": {},
   "outputs": [],
   "source": [
    "total_records=1728\n",
    "test_records=int(total_records * .2)"
   ]
  },
  {
   "cell_type": "code",
   "execution_count": 13,
   "id": "ffe465bb-2ca8-426f-bb4b-d4998402d961",
   "metadata": {},
   "outputs": [
    {
     "name": "stdout",
     "output_type": "stream",
     "text": [
      "1383 1383 345 345\n"
     ]
    }
   ],
   "source": [
    "categorical_train_data = categorical_data[:total_records-test_records]\n",
    "categorical_test_data = categorical_data[total_records-test_records:total_records]\n",
    "train_outputs = outputs[:total_records-test_records]\n",
    "test_outputs= outputs[total_records-test_records:total_records]\n",
    "print(len(categorical_train_data),len(train_outputs ), len(categorical_test_data),len(test_outputs))"
   ]
  },
  {
   "cell_type": "code",
   "execution_count": 14,
   "id": "e0cf472d-b696-4ed8-a60c-b5ad9a80d66e",
   "metadata": {},
   "outputs": [],
   "source": [
    "class Model(nn.Module):\n",
    "    def __init__(self, embedding_size, output_size, layers, p=0.4):\n",
    "        super().__init__()\n",
    "        self.all_embeddings=nn.ModuleList([nn.Embedding(ni,nf) for ni, nf in embedding_size])\n",
    "        self.embedding_dropout = nn.Dropout(p)\n",
    "        all_layers=[]\n",
    "        num_categorical_cols=sum((nf for ni, nf in embedding_size))\n",
    "        input_size= num_categorical_cols\n",
    "\n",
    "        for i in layers:\n",
    "           all_layers.append(nn.Linear(input_size, i))\n",
    "           all_layers.append(nn.ReLU(inplace=True))\n",
    "           all_layers.append(nn.BatchNorm1d( i))\n",
    "           all_layers.append(nn.Dropout(p))\n",
    "           input_size=i\n",
    "        all_layers.append(nn.Linear(layers[-1], output_size))\n",
    "        self.layers= nn.Sequential(*all_layers)\n",
    "    def forward(self, x_categorical):\n",
    "        embeddings=[]\n",
    "        for i , e in enumerate(self.all_embeddings):\n",
    "            embeddings.append(e(x_categorical[:,i]))\n",
    "        x=torch.cat(embeddings, 1)\n",
    "        x=self.embedding_dropout(x)\n",
    "        x=self.layers(x)\n",
    "        return x\n",
    "                             "
   ]
  },
  {
   "cell_type": "code",
   "execution_count": 15,
   "id": "2c20c28c-d044-4044-8126-15e60488e37b",
   "metadata": {},
   "outputs": [
    {
     "data": {
      "text/plain": [
       "Model(\n",
       "  (all_embeddings): ModuleList(\n",
       "    (0-2): 3 x Embedding(4, 2)\n",
       "    (3-5): 3 x Embedding(3, 2)\n",
       "  )\n",
       "  (embedding_dropout): Dropout(p=0.4, inplace=False)\n",
       "  (layers): Sequential(\n",
       "    (0): Linear(in_features=12, out_features=200, bias=True)\n",
       "    (1): ReLU(inplace=True)\n",
       "    (2): BatchNorm1d(200, eps=1e-05, momentum=0.1, affine=True, track_running_stats=True)\n",
       "    (3): Dropout(p=0.4, inplace=False)\n",
       "    (4): Linear(in_features=200, out_features=100, bias=True)\n",
       "    (5): ReLU(inplace=True)\n",
       "    (6): BatchNorm1d(100, eps=1e-05, momentum=0.1, affine=True, track_running_stats=True)\n",
       "    (7): Dropout(p=0.4, inplace=False)\n",
       "    (8): Linear(in_features=100, out_features=50, bias=True)\n",
       "    (9): ReLU(inplace=True)\n",
       "    (10): BatchNorm1d(50, eps=1e-05, momentum=0.1, affine=True, track_running_stats=True)\n",
       "    (11): Dropout(p=0.4, inplace=False)\n",
       "    (12): Linear(in_features=50, out_features=4, bias=True)\n",
       "  )\n",
       ")"
      ]
     },
     "execution_count": 15,
     "metadata": {},
     "output_type": "execute_result"
    }
   ],
   "source": [
    "model=Model(categorical_embedding_sizes, 4, [200,100,50], p=0.4)\n",
    "model\n"
   ]
  },
  {
   "cell_type": "code",
   "execution_count": 16,
   "id": "c5122e94-379f-436f-8fb5-6c7bbf7bef7b",
   "metadata": {},
   "outputs": [],
   "source": [
    "loss_function = nn.CrossEntropyLoss()\n",
    "optimizer = torch.optim.Adam(model.parameters(), lr=0.001)"
   ]
  },
  {
   "cell_type": "code",
   "execution_count": 17,
   "id": "930187b6-2b8f-49ed-821e-5eb5d34b7232",
   "metadata": {},
   "outputs": [
    {
     "name": "stdout",
     "output_type": "stream",
     "text": [
      "epoch:   1 loss: 1.55701518\n",
      "epoch:  26 loss: 1.37248039\n",
      "epoch:  51 loss: 1.29586291\n",
      "epoch:  76 loss: 1.18136334\n",
      "epoch: 101 loss: 1.05102742\n",
      "epoch: 126 loss: 0.93074393\n",
      "epoch: 151 loss: 0.82001656\n",
      "epoch: 176 loss: 0.74292630\n",
      "epoch: 201 loss: 0.69643092\n",
      "epoch: 226 loss: 0.65780884\n",
      "epoch: 251 loss: 0.63101852\n",
      "epoch: 276 loss: 0.60541934\n",
      "epoch: 301 loss: 0.60774702\n",
      "epoch: 326 loss: 0.59309506\n",
      "epoch: 351 loss: 0.58417434\n",
      "epoch: 376 loss: 0.57939416\n",
      "epoch: 401 loss: 0.57816029\n",
      "epoch: 426 loss: 0.57387978\n",
      "epoch: 451 loss: 0.57687229\n",
      "epoch: 476 loss: 0.56324726\n",
      "epoch: 500 loss: 0.5599153042\n"
     ]
    }
   ],
   "source": [
    "epochs = 500\n",
    "aggregated_losses = []\n",
    "train_outputs = train_outputs.to(device=\"cpu\", dtype=torch.int64)\n",
    "for i in range(epochs):\n",
    "    i += 1\n",
    "    y_pred = model(categorical_train_data)\n",
    "    single_loss = loss_function(y_pred, train_outputs)\n",
    "    aggregated_losses.append(single_loss)\n",
    "\n",
    "    if i % 25 == 1:\n",
    "        print(f\"epoch: {i:3} loss: {single_loss.item():10.8f}\")\n",
    "\n",
    "    optimizer.zero_grad()\n",
    "    single_loss.backward()\n",
    "    optimizer.step()\n",
    "\n",
    "print(f\"epoch: {i:3} loss: {single_loss.item():10.10f}\")"
   ]
  },
  {
   "cell_type": "code",
   "execution_count": null,
   "id": "bce82e05-4dc0-47cd-9dc5-4a723b3fcec2",
   "metadata": {},
   "outputs": [],
   "source": []
  }
 ],
 "metadata": {
  "kernelspec": {
   "display_name": "Python 3 (ipykernel)",
   "language": "python",
   "name": "python3"
  },
  "language_info": {
   "codemirror_mode": {
    "name": "ipython",
    "version": 3
   },
   "file_extension": ".py",
   "mimetype": "text/x-python",
   "name": "python",
   "nbconvert_exporter": "python",
   "pygments_lexer": "ipython3",
   "version": "3.12.4"
  }
 },
 "nbformat": 4,
 "nbformat_minor": 5
}
