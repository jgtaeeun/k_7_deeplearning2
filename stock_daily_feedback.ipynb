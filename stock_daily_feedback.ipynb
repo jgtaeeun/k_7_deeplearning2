{
 "cells": [
  {
   "cell_type": "code",
   "execution_count": 1,
   "metadata": {
    "id": "zNMbnu9CrWso"
   },
   "outputs": [],
   "source": [
    "import pandas as pd\n",
    "import numpy as np\n",
    "import matplotlib.pyplot as plt\n",
    "from sklearn.preprocessing import MinMaxScaler"
   ]
  },
  {
   "cell_type": "code",
   "execution_count": 2,
   "metadata": {
    "id": "kAkxDROirWsp"
   },
   "outputs": [],
   "source": [
    "seq_length = 7"
   ]
  },
  {
   "cell_type": "code",
   "execution_count": 3,
   "metadata": {},
   "outputs": [],
   "source": [
    "# Q1. \"데이터 불러오기 - \"stock_daily.csv\"을 불러오세요.\n",
    "\n",
    "df = pd.read_csv(\"data/stock_daily.csv\")\n",
    "\n",
    "# Q2a. 데이터를 역순으로 정렬하고, 전체 데이터의 70% 학습, 30% 테스트에 사용하세요.\n",
    "df = df[::-1]\n",
    "df[\"Volume\"] = df[\"Volume\"].astype(\"float\")\n"
   ]
  },
  {
   "cell_type": "code",
   "execution_count": 4,
   "metadata": {},
   "outputs": [
    {
     "data": {
      "text/plain": [
       "512"
      ]
     },
     "execution_count": 4,
     "metadata": {},
     "output_type": "execute_result"
    }
   ],
   "source": [
    "train_index = int(len(df) * 0.7)\n",
    "train_index"
   ]
  },
  {
   "cell_type": "code",
   "execution_count": 5,
   "metadata": {},
   "outputs": [
    {
     "data": {
      "text/html": [
       "<div>\n",
       "<style scoped>\n",
       "    .dataframe tbody tr th:only-of-type {\n",
       "        vertical-align: middle;\n",
       "    }\n",
       "\n",
       "    .dataframe tbody tr th {\n",
       "        vertical-align: top;\n",
       "    }\n",
       "\n",
       "    .dataframe thead th {\n",
       "        text-align: right;\n",
       "    }\n",
       "</style>\n",
       "<table border=\"1\" class=\"dataframe\">\n",
       "  <thead>\n",
       "    <tr style=\"text-align: right;\">\n",
       "      <th></th>\n",
       "      <th>Open</th>\n",
       "      <th>High</th>\n",
       "      <th>Low</th>\n",
       "      <th>Volume</th>\n",
       "      <th>Close</th>\n",
       "    </tr>\n",
       "  </thead>\n",
       "  <tbody>\n",
       "    <tr>\n",
       "      <th>224</th>\n",
       "      <td>738.599976</td>\n",
       "      <td>750.340027</td>\n",
       "      <td>737.000000</td>\n",
       "      <td>1576700.0</td>\n",
       "      <td>749.909973</td>\n",
       "    </tr>\n",
       "    <tr>\n",
       "      <th>223</th>\n",
       "      <td>750.059998</td>\n",
       "      <td>752.799988</td>\n",
       "      <td>742.429993</td>\n",
       "      <td>1134200.0</td>\n",
       "      <td>745.289978</td>\n",
       "    </tr>\n",
       "    <tr>\n",
       "      <th>222</th>\n",
       "      <td>738.000000</td>\n",
       "      <td>742.799988</td>\n",
       "      <td>735.369995</td>\n",
       "      <td>1132300.0</td>\n",
       "      <td>737.799988</td>\n",
       "    </tr>\n",
       "    <tr>\n",
       "      <th>221</th>\n",
       "      <td>735.770020</td>\n",
       "      <td>746.239990</td>\n",
       "      <td>735.559998</td>\n",
       "      <td>1053700.0</td>\n",
       "      <td>745.690002</td>\n",
       "    </tr>\n",
       "    <tr>\n",
       "      <th>220</th>\n",
       "      <td>745.369995</td>\n",
       "      <td>747.000000</td>\n",
       "      <td>736.280029</td>\n",
       "      <td>1453200.0</td>\n",
       "      <td>740.280029</td>\n",
       "    </tr>\n",
       "  </tbody>\n",
       "</table>\n",
       "</div>"
      ],
      "text/plain": [
       "           Open        High         Low     Volume       Close\n",
       "224  738.599976  750.340027  737.000000  1576700.0  749.909973\n",
       "223  750.059998  752.799988  742.429993  1134200.0  745.289978\n",
       "222  738.000000  742.799988  735.369995  1132300.0  737.799988\n",
       "221  735.770020  746.239990  735.559998  1053700.0  745.690002\n",
       "220  745.369995  747.000000  736.280029  1453200.0  740.280029"
      ]
     },
     "execution_count": 5,
     "metadata": {},
     "output_type": "execute_result"
    }
   ],
   "source": [
    "train_df = df[:train_index]\n",
    "train_df.tail()"
   ]
  },
  {
   "cell_type": "code",
   "execution_count": 6,
   "metadata": {
    "id": "cfeP5hVQrWsp"
   },
   "outputs": [],
   "source": [
    "\n",
    "# Q2b. 단, 테스트에 사용될 데이터에는 7일간의 데이터가 포함되지 않아야 합니다.\n",
    "#-7의 의미: -7은 인덱스에서 끝에서 7번째 위치를 의미합니다. 즉, df의 끝에서 7개 데이터를 제외한다는 뜻입니다.\n",
    "test_df = df[train_index:-seq_length]"
   ]
  },
  {
   "cell_type": "code",
   "execution_count": 7,
   "metadata": {},
   "outputs": [
    {
     "data": {
      "text/html": [
       "<div>\n",
       "<style scoped>\n",
       "    .dataframe tbody tr th:only-of-type {\n",
       "        vertical-align: middle;\n",
       "    }\n",
       "\n",
       "    .dataframe tbody tr th {\n",
       "        vertical-align: top;\n",
       "    }\n",
       "\n",
       "    .dataframe thead th {\n",
       "        text-align: right;\n",
       "    }\n",
       "</style>\n",
       "<table border=\"1\" class=\"dataframe\">\n",
       "  <thead>\n",
       "    <tr style=\"text-align: right;\">\n",
       "      <th></th>\n",
       "      <th>Open</th>\n",
       "      <th>High</th>\n",
       "      <th>Low</th>\n",
       "      <th>Volume</th>\n",
       "      <th>Close</th>\n",
       "    </tr>\n",
       "  </thead>\n",
       "  <tbody>\n",
       "    <tr>\n",
       "      <th>219</th>\n",
       "      <td>743.969971</td>\n",
       "      <td>745.450012</td>\n",
       "      <td>735.549988</td>\n",
       "      <td>1290800.0</td>\n",
       "      <td>739.150024</td>\n",
       "    </tr>\n",
       "    <tr>\n",
       "      <th>218</th>\n",
       "      <td>743.020020</td>\n",
       "      <td>745.000000</td>\n",
       "      <td>736.049988</td>\n",
       "      <td>1220100.0</td>\n",
       "      <td>736.099976</td>\n",
       "    </tr>\n",
       "    <tr>\n",
       "      <th>217</th>\n",
       "      <td>738.000000</td>\n",
       "      <td>743.830017</td>\n",
       "      <td>731.010010</td>\n",
       "      <td>1353000.0</td>\n",
       "      <td>743.090027</td>\n",
       "    </tr>\n",
       "    <tr>\n",
       "      <th>216</th>\n",
       "      <td>749.159973</td>\n",
       "      <td>754.380005</td>\n",
       "      <td>744.260986</td>\n",
       "      <td>1707100.0</td>\n",
       "      <td>751.719971</td>\n",
       "    </tr>\n",
       "    <tr>\n",
       "      <th>215</th>\n",
       "      <td>754.010010</td>\n",
       "      <td>757.309998</td>\n",
       "      <td>752.705017</td>\n",
       "      <td>1135300.0</td>\n",
       "      <td>753.200012</td>\n",
       "    </tr>\n",
       "  </tbody>\n",
       "</table>\n",
       "</div>"
      ],
      "text/plain": [
       "           Open        High         Low     Volume       Close\n",
       "219  743.969971  745.450012  735.549988  1290800.0  739.150024\n",
       "218  743.020020  745.000000  736.049988  1220100.0  736.099976\n",
       "217  738.000000  743.830017  731.010010  1353000.0  743.090027\n",
       "216  749.159973  754.380005  744.260986  1707100.0  751.719971\n",
       "215  754.010010  757.309998  752.705017  1135300.0  753.200012"
      ]
     },
     "execution_count": 7,
     "metadata": {},
     "output_type": "execute_result"
    }
   ],
   "source": [
    "test_df.head()"
   ]
  },
  {
   "cell_type": "code",
   "execution_count": 8,
   "metadata": {},
   "outputs": [
    {
     "data": {
      "text/html": [
       "<div>\n",
       "<style scoped>\n",
       "    .dataframe tbody tr th:only-of-type {\n",
       "        vertical-align: middle;\n",
       "    }\n",
       "\n",
       "    .dataframe tbody tr th {\n",
       "        vertical-align: top;\n",
       "    }\n",
       "\n",
       "    .dataframe thead th {\n",
       "        text-align: right;\n",
       "    }\n",
       "</style>\n",
       "<table border=\"1\" class=\"dataframe\">\n",
       "  <thead>\n",
       "    <tr style=\"text-align: right;\">\n",
       "      <th></th>\n",
       "      <th>Open</th>\n",
       "      <th>High</th>\n",
       "      <th>Low</th>\n",
       "      <th>Volume</th>\n",
       "      <th>Close</th>\n",
       "    </tr>\n",
       "  </thead>\n",
       "  <tbody>\n",
       "    <tr>\n",
       "      <th>11</th>\n",
       "      <td>802.989990</td>\n",
       "      <td>806.000000</td>\n",
       "      <td>800.369995</td>\n",
       "      <td>1460400.0</td>\n",
       "      <td>801.489990</td>\n",
       "    </tr>\n",
       "    <tr>\n",
       "      <th>10</th>\n",
       "      <td>799.700012</td>\n",
       "      <td>801.669983</td>\n",
       "      <td>795.250000</td>\n",
       "      <td>1174200.0</td>\n",
       "      <td>801.340027</td>\n",
       "    </tr>\n",
       "    <tr>\n",
       "      <th>9</th>\n",
       "      <td>803.989990</td>\n",
       "      <td>810.500000</td>\n",
       "      <td>801.780029</td>\n",
       "      <td>1235200.0</td>\n",
       "      <td>806.969971</td>\n",
       "    </tr>\n",
       "    <tr>\n",
       "      <th>8</th>\n",
       "      <td>807.000000</td>\n",
       "      <td>811.840027</td>\n",
       "      <td>803.190002</td>\n",
       "      <td>1155300.0</td>\n",
       "      <td>808.380005</td>\n",
       "    </tr>\n",
       "    <tr>\n",
       "      <th>7</th>\n",
       "      <td>809.510010</td>\n",
       "      <td>810.659973</td>\n",
       "      <td>804.539978</td>\n",
       "      <td>989700.0</td>\n",
       "      <td>809.559998</td>\n",
       "    </tr>\n",
       "  </tbody>\n",
       "</table>\n",
       "</div>"
      ],
      "text/plain": [
       "          Open        High         Low     Volume       Close\n",
       "11  802.989990  806.000000  800.369995  1460400.0  801.489990\n",
       "10  799.700012  801.669983  795.250000  1174200.0  801.340027\n",
       "9   803.989990  810.500000  801.780029  1235200.0  806.969971\n",
       "8   807.000000  811.840027  803.190002  1155300.0  808.380005\n",
       "7   809.510010  810.659973  804.539978   989700.0  809.559998"
      ]
     },
     "execution_count": 8,
     "metadata": {},
     "output_type": "execute_result"
    }
   ],
   "source": [
    "test_df.tail()"
   ]
  },
  {
   "cell_type": "markdown",
   "metadata": {},
   "source": [
    "###  MinMaxScaler()을 통해 train(특징x, 타겟y)과 test(특징x, 타겟y) 데이터를 0과 1사이의 값으로 바꾼다."
   ]
  },
  {
   "cell_type": "code",
   "execution_count": 9,
   "metadata": {
    "id": "1heqYHpurWsq"
   },
   "outputs": [],
   "source": [
    "# Q3. MinMaxScaler를 사용해서 학습과 테스트 데이터를 전처리하세요.\n",
    "# Q3a. 특징\n",
    "scaler_x = MinMaxScaler()\n",
    "\n",
    "#train_df 데이터프레임의 마지막 열을 제외한 모든 열을 의미합니다.\n",
    "#즉, 마지막 열은 타겟 변수일 가능성이 높고, 이를 제외한 피쳐들만 스케일링합니다.\n",
    "scaler_x.fit(train_df.iloc[:, :-1])\n",
    "\n",
    "#transform 메서드는 fit 단계에서 학습한 최소값과 최대값을 사용하여 train_df의 피쳐를 스케일링합니다. \n",
    "#변환된 결과를 train_df의 원래 데이터프레임에 덮어씌웁니다.\n",
    "train_df.iloc[:, :-1] = scaler_x.transform(train_df.iloc[:, :-1])\n",
    "test_df.iloc[:, :-1] = scaler_x.transform(test_df.iloc[:, :-1])\n",
    "\n",
    "\n",
    "# Q3b. 타겟-df[Close]\n",
    "scaler_y = MinMaxScaler()\n",
    "scaler_y.fit(train_df.iloc[:, [-1]])\n",
    "train_df.iloc[:, -1] = scaler_y.transform(train_df.iloc[:, [-1]])\n",
    "test_df.iloc[:, -1] = scaler_y.transform(test_df.iloc[:, [-1]])"
   ]
  },
  {
   "cell_type": "code",
   "execution_count": 10,
   "metadata": {
    "colab": {
     "base_uri": "https://localhost:8080/",
     "height": 206
    },
    "id": "kc5o5zrGu9ee",
    "outputId": "027a28b3-b2c3-4920-abee-e245d36875b5"
   },
   "outputs": [
    {
     "data": {
      "text/html": [
       "<div>\n",
       "<style scoped>\n",
       "    .dataframe tbody tr th:only-of-type {\n",
       "        vertical-align: middle;\n",
       "    }\n",
       "\n",
       "    .dataframe tbody tr th {\n",
       "        vertical-align: top;\n",
       "    }\n",
       "\n",
       "    .dataframe thead th {\n",
       "        text-align: right;\n",
       "    }\n",
       "</style>\n",
       "<table border=\"1\" class=\"dataframe\">\n",
       "  <thead>\n",
       "    <tr style=\"text-align: right;\">\n",
       "      <th></th>\n",
       "      <th>Open</th>\n",
       "      <th>High</th>\n",
       "      <th>Low</th>\n",
       "      <th>Volume</th>\n",
       "      <th>Close</th>\n",
       "    </tr>\n",
       "  </thead>\n",
       "  <tbody>\n",
       "    <tr>\n",
       "      <th>11</th>\n",
       "      <td>1.063792</td>\n",
       "      <td>1.054884</td>\n",
       "      <td>1.119819</td>\n",
       "      <td>0.130187</td>\n",
       "      <td>1.087626</td>\n",
       "    </tr>\n",
       "    <tr>\n",
       "      <th>10</th>\n",
       "      <td>1.052441</td>\n",
       "      <td>1.040151</td>\n",
       "      <td>1.101490</td>\n",
       "      <td>0.104535</td>\n",
       "      <td>1.087098</td>\n",
       "    </tr>\n",
       "    <tr>\n",
       "      <th>9</th>\n",
       "      <td>1.067242</td>\n",
       "      <td>1.070196</td>\n",
       "      <td>1.124867</td>\n",
       "      <td>0.110003</td>\n",
       "      <td>1.106919</td>\n",
       "    </tr>\n",
       "    <tr>\n",
       "      <th>8</th>\n",
       "      <td>1.077627</td>\n",
       "      <td>1.074756</td>\n",
       "      <td>1.129914</td>\n",
       "      <td>0.102841</td>\n",
       "      <td>1.111883</td>\n",
       "    </tr>\n",
       "    <tr>\n",
       "      <th>7</th>\n",
       "      <td>1.086287</td>\n",
       "      <td>1.070740</td>\n",
       "      <td>1.134747</td>\n",
       "      <td>0.087999</td>\n",
       "      <td>1.116037</td>\n",
       "    </tr>\n",
       "  </tbody>\n",
       "</table>\n",
       "</div>"
      ],
      "text/plain": [
       "        Open      High       Low    Volume     Close\n",
       "11  1.063792  1.054884  1.119819  0.130187  1.087626\n",
       "10  1.052441  1.040151  1.101490  0.104535  1.087098\n",
       "9   1.067242  1.070196  1.124867  0.110003  1.106919\n",
       "8   1.077627  1.074756  1.129914  0.102841  1.111883\n",
       "7   1.086287  1.070740  1.134747  0.087999  1.116037"
      ]
     },
     "execution_count": 10,
     "metadata": {},
     "output_type": "execute_result"
    }
   ],
   "source": [
    "test_df.tail()"
   ]
  },
  {
   "cell_type": "code",
   "execution_count": 11,
   "metadata": {},
   "outputs": [],
   "source": [
    "import torch\n",
    "from torch.utils.data import TensorDataset\n",
    "from torch.utils.data import DataLoader\n",
    "\n",
    "batch = 100\n",
    "\n",
    "#time_series: 시계열 데이터가 저장된 Numpy 배열입니다. 각 행은 시점(time step)을 나타내며, 각 열은 특성(feature)을 나타냅니다.\n",
    "#seq_length: 모델이 입력으로 사용할 시퀀스의 길이입니다. 즉, 모델이 예측을 하기 위해 사용하는 시점의 개수를 의미합니다.\n",
    "\n",
    "\n",
    "#이 방식은 시계열 데이터에서 입력 시퀀스와 해당 시퀀스의 다음 시점의 값을 연결하여 예측 모델을 훈련하는 일반적인 방법입니다.\n",
    "def build_dataset(time_series, seq_length):\n",
    "    X_data = []\n",
    "    Y_data = []\n",
    "    for i in range(0, len(time_series) - seq_length):\n",
    "        _x = time_series[i : i + seq_length, :]\n",
    "        _y = time_series[i + seq_length, [-1]]     \n",
    "        X_data.append(_x)\n",
    "        Y_data.append(_y)\n",
    "    return np.array(X_data), np.array(Y_data)"
   ]
  },
  {
   "cell_type": "code",
   "execution_count": 12,
   "metadata": {},
   "outputs": [
    {
     "data": {
      "text/plain": [
       "(512, 5)"
      ]
     },
     "execution_count": 12,
     "metadata": {},
     "output_type": "execute_result"
    }
   ],
   "source": [
    "np.array(train_df)\n",
    "train_df.shape"
   ]
  },
  {
   "cell_type": "code",
   "execution_count": 13,
   "metadata": {},
   "outputs": [],
   "source": [
    "#for i in range(0, 505):\n",
    "# _x   [0 : 7, :]~[504 :511, :]         0~6까지의 행의 모든 열\n",
    "# _y   [7,[-1]]~[511,[-1]]               7행의 마지막 열\n",
    "X_train, y_train = build_dataset(np.array(train_df), seq_length)"
   ]
  },
  {
   "cell_type": "code",
   "execution_count": 14,
   "metadata": {},
   "outputs": [
    {
     "data": {
      "text/plain": [
       "(213, 5)"
      ]
     },
     "execution_count": 14,
     "metadata": {},
     "output_type": "execute_result"
    }
   ],
   "source": [
    "#7일을 제외했기에 220이 아닌 213이다.\n",
    "np.array(test_df)\n",
    "test_df.shape"
   ]
  },
  {
   "cell_type": "code",
   "execution_count": 15,
   "metadata": {},
   "outputs": [],
   "source": [
    "X_test, y_test = build_dataset(np.array(test_df), seq_length)"
   ]
  },
  {
   "cell_type": "markdown",
   "metadata": {},
   "source": [
    "### build_dataset을 하고 난 뒤 train(특징x, 타겟y)과 test(특징x, 타겟y) "
   ]
  },
  {
   "cell_type": "code",
   "execution_count": 16,
   "metadata": {},
   "outputs": [
    {
     "name": "stdout",
     "output_type": "stream",
     "text": [
      "(505, 7, 5) (505, 1)\n"
     ]
    }
   ],
   "source": [
    "print(X_train.shape,y_train.shape)"
   ]
  },
  {
   "cell_type": "code",
   "execution_count": 17,
   "metadata": {},
   "outputs": [
    {
     "data": {
      "text/plain": [
       "(206, 7, 5)"
      ]
     },
     "execution_count": 17,
     "metadata": {},
     "output_type": "execute_result"
    }
   ],
   "source": [
    "#(206, 7, 5)\n",
    "#행의 수 (206)\n",
    "#시퀀스 길이 (7):각 입력 시퀀스는 7개의 연속된 시점을 포함하고 있다는 뜻입니다. \n",
    "#특성의 수 (5)\n",
    "X_test.shape"
   ]
  },
  {
   "cell_type": "code",
   "execution_count": 18,
   "metadata": {},
   "outputs": [
    {
     "data": {
      "text/plain": [
       "(206, 1)"
      ]
     },
     "execution_count": 18,
     "metadata": {},
     "output_type": "execute_result"
    }
   ],
   "source": [
    "#행의 수 (206)\n",
    "#타겟의 수 (1)\n",
    "y_test.shape"
   ]
  },
  {
   "cell_type": "markdown",
   "metadata": {},
   "source": [
    "### 텐서로 변환"
   ]
  },
  {
   "cell_type": "code",
   "execution_count": 19,
   "metadata": {
    "id": "s-5G5UTerWsq"
   },
   "outputs": [],
   "source": [
    "\n",
    "# Q4. 텐서로 변환하세요.\n",
    "X_train_tensor = torch.FloatTensor(X_train)\n",
    "y_train_tensor = torch.FloatTensor(y_train)\n",
    "X_test_tensor = torch.FloatTensor(X_test)\n",
    "y_test_tensor = torch.FloatTensor(y_test)\n",
    "\n",
    "\n",
    "#훈련데이터로 만드는 데이터셋과 데이터로더\n",
    "\n",
    "#훈련 데이터셋은 모델을 훈련시키는 데 사용됩니다.\n",
    "dataset = TensorDataset(X_train_tensor, y_train_tensor)\n",
    "\n",
    "#배치 단위로 데이터를 섞어서 모델을 학습\n",
    "dataloader = DataLoader(dataset, batch_size=batch, shuffle=True, drop_last=True)"
   ]
  },
  {
   "cell_type": "code",
   "execution_count": 20,
   "metadata": {
    "id": "FLfJGevyrWsq"
   },
   "outputs": [],
   "source": [
    "import torch.nn as nn\n",
    "import torch.optim as optim\n",
    "\n",
    "# 설정값\n",
    "\n",
    "#입력 시퀀스의 특성 수 (5개 특성)\n",
    "data_dim = 5  \n",
    "\n",
    "#LSTM의 숨겨진 상태(hidden state)의 차원 수 (10)\n",
    "hidden_dim = 10\n",
    "\n",
    "#모델의 출력 차원 (예: 예측할 값의 개수, 1)\n",
    "output_dim = 1\n",
    "\n",
    "\n",
    "learning_rate = 0.01\n",
    "nb_epochs = 100\n",
    "\n",
    "\n",
    "class Net(nn.Module):\n",
    "    def __init__(self, input_dim, hidden_dim, seq_len, output_dim, layers):\n",
    "        super(Net, self).__init__()\n",
    "        self.hidden_dim = hidden_dim\n",
    "        self.seq_len = seq_len\n",
    "        self.output_dim = output_dim\n",
    "        self.layers = layers\n",
    "\n",
    "        # Q5. 아래 두 레이어를 작성하세요.\n",
    "        self.lstm = nn.LSTM(input_dim, hidden_dim, batch_first=True)\n",
    "        self.fc = nn.Linear(hidden_dim, output_dim)\n",
    "\n",
    "\n",
    "\n",
    "    #숨겨진 상태 (Hidden State): LSTM 네트워크의 현재 시점에서의 정보를 담고 있는 벡터입니다. 각 시점에서 LSTM의 출력이 이 벡터에 저장됩니다.\n",
    "   #셀 상태 (Cell State): 장기적인 의존성을 유지하는 데 도움이 되는 벡터입니다. 셀 상태는 시퀀스 전체에 걸쳐 정보를 유지하며, 장기적인 기억을 담당합니다.\n",
    "    #모델을 새롭게 학습할 때, 이전의 시퀀스에서의 상태가 현재 시퀀스에 영향을 미치지 않도록 하기 위해 숨겨진 상태와 셀 상태를 초기화합니다.\n",
    "    #LSTM의 숨겨진 상태와 셀 상태를 초기화하는 방법\n",
    "   #제로 초기화: 모든 값을 0으로 설정합니다. 이는 가장 일반적이고 직관적인 초기화 방법입니다.\n",
    "    def reset_hidden_state(self):\n",
    "        self.hidden = (\n",
    "            torch.zeros(self.layers, self.seq_len, self.hidden_dim),\n",
    "            torch.zeros(self.layers, self.seq_len, self.hidden_dim),\n",
    "        )\n",
    "\n",
    "    # Q6. forward 메서드를 작성하세요.\n",
    "    #x는 LSTM의 출력\n",
    "    #_는 LSTM의 숨겨진 상태(hidden state)와 셀 상태(cell state)입니다 (여기서는 사용하지 않음).\n",
    "    # x[:, -1] :시퀀스의 마지막 시점에서의 출력을 추출합니다. 이 벡터는 LSTM 네트워크가 시퀀스의 마지막 시점에서 학습한 정보를 담고 있습니다.\n",
    "    def forward(self, x):\n",
    "        x, _ = self.lstm(x)\n",
    "        x = self.fc(x[:, -1])\n",
    "        return x"
   ]
  },
  {
   "cell_type": "code",
   "execution_count": 21,
   "metadata": {
    "id": "yVmLFlZ5rWsq"
   },
   "outputs": [],
   "source": [
    "# verbose=10: 훈련 과정의 로그를 출력하는 빈도.10 에폭마다 로그를 출력합니다.\n",
    "#  patience=10: 조기 종료를 판단하기 위한 patience 값. 지정된 에폭 수 동안 개선이 없으면 조기 종료합니다.\n",
    "\n",
    "def train_model(model, train_df, num_epochs=None, lr=None, verbose=10, patience=10):\n",
    "    nb_epochs = num_epochs            # 훈련할 총 에폭 수를 설정합니다.\n",
    "    train_hist = np.zeros(nb_epochs)  # 각 에폭에서의 평균 손실(loss)을 기록할 배열\n",
    "    criterion = nn.MSELoss()\n",
    "    optimizer = optim.Adam(model.parameters(), lr=learning_rate)\n",
    "\n",
    "    for epoch in range(nb_epochs):\n",
    "        avg_cost = 0\n",
    "        total_batch = len(train_df)\n",
    "        for batch_idx, samples in enumerate(train_df):           # 데이터로더에서 배치 단위로 데이터를 가져옵니다.\n",
    "            x_train, y_train = samples                          # 입력 데이터와 레이블을 가져옵니다.\n",
    "            model.reset_hidden_state()\n",
    "            outputs = model(x_train)                             #모델을 통해 예측값을 계산\n",
    "            loss = criterion(outputs, y_train)\n",
    "            optimizer.zero_grad()                                #이전 배치에서 계산된 기울기를 초기화\n",
    "            loss.backward()                                      #손실에 대한 기울기를 계산\n",
    "            optimizer.step()                                    # 기울기를 사용하여 모델의 매개변수를 업데이트합니다.\n",
    "            avg_cost += loss / total_batch                       #평균 손실을 업데이트\n",
    "        train_hist[epoch] = avg_cost                             #에폭의 평균 손실,각 배치의 손실을 total_batch로 나누어 평균 손실을 누적하는 방식입니다.\n",
    "        if epoch % verbose == 0:\n",
    "            print(\"Epoch:\", \"%04d\" % (epoch), \"train loss :\", \"{:.4f}\".format(avg_cost))\n",
    "\n",
    "        # patience번째 마다 early stopping 여부 확인\n",
    "        if (epoch % patience == 0) & (epoch != 0):\n",
    "            # loss가 커졌다면 early stop\n",
    "            if train_hist[epoch - patience] < train_hist[epoch]:      #현재 에폭의 손실이 patience 이전 에폭의 손실보다 크면 조기 종료를 합니다.\n",
    "                print(\"\\n Early Stopping\")\n",
    "                break\n",
    "\n",
    "    return model.eval(), train_hist       #모델을 평가 모드로 전환"
   ]
  },
  {
   "cell_type": "code",
   "execution_count": 22,
   "metadata": {
    "colab": {
     "base_uri": "https://localhost:8080/"
    },
    "id": "ybBLViDPrWsq",
    "outputId": "de9e754b-4e2c-4d21-8a3a-5c6ca6163e75"
   },
   "outputs": [
    {
     "name": "stdout",
     "output_type": "stream",
     "text": [
      "Epoch: 0000 train loss : 0.1308\n",
      "Epoch: 0020 train loss : 0.0020\n",
      "Epoch: 0040 train loss : 0.0017\n",
      "Epoch: 0060 train loss : 0.0017\n",
      "\n",
      " Early Stopping\n"
     ]
    }
   ],
   "source": [
    "net = Net(data_dim, hidden_dim, seq_length, output_dim, 1)\n",
    "model, train_hist = train_model(\n",
    "    net, dataloader, num_epochs=nb_epochs, lr=learning_rate, verbose=20, patience=10\n",
    ")"
   ]
  },
  {
   "cell_type": "code",
   "execution_count": 23,
   "metadata": {
    "colab": {
     "base_uri": "https://localhost:8080/",
     "height": 368
    },
    "id": "XntY-RAirWsq",
    "outputId": "3b0c1125-d191-4c47-b94a-e55c84c60b98"
   },
   "outputs": [
    {
     "data": {
      "image/png": "[encoded data removed]",
      "text/plain": [
       "<Figure size 1000x400 with 1 Axes>"
      ]
     },
     "metadata": {},
     "output_type": "display_data"
    }
   ],
   "source": [
    "# epoch별 손실값\n",
    "fig = plt.figure(figsize=(10, 4))\n",
    "plt.plot(train_hist, label=\"Training loss\")\n",
    "plt.legend()\n",
    "plt.show()"
   ]
  },
  {
   "cell_type": "markdown",
   "metadata": {},
   "source": [
    "### 모델 저장\n",
    "PATH = \"stock_daily_.pth\"에서 PATH에 지정된 경로는 현재 작업 디렉토리(working directory)에 상대적인 경로입니다. 파일 경로와 관련된 내용을 자세히 설명하겠습니다. <br />\n",
    "\n",
    "예를 들어, 코드가 /home/user/projects 디렉토리에서 실행되고 있고, PATH = \"stock_daily_.pth\"로 지정하면, 파일은 /home/user/projects/stock_daily_.pth에 저장됩니다."
   ]
  },
  {
   "cell_type": "code",
   "execution_count": 24,
   "metadata": {
    "colab": {
     "base_uri": "https://localhost:8080/"
    },
    "id": "bso7NtXurWsr",
    "outputId": "a777e24d-dc64-428e-ac4d-e0030c55487b"
   },
   "outputs": [],
   "source": [
    "# 모델 저장\n",
    "#PATH: 저장할 파일의 경로와 파일 이름을 나타냅니다. 여기서는 \"stock_daily_.pth\"라는 이름의 파일에 저장됩니다.\n",
    "# .pth 확장자는 PyTorch 모델을 저장하는 데 사용되는 일반적인 파일 확장자입니다.\n",
    "PATH = \"stock_daily_.pth\"\n",
    "\n",
    "#torch.save: PyTorch에서 텐서나 모델의 상태를 파일에 저장하는 함수입니다.\n",
    "#첫 번째 인자는 저장할 객체입니다.\n",
    "#두 번째 인자는 저장할 경로와 파일 이름입니다.\n",
    "\n",
    "#state_dict: PyTorch 모델의 모든 파라미터와 버퍼를 포함하는 딕셔너리입니다.\n",
    "#모델의 모든 학습된 가중치(weight)와 편향(bias), 그리고 모델의 다른 상태 정보가 포함되어 있습니다.\n",
    "torch.save(model.state_dict(), PATH)\n",
    "\n",
    "\n"
   ]
  },
  {
   "cell_type": "code",
   "execution_count": 25,
   "metadata": {},
   "outputs": [
    {
     "name": "stderr",
     "output_type": "stream",
     "text": [
      "C:\\Users\\user\\AppData\\Local\\Temp\\ipykernel_7836\\2266513240.py:6: FutureWarning: You are using `torch.load` with `weights_only=False` (the current default value), which uses the default pickle module implicitly. It is possible to construct malicious pickle data which will execute arbitrary code during unpickling (See https://github.com/pytorch/pytorch/blob/main/SECURITY.md#untrusted-models for more details). In a future release, the default value for `weights_only` will be flipped to `True`. This limits the functions that could be executed during unpickling. Arbitrary objects will no longer be allowed to be loaded via this mode unless they are explicitly allowlisted by the user via `torch.serialization.add_safe_globals`. We recommend you start setting `weights_only=True` for any use case where you don't have full control of the loaded file. Please open an issue on GitHub for any issues related to this experimental feature.\n",
      "  model.load_state_dict(torch.load(PATH), strict=False)\n"
     ]
    },
    {
     "data": {
      "text/plain": [
       "Net(\n",
       "  (lstm): LSTM(5, 10, batch_first=True)\n",
       "  (fc): Linear(in_features=10, out_features=1, bias=True)\n",
       ")"
      ]
     },
     "execution_count": 25,
     "metadata": {},
     "output_type": "execute_result"
    }
   ],
   "source": [
    "\n",
    "\n",
    "# 불러오기\n",
    "#1)모델 구조 정의\n",
    "model = Net(data_dim, hidden_dim, seq_length, output_dim, 1)\n",
    "\n",
    "#2)저장된 파라미터 로드\n",
    "model.load_state_dict(torch.load(PATH), strict=False)\n",
    "\n",
    "#3)모델을 평가 모드로 전환 (필요한 경우)\n",
    "model.eval()"
   ]
  },
  {
   "cell_type": "markdown",
   "metadata": {},
   "source": [
    "### PyTorch 모델을 사용하여 테스트 데이터셋에 대한 예측을 수행하고, 예측 결과를 원래 스케일로 되돌린 후, 실제 값과 예측 값 간의 평균 절대 오차(Mean Absolute Error, MAE)를 계산하는 과정입니다"
   ]
  },
  {
   "cell_type": "markdown",
   "metadata": {},
   "source": [
    "#### 1) with torch.no_grad()::\n",
    "이 블록 안에서는 그래디언트를 계산하지 않습니다. 이는 예측 모드에서 메모리 사용량과 연산 속도를 줄이는 데 유용합니다. 특히, 평가 또는 예측을 할 때는 그래디언트 계산이 필요 없으므로 효율적입니다."
   ]
  },
  {
   "cell_type": "code",
   "execution_count": 27,
   "metadata": {},
   "outputs": [
    {
     "data": {
      "text/plain": [
       "torch.Size([206, 7, 5])"
      ]
     },
     "execution_count": 27,
     "metadata": {},
     "output_type": "execute_result"
    }
   ],
   "source": [
    "X_test_tensor.shape"
   ]
  },
  {
   "cell_type": "markdown",
   "metadata": {},
   "source": [
    "#### 2)torch.unsqueeze(X_test_tensor[0], 0) <br />\n",
    "torch.unsqueeze(input, dim): 주어진 차원 dim에 새로운 차원을 추가합니다.    <br />\n",
    "\n",
    "input: 텐서  <br />\n",
    "dim: 추가할 차원의 위치  <br /> \n",
    "X_test_tensor[0]: 첫 번째 샘플을 선택한 텐서로, 형태는 [7, 5]입니다.  <br />\n",
    "\n",
    "torch.unsqueeze(X_test_tensor[0], 0):  <br />\n",
    "\n",
    "dim=0에 새로운 차원을 추가합니다.  <br />\n",
    "결과적으로 텐서의 형태가 [1, 7, 5]로 변환됩니다.  <br /> \n",
    "이는 첫 번째 차원이 배치 차원이 되며, batch_size=1로 설정된 것입니다. <br />"
   ]
  },
  {
   "cell_type": "markdown",
   "metadata": {},
   "source": [
    "#### 3)torch.flatten(input): 입력 텐서를 1차원으로 평탄화합니다.\n",
    "입력: predicted 텐서, 예를 들어 형태가 [1, 1]인 경우.\n",
    "출력: 모든 차원을 평탄화하여 1차원 텐서를 생성합니다. 따라서 [1, 1] 형태의 텐서는 [1] 형태로 변환됩니다."
   ]
  },
  {
   "cell_type": "markdown",
   "metadata": {},
   "source": [
    "#### 4) .item()\n",
    "item(): 텐서가 단일 값(스칼라)일 때, 이 값을 파이썬 숫자로 변환합니다.\n",
    "텐서가 하나의 값만 포함하고 있을 때, 이 값을 Python의 기본 데이터 타입으로 변환합니다. 일반적으로 float, int 등이 될 수 있습니다."
   ]
  },
  {
   "cell_type": "markdown",
   "metadata": {},
   "source": [
    "#### 5)   pred_inverse = scaler_y.inverse_transform(np.array(pred).reshape(-1, 1))\n",
    "np.array(pred): pred 리스트를 NumPy 배열로 변환합니다. pred는 모델의 예측 결과를 담고 있는 리스트입니다. <br /> <br />\n",
    ".reshape(-1, 1): 배열의 형태를 (n, 1)로 변환합니다. 여기서 -1은 NumPy가 자동으로 크기를 결정하도록 하는 특수한 값입니다.<br /> \n",
    "이 단계는 scaler_y.inverse_transform 메서드가 2D 배열을 요구하기 때문에 필요합니다. 모델 예측값이 1차원 배열이므로, 이를 2차원 배열로 변환합니다.<br /><br />\n",
    "scaler_y.inverse_transform(...): scaler_y: 예측값을 스케일링할 때 사용한 스케일러입니다. MinMaxScaler <br />\n",
    "inverse_transform: 스케일링된 데이터를 원래의 스케일로 변환합니다. <br /><br />\n",
    "np.array(pred).reshape(-1, 1)은 모델의 예측값이 스케일링된 상태이므로, 이를 원래의 값으로 복원합니다.<br />"
   ]
  },
  {
   "cell_type": "markdown",
   "metadata": {},
   "source": [
    "### 6) Mean Absolute Error (평균 절대 오차)를 계산하는 함수\n",
    "매개변수 <br />\n",
    "true: 실제 값(ground truth) 배열입니다. 실제 관측값이나 정답 데이터입니다.  <br />\n",
    "pred: 모델의 예측값 배열입니다. 모델이 예측한 값들입니다.  <br />\n",
    " <br />\n",
    " \n",
    "함수의 동작 <br />\n",
    "true - pred: 실제 값과 예측 값의 차이를 계산합니다. 이 차이는 오차(오차)입니다. 각 데이터 포인트에서 예측 값이 실제 값과 얼마나 다른지를 나타냅니다.  <br />\n",
    "np.abs(true - pred):\n",
    "계산된 오차의 절대값을 구합니다. 절대값을 취하는 이유는 오차의 부호를 무시하고 크기만을 중요시하기 때문입니다. 예를 들어, 예측값이 실제값보다 클 수도 있고 작을 수도 있으므로 절대값을 사용하여 모든 오차를 양수로 변환합니다. <br />\n",
    "np.mean(np.abs(true - pred)):\n",
    "절대 오차의 평균을 계산합니다. 이는 평균 절대 오차(MAE)를 구하는 과정입니다. MAE는 전체 오차의 평균을 계산하여 모델의 예측 성능을 평가하는 지표입니다."
   ]
  },
  {
   "cell_type": "code",
   "execution_count": 28,
   "metadata": {
    "colab": {
     "base_uri": "https://localhost:8080/"
    },
    "id": "t0t4zylErWsr",
    "outputId": "c25cb7bf-8615-4f28-8b04-9c9898151610"
   },
   "outputs": [
    {
     "name": "stdout",
     "output_type": "stream",
     "text": [
      "MAE SCORE :  7.360441920782076\n"
     ]
    }
   ],
   "source": [
    "# 예측 테스트 (test 데이터를 이용)\n",
    "with torch.no_grad():\n",
    "    pred = []                                              # 예측 값을 저장할 빈 리스트를 초기화\n",
    "    for pr in range(len(X_test_tensor)):\n",
    "\n",
    "        model.reset_hidden_state()\n",
    "\n",
    "        predicted = model(torch.unsqueeze(X_test_tensor[pr], 0))\n",
    "        predicted = torch.flatten(predicted).item()         #예측값을 1차원으로 변환하고, 파이썬 숫자(float)로 변환합니다.\n",
    "        pred.append(predicted)\n",
    "\n",
    "    # INVERSE\n",
    "    pred_inverse = scaler_y.inverse_transform(np.array(pred).reshape(-1, 1))\n",
    "    y_test_inverse = scaler_y.inverse_transform(y_test_tensor)                             # y_test_tensor.shape 은  [206,1] 2D 형태이기 때문에: 이미 올바른 형태로 되어 있어, 스케일러의 inverse_transform을 직접 적용하여 원래 스케일로 변환할 수 있습니다.\n",
    "\n",
    "\n",
    "def MAE(true, pred):\n",
    "    return np.mean(np.abs(true - pred))\n",
    "\n",
    "\n",
    "print(\"MAE SCORE : \", MAE( y_test_inverse,pred_inverse))"
   ]
  },
  {
   "cell_type": "code",
   "execution_count": null,
   "metadata": {},
   "outputs": [],
   "source": []
  }
 ],
 "metadata": {
  "colab": {
   "provenance": []
  },
  "kernelspec": {
   "display_name": "Python 3 (ipykernel)",
   "language": "python",
   "name": "python3"
  },
  "language_info": {
   "codemirror_mode": {
    "name": "ipython",
    "version": 3
   },
   "file_extension": ".py",
   "mimetype": "text/x-python",
   "name": "python",
   "nbconvert_exporter": "python",
   "pygments_lexer": "ipython3",
   "version": "3.12.3"
  }
 },
 "nbformat": 4,
 "nbformat_minor": 4
}
