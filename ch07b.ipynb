{
 "cells": [
  {
   "cell_type": "code",
   "execution_count": 1,
   "id": "016e170b-a1de-4a68-9eaa-0ffd678c555b",
   "metadata": {},
   "outputs": [],
   "source": [
    "import pandas as pd\n",
    "import numpy as np\n",
    "import matplotlib.pyplot as plt\n",
    "from datetime import datetime\n",
    "        \n",
    "from statsmodels.tsa.arima_model import ARIMA               \n",
    "from sklearn.metrics import mean_squared_error\n",
    "from statsmodels.tsa.statespace.sarimax import SARIMAX\n"
   ]
  },
  {
   "cell_type": "code",
   "execution_count": 2,
   "id": "dd3b0087-9d7c-43ec-b827-2a7cad4accab",
   "metadata": {},
   "outputs": [],
   "source": [
    "#series=pd.read_csv(\"080289/chap07/data/sales.csv\")\n",
    "#series.head()"
   ]
  },
  {
   "cell_type": "code",
   "execution_count": 3,
   "id": "2791b293-e3d1-4eec-b4a2-b6fd66dee2dc",
   "metadata": {},
   "outputs": [
    {
     "data": {
      "text/html": [
       "<div>\n",
       "<style scoped>\n",
       "    .dataframe tbody tr th:only-of-type {\n",
       "        vertical-align: middle;\n",
       "    }\n",
       "\n",
       "    .dataframe tbody tr th {\n",
       "        vertical-align: top;\n",
       "    }\n",
       "\n",
       "    .dataframe thead th {\n",
       "        text-align: right;\n",
       "    }\n",
       "</style>\n",
       "<table border=\"1\" class=\"dataframe\">\n",
       "  <thead>\n",
       "    <tr style=\"text-align: right;\">\n",
       "      <th></th>\n",
       "      <th>Sales</th>\n",
       "    </tr>\n",
       "    <tr>\n",
       "      <th>Month</th>\n",
       "      <th></th>\n",
       "    </tr>\n",
       "  </thead>\n",
       "  <tbody>\n",
       "    <tr>\n",
       "      <th>1-01</th>\n",
       "      <td>266.0</td>\n",
       "    </tr>\n",
       "    <tr>\n",
       "      <th>1-02</th>\n",
       "      <td>145.9</td>\n",
       "    </tr>\n",
       "    <tr>\n",
       "      <th>1-03</th>\n",
       "      <td>183.1</td>\n",
       "    </tr>\n",
       "    <tr>\n",
       "      <th>1-04</th>\n",
       "      <td>119.3</td>\n",
       "    </tr>\n",
       "    <tr>\n",
       "      <th>1-05</th>\n",
       "      <td>180.3</td>\n",
       "    </tr>\n",
       "  </tbody>\n",
       "</table>\n",
       "</div>"
      ],
      "text/plain": [
       "       Sales\n",
       "Month       \n",
       "1-01   266.0\n",
       "1-02   145.9\n",
       "1-03   183.1\n",
       "1-04   119.3\n",
       "1-05   180.3"
      ]
     },
     "execution_count": 3,
     "metadata": {},
     "output_type": "execute_result"
    }
   ],
   "source": [
    "#index_col=0: 첫 번째 열을 데이터프레임의 인덱스로 사용합니다. 이는 일반적으로 날짜나 시간 정보가 포함된 열입니다.\n",
    "#parse_dates=[0]: 첫 번째 열을 날짜로 파싱합니다. 이를 통해 pandas는 이 열을 datetime 객체로 변환하여 시계열 데이터로 처리합니다.\n",
    "series=pd.read_csv(\"080289/chap07/data/sales.csv\", index_col=0, date_format=\"%Y-%m\", parse_dates=[0])\n",
    "series.head()"
   ]
  },
  {
   "cell_type": "code",
   "execution_count": 10,
   "id": "0ee2f53a-1db2-4a24-9124-b79a1cc18a6b",
   "metadata": {},
   "outputs": [
    {
     "data": {
      "text/plain": [
       "Index(['1-01', '1-02', '1-03', '1-04', '1-05', '1-06', '1-07', '1-08', '1-09',\n",
       "       '1-10', '1-11', '1-12', '2-01', '2-02', '2-03', '2-04', '2-05', '2-06',\n",
       "       '2-07', '2-08', '2-09', '2-10', '2-11', '2-12', '3-01', '3-02', '3-03',\n",
       "       '3-04', '3-05', '3-06', '3-07', '3-08', '3-09', '3-10', '3-11', '3-12'],\n",
       "      dtype='object', name='Month')"
      ]
     },
     "execution_count": 10,
     "metadata": {},
     "output_type": "execute_result"
    }
   ],
   "source": [
    "series.index"
   ]
  },
  {
   "cell_type": "code",
   "execution_count": 4,
   "id": "87e7921b-1bec-4fe0-a020-7122312a7eef",
   "metadata": {},
   "outputs": [],
   "source": [
    "\n",
    "X=series.values                               # 인덱스 Month 제외한 값 : Sales\n",
    "X=np.nan_to_num(X)                           #NaN 값을 0으로 변환합니다.\n",
    "size = int(len(X) * 0.66)                    #여기서 66%는 훈련 세트에, 나머지 34%는 테스트 세트에 할당됩니다.\n",
    "train, test = X[0:size], X[size:len(X)]\n",
    "\n",
    "# 히스토리 및 예측 초기화\n",
    "history=[x for x in train]\n",
    "predictions=[]"
   ]
  },
  {
   "cell_type": "code",
   "execution_count": 5,
   "id": "7cbc3357-25a0-42a7-b9af-56a595f4b413",
   "metadata": {},
   "outputs": [
    {
     "data": {
      "text/plain": [
       "(23, 36)"
      ]
     },
     "execution_count": 5,
     "metadata": {},
     "output_type": "execute_result"
    }
   ],
   "source": [
    "size, len(X)"
   ]
  },
  {
   "cell_type": "markdown",
   "id": "1508f78e-ae4a-4be7-8304-2173ca4223ab",
   "metadata": {},
   "source": [
    "훈련 세트 (train): 데이터의 처음 23개 샘플입니다. 즉, X[0:size]는 X[0:23]으로, 시계열의 처음부터 23번째 샘플까지 포함합니다.  <br />\n",
    "테스트 세트 (test): 데이터의 나머지 부분입니다. 즉, X[size:len(X)]는 X[23:36]으로, 24번째 샘플부터 마지막 36번째 샘플까지 포함합니다."
   ]
  },
  {
   "cell_type": "code",
   "execution_count": 6,
   "id": "bc088777-8ae4-4b08-88ae-f8139f00f5d3",
   "metadata": {},
   "outputs": [
    {
     "name": "stderr",
     "output_type": "stream",
     "text": [
      "C:\\Users\\user\\AppData\\Local\\Temp\\ipykernel_1036\\3361153523.py:9: DeprecationWarning: Conversion of an array with ndim > 0 to a scalar is deprecated, and will error in future. Ensure you extract a single element from your array before performing this operation. (Deprecated NumPy 1.25.)\n",
      "  print('predicted=%f, expected=%f' % (yhat, obs))\n"
     ]
    },
    {
     "name": "stdout",
     "output_type": "stream",
     "text": [
      "predicted=202.919983, expected=346.300000\n",
      "predicted=208.954809, expected=329.700000\n",
      "predicted=212.667221, expected=445.400000\n",
      "predicted=220.258910, expected=325.900000\n",
      "predicted=224.260512, expected=449.300000\n",
      "predicted=230.428286, expected=411.300000\n",
      "predicted=236.292764, expected=417.400000\n",
      "predicted=242.537781, expected=545.500000\n",
      "predicted=249.036160, expected=477.600000\n",
      "predicted=255.975667, expected=687.000000\n",
      "predicted=268.827697, expected=435.300000\n",
      "predicted=273.509390, expected=587.300000\n",
      "predicted=282.293906, expected=676.900000\n"
     ]
    }
   ],
   "source": [
    "for t in range(len(test)):\n",
    "    model=SARIMAX(history, order=(5,1,0))            #p=5: 자기회귀(AR) 항의 수       d=1: 차분의 수              q=0: 이동평균(MA) 항의 수\n",
    "    model_fit= model.fit(disp=False)               #disp=False는 모델 훈련 과정의 출력을 표시하지 않도록 설정합니다.\n",
    "    output=model_fit.predict()\n",
    "    yhat=output.mean()                              #단일 예측값 선택: output[0]는 현재 시점의 예측값을 선택합니다.\n",
    "    predictions.append(yhat)\n",
    "    obs=test[t]                                      #관측값 저장: test[t]는 현재 시점의 실제 관측값입니다.\n",
    "    history.append(obs)                               #히스토리에 추가: 실제 관측값을 history 리스트에 추가합니다. 이렇게 하면 이후 예측에 사용됩니다.\n",
    "    print('predicted=%f, expected=%f' % (yhat, obs))\n",
    "    \n",
    "                 "
   ]
  },
  {
   "cell_type": "code",
   "execution_count": 7,
   "id": "5ca276c1-03bd-4710-b9e2-d5b9d2431ac9",
   "metadata": {},
   "outputs": [],
   "source": [
    "def mse(y_true, y_pred):\n",
    "    return np.mean((y_true - y_pred) ** 2)"
   ]
  },
  {
   "cell_type": "code",
   "execution_count": 9,
   "id": "6ba6e882-4839-418b-95ee-287028581698",
   "metadata": {},
   "outputs": [
    {
     "data": {
      "text/plain": [
       "192299.49269658665"
      ]
     },
     "execution_count": 9,
     "metadata": {},
     "output_type": "execute_result"
    }
   ],
   "source": [
    "mse_value = mse(obs,  predictions)\n",
    "mse_value "
   ]
  },
  {
   "cell_type": "code",
   "execution_count": null,
   "id": "d3b17719-ede4-4913-b86e-ffcde1cd363b",
   "metadata": {},
   "outputs": [],
   "source": []
  }
 ],
 "metadata": {
  "kernelspec": {
   "display_name": "Python 3 (ipykernel)",
   "language": "python",
   "name": "python3"
  },
  "language_info": {
   "codemirror_mode": {
    "name": "ipython",
    "version": 3
   },
   "file_extension": ".py",
   "mimetype": "text/x-python",
   "name": "python",
   "nbconvert_exporter": "python",
   "pygments_lexer": "ipython3",
   "version": "3.12.3"
  }
 },
 "nbformat": 4,
 "nbformat_minor": 5
}
