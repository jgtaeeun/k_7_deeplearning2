{
 "cells": [
  {
   "cell_type": "markdown",
   "id": "ae893dbb-1aa9-4fae-965a-b08d3bc7bd8c",
   "metadata": {},
   "source": [
    "교재 374쪽     LSTM을 쓰기 위한 IMDB 준비과정"
   ]
  },
  {
   "cell_type": "code",
   "execution_count": 1,
   "id": "5cfaa1ac-607c-4740-862e-ec52f60ba300",
   "metadata": {},
   "outputs": [],
   "source": [
    "#!pip install torchtext==0.6.0"
   ]
  },
  {
   "cell_type": "code",
   "execution_count": 2,
   "id": "a80d14c4-ea39-46ff-a272-6a28bbd86187",
   "metadata": {},
   "outputs": [],
   "source": [
    "import numpy as np\n",
    "import pandas as pd\n",
    "import matplotlib.pyplot as plt\n",
    "import FinanceDataReader as fdr\n",
    "\n",
    "import torch\n",
    "import torch.nn as nn\n",
    "import torch.nn.functional as F\n",
    "import time\n",
    "\n",
    "import torchtext"
   ]
  },
  {
   "cell_type": "code",
   "execution_count": 3,
   "id": "8b8564b8-00c4-42f6-bc6d-bf50fb8484fa",
   "metadata": {},
   "outputs": [],
   "source": [
    "TEXT=torchtext.data.Field(lower=True, fix_length=200, batch_first=False)\n",
    "LABLE=torchtext.data.Field(sequential=False)"
   ]
  },
  {
   "cell_type": "code",
   "execution_count": 4,
   "id": "d548385e-77be-434e-a673-8d30b00704c5",
   "metadata": {},
   "outputs": [],
   "source": [
    "from torchtext.datasets import IMDB\n",
    "train_data, test_data=IMDB.splits(TEXT, LABLE)\n"
   ]
  },
  {
   "cell_type": "code",
   "execution_count": 5,
   "id": "a554b9f1-2fa9-4e81-91f0-fd78d2bc9dbd",
   "metadata": {},
   "outputs": [
    {
     "name": "stdout",
     "output_type": "stream",
     "text": [
      "{'text': ['bromwell', 'high', 'is', 'a', 'cartoon', 'comedy.', 'it', 'ran', 'at', 'the', 'same', 'time', 'as', 'some', 'other', 'programs', 'about', 'school', 'life,', 'such', 'as', '\"teachers\".', 'my', '35', 'years', 'in', 'the', 'teaching', 'profession', 'lead', 'me', 'to', 'believe', 'that', 'bromwell', \"high's\", 'satire', 'is', 'much', 'closer', 'to', 'reality', 'than', 'is', '\"teachers\".', 'the', 'scramble', 'to', 'survive', 'financially,', 'the', 'insightful', 'students', 'who', 'can', 'see', 'right', 'through', 'their', 'pathetic', \"teachers'\", 'pomp,', 'the', 'pettiness', 'of', 'the', 'whole', 'situation,', 'all', 'remind', 'me', 'of', 'the', 'schools', 'i', 'knew', 'and', 'their', 'students.', 'when', 'i', 'saw', 'the', 'episode', 'in', 'which', 'a', 'student', 'repeatedly', 'tried', 'to', 'burn', 'down', 'the', 'school,', 'i', 'immediately', 'recalled', '.........', 'at', '..........', 'high.', 'a', 'classic', 'line:', 'inspector:', \"i'm\", 'here', 'to', 'sack', 'one', 'of', 'your', 'teachers.', 'student:', 'welcome', 'to', 'bromwell', 'high.', 'i', 'expect', 'that', 'many', 'adults', 'of', 'my', 'age', 'think', 'that', 'bromwell', 'high', 'is', 'far', 'fetched.', 'what', 'a', 'pity', 'that', 'it', \"isn't!\"], 'label': 'pos'}\n"
     ]
    }
   ],
   "source": [
    "print(vars(train_data.examples[0]))"
   ]
  },
  {
   "cell_type": "markdown",
   "id": "d443cf01-4e80-47bb-b412-7c89e8ae1fea",
   "metadata": {},
   "source": [
    "## 전처리\n"
   ]
  },
  {
   "cell_type": "code",
   "execution_count": 6,
   "id": "5920efba-338d-4f11-8669-2fec43a758da",
   "metadata": {},
   "outputs": [],
   "source": [
    "import string\n",
    "for example in train_data.examples:\n",
    "    text= [x.lower() for x in vars(example)[\"text\"]]                             # 소문자로 변경\n",
    "    text= [x.replace(\"<br\" , \"\" )for x in text]\n",
    "    text=[\"\".join(c for c in s if c not in string.punctuation) for s in text]   #불용어 처리\n",
    "    text=[s for s in text if s]                                                   #null이나 인식하지 못하는 값 삭제\n",
    "    vars(example)[\"text\"]=text\n",
    "\n",
    "for example in test_data.examples:\n",
    "    text= [x.lower() for x in vars(example)[\"text\"]]                             # 소문자로 변경\n",
    "    text= [x.replace(\"<br\" , \"\" )for x in text]\n",
    "    text=[\"\".join(c for c in s if c not in string.punctuation) for s in text]   #불용어 처리\n",
    "    text=[s for s in text if s]                                                   #null이나 인식하지 못하는 값 삭제\n",
    "    vars(example)[\"text\"]=text"
   ]
  },
  {
   "cell_type": "code",
   "execution_count": 7,
   "id": "26438e55-ab66-49f8-b99f-56ee413df2ee",
   "metadata": {},
   "outputs": [],
   "source": [
    "import random\n",
    "train_data, valid_data=train_data.split(random_state=random.seed(42), split_ratio=0.8)"
   ]
  },
  {
   "cell_type": "code",
   "execution_count": 8,
   "id": "e19ebe04-0a61-4775-8959-4b0e298580ef",
   "metadata": {},
   "outputs": [],
   "source": [
    "TEXT.build_vocab(train_data, max_size=10000, min_freq=10, vectors =None)\n",
    "LABLE.build_vocab(train_data, max_size=10000, min_freq=10, vectors =None)\n"
   ]
  },
  {
   "cell_type": "code",
   "execution_count": 9,
   "id": "00cdd218-d88b-49d9-96ea-bf9eb5c0dc0e",
   "metadata": {},
   "outputs": [],
   "source": [
    "embedding_dim=100\n",
    "BATCH_SIZE=64\n",
    "hidden_size=300\n",
    "\n",
    "train_iterator, valid_iterator, test_iterator =torchtext.data.BucketIterator.splits(\n",
    "    (train_data, valid_data, test_data), \n",
    "    batch_size=BATCH_SIZE\n",
    ")"
   ]
  },
  {
   "cell_type": "code",
   "execution_count": 10,
   "id": "2c8bd14b-f89a-427d-bc35-ed1bc4557f9a",
   "metadata": {},
   "outputs": [],
   "source": [
    "\n",
    "        \n",
    "class LSTMCell_Encoder(nn.Module):\n",
    "    def __init__(self, input_dim, hidden_size):\n",
    "        super(LSTMCell_Encoder, self).__init__()\n",
    "        self.rnn = nn.LSTMCell(input_dim, hidden_size)\n",
    "\n",
    "    def forward(self, inputs):\n",
    "        bz = inputs.shape[1]\n",
    "        ht = torch.zeros((bz, hidden_size))\n",
    "        ct =torch.zeros((bz, hidden_size))\n",
    "        for word in inputs:\n",
    "            ht = self.lstm(word, (ht, ct))\n",
    "        return ht\n",
    "        \n",
    "class Net(nn.Module):\n",
    "    def __init__(self):\n",
    "        super(Net, self).__init__()\n",
    "        self.em = nn.Embedding(len(TEXT.vocab.stoi),embedding_dim)       #출력크기 embedding_dim=100\n",
    "        self.rnn = LSTMCell_Encoder(embedding_dim, hidden_size)             #출력크기 hidden_size=300\n",
    "        self.fc1 = nn.Linear(hidden_size, 256)\n",
    "        self.fc2 = nn.Linear(256, 3)\n",
    "\n",
    "    def forward(self, x):\n",
    "        x = self.em(x)\n",
    "        x = self.rnn(x)\n",
    "        x = F.relu(self.fc1(x))\n",
    "        x = self.fc2(x)\n",
    "        return x"
   ]
  },
  {
   "cell_type": "code",
   "execution_count": 11,
   "id": "343b5f59-fb92-44ae-95aa-637ea4c73634",
   "metadata": {},
   "outputs": [],
   "source": [
    "model = Net()\n",
    "loss_fn = nn.CrossEntropyLoss()\n",
    "optimizer = torch.optim.Adam(model.parameters(), lr=0.0001)"
   ]
  },
  {
   "cell_type": "code",
   "execution_count": 21,
   "id": "5ef4889c-954f-4a52-97ec-104ed8261d3a",
   "metadata": {},
   "outputs": [],
   "source": [
    "def training(epoch, model, trainloader, validloader):\n",
    "    correct = 0\n",
    "    total = 0\n",
    "    running_loss = 0\n",
    "\n",
    "    model.train()\n",
    "    for b in trainloader:\n",
    "        x, y = b\n",
    "        x, y = x.to, y.to\n",
    "        y_pred = model(x)\n",
    "        loss = loss_fn(y_pred, y)\n",
    "        optimizer.zero_grad()\n",
    "        loss.backward()\n",
    "        optimizer.step()\n",
    "        with torch.no_grad():\n",
    "            y_pred = torch.argmax(y_pred, dim=1)\n",
    "            correct += (y_pred == y).sum().item()\n",
    "            total += y.size(0)\n",
    "            running_loss += loss.item()\n",
    "    epoch_loss = running_loss / len(trainloader.dataset)\n",
    "    epoch_acc = correct / total\n",
    "\n",
    "    valid_correct = 0\n",
    "    valid_total = 0\n",
    "    valid_running_loss = 0\n",
    "\n",
    "    model.eval()\n",
    "    with torch.no_grad():\n",
    "        for b in validloader:\n",
    "            x, y = b\n",
    "            x, y = x.to, y.to\n",
    "            y_pred = model(x)\n",
    "            loss = loss_fn(y_pred, y)\n",
    "            y_pred = torch.argmax(y_pred, dim=1)\n",
    "            valid_correct += (y_pred == y).sum().item()\n",
    "            valid_total += y.size(0)\n",
    "            valid_running_loss += loss.item()\n",
    "\n",
    "    epoch_valid_loss = valid_running_loss / len(validloader.dataset)\n",
    "    epoch_valid_acc = valid_correct / valid_total\n",
    "\n",
    "    print('epoch: ', epoch,\n",
    "          'loss： ', round(epoch_loss, 3),\n",
    "          'accuracy:', round(epoch_acc, 3),\n",
    "          'valid_loss： ', round(epoch_valid_loss, 3),\n",
    "          'valid_accuracy:', round(epoch_valid_acc, 3)\n",
    "          )\n",
    "    return epoch_loss, epoch_acc, epoch_valid_loss, epoch_valid_acc"
   ]
  },
  {
   "cell_type": "code",
   "execution_count": 22,
   "id": "85935fb8-4019-4a4f-9123-c332590275f0",
   "metadata": {},
   "outputs": [
    {
     "ename": "AttributeError",
     "evalue": "'tuple' object has no attribute 'to'",
     "output_type": "error",
     "traceback": [
      "\u001b[1;31m---------------------------------------------------------------------------\u001b[0m",
      "\u001b[1;31mAttributeError\u001b[0m                            Traceback (most recent call last)",
      "Cell \u001b[1;32mIn[22], line 8\u001b[0m\n\u001b[0;32m      5\u001b[0m valid_acc \u001b[38;5;241m=\u001b[39m []\n\u001b[0;32m      7\u001b[0m \u001b[38;5;28;01mfor\u001b[39;00m epoch \u001b[38;5;129;01min\u001b[39;00m \u001b[38;5;28mrange\u001b[39m(epochs):\n\u001b[1;32m----> 8\u001b[0m     epoch_loss, epoch_acc, epoch_valid_loss, epoch_valid_acc \u001b[38;5;241m=\u001b[39m \u001b[43mtraining\u001b[49m\u001b[43m(\u001b[49m\u001b[43mepoch\u001b[49m\u001b[43m,\u001b[49m\u001b[43m \u001b[49m\u001b[43mmodel\u001b[49m\u001b[43m,\u001b[49m\u001b[43m    \u001b[49m\u001b[43mtrain_iterator\u001b[49m\u001b[43m,\u001b[49m\u001b[43m     \u001b[49m\u001b[43mvalid_iterator\u001b[49m\u001b[43m)\u001b[49m\n\u001b[0;32m      9\u001b[0m     train_loss\u001b[38;5;241m.\u001b[39mappend(epoch_loss)\n\u001b[0;32m     10\u001b[0m     train_acc\u001b[38;5;241m.\u001b[39mappend(epoch_acc)\n",
      "Cell \u001b[1;32mIn[21], line 9\u001b[0m, in \u001b[0;36mtraining\u001b[1;34m(epoch, model, trainloader, validloader)\u001b[0m\n\u001b[0;32m      7\u001b[0m \u001b[38;5;28;01mfor\u001b[39;00m b \u001b[38;5;129;01min\u001b[39;00m trainloader:\n\u001b[0;32m      8\u001b[0m     x, y \u001b[38;5;241m=\u001b[39m b\n\u001b[1;32m----> 9\u001b[0m     x, y \u001b[38;5;241m=\u001b[39m \u001b[43mx\u001b[49m\u001b[38;5;241;43m.\u001b[39;49m\u001b[43mto\u001b[49m(device), y\u001b[38;5;241m.\u001b[39mto(device)\n\u001b[0;32m     10\u001b[0m     y_pred \u001b[38;5;241m=\u001b[39m model(x)\n\u001b[0;32m     11\u001b[0m     loss \u001b[38;5;241m=\u001b[39m loss_fn(y_pred, y)\n",
      "\u001b[1;31mAttributeError\u001b[0m: 'tuple' object has no attribute 'to'"
     ]
    }
   ],
   "source": [
    "epochs = 5\n",
    "train_loss = []\n",
    "train_acc = []\n",
    "valid_loss = []\n",
    "valid_acc = []\n",
    "\n",
    "for epoch in range(epochs):\n",
    "    epoch_loss, epoch_acc, epoch_valid_loss, epoch_valid_acc = training(epoch, model,    train_iterator,     valid_iterator)\n",
    "    train_loss.append(epoch_loss)\n",
    "    train_acc.append(epoch_acc)\n",
    "    valid_loss.append(epoch_valid_loss)\n",
    "    valid_acc.append(epoch_valid_acc)\n",
    "\n",
    "end = time.time()\n",
    "print(end-start)"
   ]
  },
  {
   "cell_type": "code",
   "execution_count": null,
   "id": "ef418334-2749-4776-9732-7b6302d8651d",
   "metadata": {},
   "outputs": [],
   "source": []
  }
 ],
 "metadata": {
  "kernelspec": {
   "display_name": "Python 3 (ipykernel)",
   "language": "python",
   "name": "python3"
  },
  "language_info": {
   "codemirror_mode": {
    "name": "ipython",
    "version": 3
   },
   "file_extension": ".py",
   "mimetype": "text/x-python",
   "name": "python",
   "nbconvert_exporter": "python",
   "pygments_lexer": "ipython3",
   "version": "3.12.3"
  }
 },
 "nbformat": 4,
 "nbformat_minor": 5
}
