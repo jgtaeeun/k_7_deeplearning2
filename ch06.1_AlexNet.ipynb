{
 "cells": [
  {
   "cell_type": "code",
   "execution_count": 14,
   "id": "ce910b03-5b9f-49e9-ae3d-84701f3743ca",
   "metadata": {},
   "outputs": [],
   "source": [
    "import torchvision.transforms.v2 as v2\n",
    "import torchvision\n",
    "import torch\n",
    "import torch.nn as nn\n",
    "import torch.optim as optim\n",
    "from torch.utils.data import DataLoader\n",
    "from torchvision import transforms\n",
    "from torchvision.datasets import ImageFolder"
   ]
  },
  {
   "cell_type": "code",
   "execution_count": 15,
   "id": "cbd2e499-b7cd-467e-b1f6-d7095ecc52a6",
   "metadata": {},
   "outputs": [],
   "source": [
    "from torchvision.models import alexnet, AlexNet_Weights"
   ]
  },
  {
   "cell_type": "code",
   "execution_count": 16,
   "id": "2a7d52e6-2d0b-4761-98aa-98849192cc6f",
   "metadata": {},
   "outputs": [],
   "source": [
    "import os\n",
    "from pathlib import Path\n",
    "\n",
    "my_transform = v2.Compose([ \n",
    "\n",
    "             v2.Resize((224, 224)), v2.ToTensor()])\n",
    "dataset= ImageFolder('./080289/chap06/data/dogs-vs-cats', transform= my_transform)\n",
    "\n",
    "\n",
    "data_loader = DataLoader(dataset, batch_size=32, shuffle=True)"
   ]
  },
  {
   "cell_type": "code",
   "execution_count": 17,
   "id": "f0050381-47ba-48bc-a304-29e3619fdd37",
   "metadata": {},
   "outputs": [
    {
     "name": "stdout",
     "output_type": "stream",
     "text": [
      "torch.Size([32, 3, 224, 224]) torch.Size([32])\n"
     ]
    }
   ],
   "source": [
    "for X_train, y_label in data_loader:\n",
    "    print(X_train.shape, y_label.shape)\n",
    "    break"
   ]
  },
  {
   "cell_type": "code",
   "execution_count": 18,
   "id": "6a086450-88be-4029-8e19-02c1e91cde43",
   "metadata": {},
   "outputs": [],
   "source": [
    "model=alexnet(weights=AlexNet_Weights.IMAGENET1K_V1)"
   ]
  },
  {
   "cell_type": "code",
   "execution_count": 19,
   "id": "a9cfd669-8486-460a-a679-01cb301e9603",
   "metadata": {},
   "outputs": [],
   "source": [
    "for p in model.parameters():\n",
    "    p.requires_grad=False"
   ]
  },
  {
   "cell_type": "code",
   "execution_count": 20,
   "id": "de5d55ee-269c-45b0-b783-19908cbc6795",
   "metadata": {},
   "outputs": [
    {
     "data": {
      "text/plain": [
       "AlexNet(\n",
       "  (features): Sequential(\n",
       "    (0): Conv2d(3, 64, kernel_size=(11, 11), stride=(4, 4), padding=(2, 2))\n",
       "    (1): ReLU(inplace=True)\n",
       "    (2): MaxPool2d(kernel_size=3, stride=2, padding=0, dilation=1, ceil_mode=False)\n",
       "    (3): Conv2d(64, 192, kernel_size=(5, 5), stride=(1, 1), padding=(2, 2))\n",
       "    (4): ReLU(inplace=True)\n",
       "    (5): MaxPool2d(kernel_size=3, stride=2, padding=0, dilation=1, ceil_mode=False)\n",
       "    (6): Conv2d(192, 384, kernel_size=(3, 3), stride=(1, 1), padding=(1, 1))\n",
       "    (7): ReLU(inplace=True)\n",
       "    (8): Conv2d(384, 256, kernel_size=(3, 3), stride=(1, 1), padding=(1, 1))\n",
       "    (9): ReLU(inplace=True)\n",
       "    (10): Conv2d(256, 256, kernel_size=(3, 3), stride=(1, 1), padding=(1, 1))\n",
       "    (11): ReLU(inplace=True)\n",
       "    (12): MaxPool2d(kernel_size=3, stride=2, padding=0, dilation=1, ceil_mode=False)\n",
       "  )\n",
       "  (avgpool): AdaptiveAvgPool2d(output_size=(6, 6))\n",
       "  (classifier): Sequential(\n",
       "    (0): Dropout(p=0.5, inplace=False)\n",
       "    (1): Linear(in_features=9216, out_features=4096, bias=True)\n",
       "    (2): ReLU(inplace=True)\n",
       "    (3): Dropout(p=0.5, inplace=False)\n",
       "    (4): Linear(in_features=4096, out_features=4096, bias=True)\n",
       "    (5): ReLU(inplace=True)\n",
       "    (6): Linear(in_features=4096, out_features=1000, bias=True)\n",
       "  )\n",
       ")"
      ]
     },
     "execution_count": 20,
     "metadata": {},
     "output_type": "execute_result"
    }
   ],
   "source": [
    " model"
   ]
  },
  {
   "cell_type": "code",
   "execution_count": 21,
   "id": "719f91e7-52c5-43a5-8723-4f50d9d0ec33",
   "metadata": {},
   "outputs": [],
   "source": [
    "for p in model.classifier.parameters():\n",
    "    p.requires_grad=True"
   ]
  },
  {
   "cell_type": "code",
   "execution_count": 22,
   "id": "79a001ac-cd4c-4dfd-9969-73efe864d550",
   "metadata": {},
   "outputs": [
    {
     "data": {
      "text/plain": [
       "AlexNet(\n",
       "  (features): Sequential(\n",
       "    (0): Conv2d(3, 64, kernel_size=(11, 11), stride=(4, 4), padding=(2, 2))\n",
       "    (1): ReLU(inplace=True)\n",
       "    (2): MaxPool2d(kernel_size=3, stride=2, padding=0, dilation=1, ceil_mode=False)\n",
       "    (3): Conv2d(64, 192, kernel_size=(5, 5), stride=(1, 1), padding=(2, 2))\n",
       "    (4): ReLU(inplace=True)\n",
       "    (5): MaxPool2d(kernel_size=3, stride=2, padding=0, dilation=1, ceil_mode=False)\n",
       "    (6): Conv2d(192, 384, kernel_size=(3, 3), stride=(1, 1), padding=(1, 1))\n",
       "    (7): ReLU(inplace=True)\n",
       "    (8): Conv2d(384, 256, kernel_size=(3, 3), stride=(1, 1), padding=(1, 1))\n",
       "    (9): ReLU(inplace=True)\n",
       "    (10): Conv2d(256, 256, kernel_size=(3, 3), stride=(1, 1), padding=(1, 1))\n",
       "    (11): ReLU(inplace=True)\n",
       "    (12): MaxPool2d(kernel_size=3, stride=2, padding=0, dilation=1, ceil_mode=False)\n",
       "  )\n",
       "  (avgpool): AdaptiveAvgPool2d(output_size=(6, 6))\n",
       "  (classifier): Sequential(\n",
       "    (0): Dropout(p=0.5, inplace=False)\n",
       "    (1): Linear(in_features=9216, out_features=512, bias=True)\n",
       "    (2): ReLU(inplace=True)\n",
       "    (3): Dropout(p=0.5, inplace=False)\n",
       "    (4): Linear(in_features=512, out_features=64, bias=True)\n",
       "    (5): ReLU(inplace=True)\n",
       "    (6): Dropout(p=0.5, inplace=False)\n",
       "    (7): Linear(in_features=64, out_features=2, bias=True)\n",
       "  )\n",
       ")"
      ]
     },
     "execution_count": 22,
     "metadata": {},
     "output_type": "execute_result"
    }
   ],
   "source": [
    " model.classifier=nn.Sequential(\n",
    "    nn.Dropout(),\n",
    "    nn.Linear(256*6*6,512),\n",
    "    nn.ReLU(inplace=True),\n",
    "    nn.Dropout(),\n",
    "    nn.Linear(512,64),\n",
    "    nn.ReLU(inplace=True),\n",
    "    nn.Dropout(),\n",
    "    nn.Linear(64,2),\n",
    "  \n",
    " )\n",
    "model"
   ]
  },
  {
   "cell_type": "code",
   "execution_count": 23,
   "id": "c35ff3db-7334-481b-a59e-ada345472c1f",
   "metadata": {},
   "outputs": [],
   "source": [
    "loss_fn = nn.CrossEntropyLoss()\n",
    "optimizer = optim.Adam(model.parameters(), lr=0.0001)"
   ]
  },
  {
   "cell_type": "code",
   "execution_count": 24,
   "id": "dfc22cc0-8a84-4044-9764-7ced76eb6d37",
   "metadata": {},
   "outputs": [],
   "source": [
    "def fit(model, data_loader, loss_fn, optimizer):\n",
    "  for i in range(epochs):\n",
    "    for X_train, y_label in data_loader:\n",
    "        optimizer.zero_grad()\n",
    "        outputs = model(X_train)\n",
    "        loss = loss_fn(outputs, y_label)\n",
    "        loss.backward()\n",
    "        optimizer.step()\n",
    "    return model\n",
    "       "
   ]
  },
  {
   "cell_type": "code",
   "execution_count": 25,
   "id": "02d1189d-87a6-44ec-9173-a9b3b2cdeee8",
   "metadata": {},
   "outputs": [
    {
     "name": "stdout",
     "output_type": "stream",
     "text": [
      "Requirement already satisfied: torch-summary in c:\\users\\user\\anaconda3\\envs\\torch-book\\lib\\site-packages (1.4.5)\n",
      "Note: you may need to restart the kernel to use updated packages.\n"
     ]
    }
   ],
   "source": [
    "pip install torch-summary"
   ]
  },
  {
   "cell_type": "code",
   "execution_count": 26,
   "id": "ce62b5b9-2b78-45e2-b6ac-2f7769df16b7",
   "metadata": {},
   "outputs": [],
   "source": [
    "epochs=1\n",
    "for i in range(epochs):\n",
    "    for X_train, y_label in data_loader:\n",
    "        optimizer.zero_grad()\n",
    "        outputs = model(X_train)\n",
    "        loss = loss_fn(outputs, y_label)\n",
    "        loss.backward()\n",
    "        optimizer.step()\n",
    "    "
   ]
  },
  {
   "cell_type": "code",
   "execution_count": 27,
   "id": "b97e8e1d-b8fe-4a04-9fa7-89df446760bb",
   "metadata": {},
   "outputs": [
    {
     "name": "stdout",
     "output_type": "stream",
     "text": [
      "EPOCH 1:\n",
      "  batch 1 loss: 0.5534573793411255\n",
      "  batch 2 loss: 1.0313734114170074\n",
      "  batch 3 loss: 1.507322520017624\n",
      "  batch 4 loss: 2.0426049530506134\n",
      "  batch 5 loss: 2.4804252088069916\n",
      "  batch 6 loss: 2.9609545469284058\n",
      "  batch 7 loss: 3.477757215499878\n",
      "  batch 8 loss: 3.949516177177429\n",
      "  batch 9 loss: 4.3815553188323975\n",
      "  batch 10 loss: 4.9082284569740295\n",
      "  batch 11 loss: 5.249964624643326\n",
      "  batch 12 loss: 5.60647976398468\n",
      "  batch 13 loss: 6.053019046783447\n",
      "  batch 14 loss: 6.563012659549713\n",
      "  batch 15 loss: 6.834055453538895\n",
      "  batch 16 loss: 7.328967601060867\n",
      "  EPOCH 1 average loss: 0.4580604750663042\n"
     ]
    }
   ],
   "source": [
    "EPOCHS = 1\n",
    "for n in range(EPOCHS):\n",
    "    print('EPOCH {}:'.format(n + 1))\n",
    "    epoch_loss = 0\n",
    "    step_loss = 0\n",
    "    for idx, (X_train, y_label) in enumerate(data_loader):\n",
    "        optimizer.zero_grad()\n",
    "        outputs = model(X_train)\n",
    "        loss = loss_fn(outputs, y_label)\n",
    "        loss.backward()\n",
    "        optimizer.step()\n",
    "        step_loss += loss.item()\n",
    "        \n",
    "        # 매 배치마다 손실값 출력\n",
    "        print('  batch {} loss: {}'.format(idx + 1, step_loss))\n",
    "        \n",
    "    # 에포크 후 평균 손실 출력\n",
    "    average_epoch_loss = step_loss / len(data_loader)\n",
    "    print('  EPOCH {} average loss: {}'.format(n + 1, average_epoch_loss))"
   ]
  },
  {
   "cell_type": "code",
   "execution_count": 29,
   "id": "d480a240-4b87-4fda-ba74-a5bd72b81117",
   "metadata": {},
   "outputs": [
    {
     "name": "stdout",
     "output_type": "stream",
     "text": [
      "=================================================================\n",
      "Layer (type:depth-idx)                   Param #\n",
      "=================================================================\n",
      "├─Sequential: 1-1                        --\n",
      "|    └─Conv2d: 2-1                       (23,296)\n",
      "|    └─ReLU: 2-2                         --\n",
      "|    └─MaxPool2d: 2-3                    --\n",
      "|    └─Conv2d: 2-4                       (307,392)\n",
      "|    └─ReLU: 2-5                         --\n",
      "|    └─MaxPool2d: 2-6                    --\n",
      "|    └─Conv2d: 2-7                       (663,936)\n",
      "|    └─ReLU: 2-8                         --\n",
      "|    └─Conv2d: 2-9                       (884,992)\n",
      "|    └─ReLU: 2-10                        --\n",
      "|    └─Conv2d: 2-11                      (590,080)\n",
      "|    └─ReLU: 2-12                        --\n",
      "|    └─MaxPool2d: 2-13                   --\n",
      "├─AdaptiveAvgPool2d: 1-2                 --\n",
      "├─Sequential: 1-3                        --\n",
      "|    └─Dropout: 2-14                     --\n",
      "|    └─Linear: 2-15                      4,719,104\n",
      "|    └─ReLU: 2-16                        --\n",
      "|    └─Dropout: 2-17                     --\n",
      "|    └─Linear: 2-18                      32,832\n",
      "|    └─ReLU: 2-19                        --\n",
      "|    └─Dropout: 2-20                     --\n",
      "|    └─Linear: 2-21                      130\n",
      "=================================================================\n",
      "Total params: 7,221,762\n",
      "Trainable params: 4,752,066\n",
      "Non-trainable params: 2,469,696\n",
      "=================================================================\n"
     ]
    },
    {
     "data": {
      "text/plain": [
       "=================================================================\n",
       "Layer (type:depth-idx)                   Param #\n",
       "=================================================================\n",
       "├─Sequential: 1-1                        --\n",
       "|    └─Conv2d: 2-1                       (23,296)\n",
       "|    └─ReLU: 2-2                         --\n",
       "|    └─MaxPool2d: 2-3                    --\n",
       "|    └─Conv2d: 2-4                       (307,392)\n",
       "|    └─ReLU: 2-5                         --\n",
       "|    └─MaxPool2d: 2-6                    --\n",
       "|    └─Conv2d: 2-7                       (663,936)\n",
       "|    └─ReLU: 2-8                         --\n",
       "|    └─Conv2d: 2-9                       (884,992)\n",
       "|    └─ReLU: 2-10                        --\n",
       "|    └─Conv2d: 2-11                      (590,080)\n",
       "|    └─ReLU: 2-12                        --\n",
       "|    └─MaxPool2d: 2-13                   --\n",
       "├─AdaptiveAvgPool2d: 1-2                 --\n",
       "├─Sequential: 1-3                        --\n",
       "|    └─Dropout: 2-14                     --\n",
       "|    └─Linear: 2-15                      4,719,104\n",
       "|    └─ReLU: 2-16                        --\n",
       "|    └─Dropout: 2-17                     --\n",
       "|    └─Linear: 2-18                      32,832\n",
       "|    └─ReLU: 2-19                        --\n",
       "|    └─Dropout: 2-20                     --\n",
       "|    └─Linear: 2-21                      130\n",
       "=================================================================\n",
       "Total params: 7,221,762\n",
       "Trainable params: 4,752,066\n",
       "Non-trainable params: 2,469,696\n",
       "================================================================="
      ]
     },
     "execution_count": 29,
     "metadata": {},
     "output_type": "execute_result"
    }
   ],
   "source": [
    "from torchsummary import summary\n",
    "summary(model)"
   ]
  },
  {
   "cell_type": "code",
   "execution_count": null,
   "id": "9ff49611-a3b4-4133-afd0-3634e9e142a7",
   "metadata": {},
   "outputs": [],
   "source": []
  }
 ],
 "metadata": {
  "kernelspec": {
   "display_name": "Python 3 (ipykernel)",
   "language": "python",
   "name": "python3"
  },
  "language_info": {
   "codemirror_mode": {
    "name": "ipython",
    "version": 3
   },
   "file_extension": ".py",
   "mimetype": "text/x-python",
   "name": "python",
   "nbconvert_exporter": "python",
   "pygments_lexer": "ipython3",
   "version": "3.12.4"
  }
 },
 "nbformat": 4,
 "nbformat_minor": 5
}
