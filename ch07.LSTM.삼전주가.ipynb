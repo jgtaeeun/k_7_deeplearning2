{
 "cells": [
  {
   "cell_type": "code",
   "execution_count": 1,
   "id": "d217928c-23ef-4105-832b-91323cf1e73c",
   "metadata": {},
   "outputs": [],
   "source": [
    "#!pip install finance-datareader"
   ]
  },
  {
   "cell_type": "code",
   "execution_count": 2,
   "id": "2aa177d6-41e8-4b64-8911-8707e40ddbce",
   "metadata": {},
   "outputs": [],
   "source": [
    "#!pip install plotly"
   ]
  },
  {
   "cell_type": "code",
   "execution_count": 3,
   "id": "a31574bd-4f29-4e45-94b6-b682bab1317c",
   "metadata": {},
   "outputs": [],
   "source": [
    "import numpy as np\n",
    "import pandas as pd\n",
    "import matplotlib.pyplot as plt\n",
    "import FinanceDataReader as fdr\n",
    "\n",
    "import torch\n",
    "import torch.nn as nn"
   ]
  },
  {
   "cell_type": "code",
   "execution_count": 4,
   "id": "f16c4fcb-0bc4-4e40-8d4d-bdceb515b827",
   "metadata": {},
   "outputs": [
    {
     "data": {
      "text/plain": [
       "'cpu'"
      ]
     },
     "execution_count": 4,
     "metadata": {},
     "output_type": "execute_result"
    }
   ],
   "source": [
    "device = 'cuda:0' if torch.cuda.is_available() else 'cpu'\n",
    "device"
   ]
  },
  {
   "cell_type": "code",
   "execution_count": 5,
   "id": "3c3947de-6355-4811-92f2-5fc15c128b0a",
   "metadata": {},
   "outputs": [
    {
     "data": {
      "text/html": [
       "<div>\n",
       "<style scoped>\n",
       "    .dataframe tbody tr th:only-of-type {\n",
       "        vertical-align: middle;\n",
       "    }\n",
       "\n",
       "    .dataframe tbody tr th {\n",
       "        vertical-align: top;\n",
       "    }\n",
       "\n",
       "    .dataframe thead th {\n",
       "        text-align: right;\n",
       "    }\n",
       "</style>\n",
       "<table border=\"1\" class=\"dataframe\">\n",
       "  <thead>\n",
       "    <tr style=\"text-align: right;\">\n",
       "      <th></th>\n",
       "      <th>Open</th>\n",
       "      <th>High</th>\n",
       "      <th>Low</th>\n",
       "      <th>Close</th>\n",
       "      <th>Volume</th>\n",
       "      <th>Change</th>\n",
       "    </tr>\n",
       "    <tr>\n",
       "      <th>Date</th>\n",
       "      <th></th>\n",
       "      <th></th>\n",
       "      <th></th>\n",
       "      <th></th>\n",
       "      <th></th>\n",
       "      <th></th>\n",
       "    </tr>\n",
       "  </thead>\n",
       "  <tbody>\n",
       "    <tr>\n",
       "      <th>2000-04-21</th>\n",
       "      <td>6060</td>\n",
       "      <td>6180</td>\n",
       "      <td>5970</td>\n",
       "      <td>6050</td>\n",
       "      <td>528513</td>\n",
       "      <td>NaN</td>\n",
       "    </tr>\n",
       "    <tr>\n",
       "      <th>2000-04-24</th>\n",
       "      <td>5970</td>\n",
       "      <td>6030</td>\n",
       "      <td>5760</td>\n",
       "      <td>5800</td>\n",
       "      <td>556613</td>\n",
       "      <td>-0.041322</td>\n",
       "    </tr>\n",
       "    <tr>\n",
       "      <th>2000-04-25</th>\n",
       "      <td>5620</td>\n",
       "      <td>5760</td>\n",
       "      <td>5520</td>\n",
       "      <td>5640</td>\n",
       "      <td>698014</td>\n",
       "      <td>-0.027586</td>\n",
       "    </tr>\n",
       "    <tr>\n",
       "      <th>2000-04-26</th>\n",
       "      <td>5820</td>\n",
       "      <td>5860</td>\n",
       "      <td>5600</td>\n",
       "      <td>5600</td>\n",
       "      <td>785860</td>\n",
       "      <td>-0.007092</td>\n",
       "    </tr>\n",
       "    <tr>\n",
       "      <th>2000-04-27</th>\n",
       "      <td>5520</td>\n",
       "      <td>5700</td>\n",
       "      <td>5400</td>\n",
       "      <td>5400</td>\n",
       "      <td>1082253</td>\n",
       "      <td>-0.035714</td>\n",
       "    </tr>\n",
       "  </tbody>\n",
       "</table>\n",
       "</div>"
      ],
      "text/plain": [
       "            Open  High   Low  Close   Volume    Change\n",
       "Date                                                  \n",
       "2000-04-21  6060  6180  5970   6050   528513       NaN\n",
       "2000-04-24  5970  6030  5760   5800   556613 -0.041322\n",
       "2000-04-25  5620  5760  5520   5640   698014 -0.027586\n",
       "2000-04-26  5820  5860  5600   5600   785860 -0.007092\n",
       "2000-04-27  5520  5700  5400   5400  1082253 -0.035714"
      ]
     },
     "execution_count": 5,
     "metadata": {},
     "output_type": "execute_result"
    }
   ],
   "source": [
    "#https://github.com/FinanceData/FinanceDataReader\n",
    "data = fdr.DataReader(\"005930\")      # 삼성전자 전체 (1999년 ~ 현재)\n",
    "data.head()"
   ]
  },
  {
   "cell_type": "code",
   "execution_count": 6,
   "id": "8236cad8-a147-41d4-8281-bd4657da97a1",
   "metadata": {},
   "outputs": [
    {
     "name": "stdout",
     "output_type": "stream",
     "text": [
      "<class 'pandas.core.frame.DataFrame'>\n",
      "DatetimeIndex: 6000 entries, 2000-04-21 to 2024-08-09\n",
      "Data columns (total 6 columns):\n",
      " #   Column  Non-Null Count  Dtype  \n",
      "---  ------  --------------  -----  \n",
      " 0   Open    6000 non-null   int64  \n",
      " 1   High    6000 non-null   int64  \n",
      " 2   Low     6000 non-null   int64  \n",
      " 3   Close   6000 non-null   int64  \n",
      " 4   Volume  6000 non-null   int64  \n",
      " 5   Change  5999 non-null   float64\n",
      "dtypes: float64(1), int64(5)\n",
      "memory usage: 328.1 KB\n"
     ]
    }
   ],
   "source": [
    "data.info()"
   ]
  },
  {
   "cell_type": "code",
   "execution_count": 7,
   "id": "c2a43c21-8821-4b98-b394-d0f799e4d603",
   "metadata": {},
   "outputs": [
    {
     "name": "stdout",
     "output_type": "stream",
     "text": [
      "<class 'pandas.core.frame.DataFrame'>\n",
      "DatetimeIndex: 6000 entries, 2000-04-21 to 2024-08-09\n",
      "Data columns (total 1 columns):\n",
      " #   Column  Non-Null Count  Dtype\n",
      "---  ------  --------------  -----\n",
      " 0   Close   6000 non-null   int64\n",
      "dtypes: int64(1)\n",
      "memory usage: 93.8 KB\n"
     ]
    }
   ],
   "source": [
    "#dataframe형태의 데이터야 함\n",
    "#<class 'pandas.core.frame.DataFrame'>\n",
    "data=data[[\"Close\"]]\n",
    "data.info()"
   ]
  },
  {
   "cell_type": "code",
   "execution_count": 8,
   "id": "cd2bc070-8b76-4e6f-a591-9bbd73cc1c2e",
   "metadata": {},
   "outputs": [
    {
     "name": "stdout",
     "output_type": "stream",
     "text": [
      "<class 'pandas.core.series.Series'>\n",
      "DatetimeIndex: 6000 entries, 2000-04-21 to 2024-08-09\n",
      "Series name: Close\n",
      "Non-Null Count  Dtype\n",
      "--------------  -----\n",
      "6000 non-null   int64\n",
      "dtypes: int64(1)\n",
      "memory usage: 93.8 KB\n"
     ]
    }
   ],
   "source": [
    "#<class 'pandas.core.series.Series'>\n",
    "data2=data[\"Close\"]\n",
    "data2.info()"
   ]
  },
  {
   "cell_type": "code",
   "execution_count": 9,
   "id": "be4ececa-289e-4dd7-a3bd-ff2c7401a64e",
   "metadata": {},
   "outputs": [
    {
     "data": {
      "text/plain": [
       "[<matplotlib.lines.Line2D at 0x1c270e8a840>]"
      ]
     },
     "execution_count": 9,
     "metadata": {},
     "output_type": "execute_result"
    },
    {
     "data": {
      "image/png": "[encoded data removed]",
      "text/plain": [
       "<Figure size 640x480 with 1 Axes>"
      ]
     },
     "metadata": {},
     "output_type": "display_data"
    }
   ],
   "source": [
    "plt.plot(data)"
   ]
  },
  {
   "cell_type": "markdown",
   "id": "6ca9d317-b4ef-4e3e-b63a-4dd8cbde7b06",
   "metadata": {},
   "source": [
    "### 딥러닝 전용으로 코드 작성\n",
    "-close 추세를 반영해서 close값 예측"
   ]
  },
  {
   "cell_type": "markdown",
   "id": "596363fc-dc42-4037-bd90-18a8821a8d1b",
   "metadata": {},
   "source": [
    "lstm은 추세를 따라가지 않는다. <br />\n",
    "추세를 따라가야할 때, 조작적 정의를 통한 파생데이터가 필요하다. <br /> \n",
    "shift() , pct_change(), diff(), rolling(), resample()<br /> "
   ]
  },
  {
   "cell_type": "code",
   "execution_count": 10,
   "id": "cdc1f8e1-424e-4e5e-a15a-8ca64a149a07",
   "metadata": {},
   "outputs": [
    {
     "data": {
      "text/html": [
       "<div>\n",
       "<style scoped>\n",
       "    .dataframe tbody tr th:only-of-type {\n",
       "        vertical-align: middle;\n",
       "    }\n",
       "\n",
       "    .dataframe tbody tr th {\n",
       "        vertical-align: top;\n",
       "    }\n",
       "\n",
       "    .dataframe thead th {\n",
       "        text-align: right;\n",
       "    }\n",
       "</style>\n",
       "<table border=\"1\" class=\"dataframe\">\n",
       "  <thead>\n",
       "    <tr style=\"text-align: right;\">\n",
       "      <th></th>\n",
       "      <th>Close</th>\n",
       "      <th>Close(t-1)</th>\n",
       "      <th>Close(t-2)</th>\n",
       "      <th>Close(t-3)</th>\n",
       "      <th>Close(t-4)</th>\n",
       "      <th>Close(t-5)</th>\n",
       "      <th>Close(t-6)</th>\n",
       "      <th>Close(t-7)</th>\n",
       "    </tr>\n",
       "    <tr>\n",
       "      <th>Date</th>\n",
       "      <th></th>\n",
       "      <th></th>\n",
       "      <th></th>\n",
       "      <th></th>\n",
       "      <th></th>\n",
       "      <th></th>\n",
       "      <th></th>\n",
       "      <th></th>\n",
       "    </tr>\n",
       "  </thead>\n",
       "  <tbody>\n",
       "    <tr>\n",
       "      <th>2000-05-03</th>\n",
       "      <td>6180</td>\n",
       "      <td>6280.0</td>\n",
       "      <td>6000.0</td>\n",
       "      <td>5400.0</td>\n",
       "      <td>5600.0</td>\n",
       "      <td>5640.0</td>\n",
       "      <td>5800.0</td>\n",
       "      <td>6050.0</td>\n",
       "    </tr>\n",
       "    <tr>\n",
       "      <th>2000-05-04</th>\n",
       "      <td>6180</td>\n",
       "      <td>6180.0</td>\n",
       "      <td>6280.0</td>\n",
       "      <td>6000.0</td>\n",
       "      <td>5400.0</td>\n",
       "      <td>5600.0</td>\n",
       "      <td>5640.0</td>\n",
       "      <td>5800.0</td>\n",
       "    </tr>\n",
       "    <tr>\n",
       "      <th>2000-05-08</th>\n",
       "      <td>6560</td>\n",
       "      <td>6180.0</td>\n",
       "      <td>6180.0</td>\n",
       "      <td>6280.0</td>\n",
       "      <td>6000.0</td>\n",
       "      <td>5400.0</td>\n",
       "      <td>5600.0</td>\n",
       "      <td>5640.0</td>\n",
       "    </tr>\n",
       "    <tr>\n",
       "      <th>2000-05-09</th>\n",
       "      <td>6370</td>\n",
       "      <td>6560.0</td>\n",
       "      <td>6180.0</td>\n",
       "      <td>6180.0</td>\n",
       "      <td>6280.0</td>\n",
       "      <td>6000.0</td>\n",
       "      <td>5400.0</td>\n",
       "      <td>5600.0</td>\n",
       "    </tr>\n",
       "    <tr>\n",
       "      <th>2000-05-10</th>\n",
       "      <td>6350</td>\n",
       "      <td>6370.0</td>\n",
       "      <td>6560.0</td>\n",
       "      <td>6180.0</td>\n",
       "      <td>6180.0</td>\n",
       "      <td>6280.0</td>\n",
       "      <td>6000.0</td>\n",
       "      <td>5400.0</td>\n",
       "    </tr>\n",
       "    <tr>\n",
       "      <th>...</th>\n",
       "      <td>...</td>\n",
       "      <td>...</td>\n",
       "      <td>...</td>\n",
       "      <td>...</td>\n",
       "      <td>...</td>\n",
       "      <td>...</td>\n",
       "      <td>...</td>\n",
       "      <td>...</td>\n",
       "    </tr>\n",
       "    <tr>\n",
       "      <th>2024-08-05</th>\n",
       "      <td>71400</td>\n",
       "      <td>79600.0</td>\n",
       "      <td>83100.0</td>\n",
       "      <td>83900.0</td>\n",
       "      <td>81000.0</td>\n",
       "      <td>81200.0</td>\n",
       "      <td>80900.0</td>\n",
       "      <td>80400.0</td>\n",
       "    </tr>\n",
       "    <tr>\n",
       "      <th>2024-08-06</th>\n",
       "      <td>72500</td>\n",
       "      <td>71400.0</td>\n",
       "      <td>79600.0</td>\n",
       "      <td>83100.0</td>\n",
       "      <td>83900.0</td>\n",
       "      <td>81000.0</td>\n",
       "      <td>81200.0</td>\n",
       "      <td>80900.0</td>\n",
       "    </tr>\n",
       "    <tr>\n",
       "      <th>2024-08-07</th>\n",
       "      <td>74700</td>\n",
       "      <td>72500.0</td>\n",
       "      <td>71400.0</td>\n",
       "      <td>79600.0</td>\n",
       "      <td>83100.0</td>\n",
       "      <td>83900.0</td>\n",
       "      <td>81000.0</td>\n",
       "      <td>81200.0</td>\n",
       "    </tr>\n",
       "    <tr>\n",
       "      <th>2024-08-08</th>\n",
       "      <td>73400</td>\n",
       "      <td>74700.0</td>\n",
       "      <td>72500.0</td>\n",
       "      <td>71400.0</td>\n",
       "      <td>79600.0</td>\n",
       "      <td>83100.0</td>\n",
       "      <td>83900.0</td>\n",
       "      <td>81000.0</td>\n",
       "    </tr>\n",
       "    <tr>\n",
       "      <th>2024-08-09</th>\n",
       "      <td>74800</td>\n",
       "      <td>73400.0</td>\n",
       "      <td>74700.0</td>\n",
       "      <td>72500.0</td>\n",
       "      <td>71400.0</td>\n",
       "      <td>79600.0</td>\n",
       "      <td>83100.0</td>\n",
       "      <td>83900.0</td>\n",
       "    </tr>\n",
       "  </tbody>\n",
       "</table>\n",
       "<p>5993 rows × 8 columns</p>\n",
       "</div>"
      ],
      "text/plain": [
       "            Close  Close(t-1)  Close(t-2)  Close(t-3)  Close(t-4)  Close(t-5)  \\\n",
       "Date                                                                            \n",
       "2000-05-03   6180      6280.0      6000.0      5400.0      5600.0      5640.0   \n",
       "2000-05-04   6180      6180.0      6280.0      6000.0      5400.0      5600.0   \n",
       "2000-05-08   6560      6180.0      6180.0      6280.0      6000.0      5400.0   \n",
       "2000-05-09   6370      6560.0      6180.0      6180.0      6280.0      6000.0   \n",
       "2000-05-10   6350      6370.0      6560.0      6180.0      6180.0      6280.0   \n",
       "...           ...         ...         ...         ...         ...         ...   \n",
       "2024-08-05  71400     79600.0     83100.0     83900.0     81000.0     81200.0   \n",
       "2024-08-06  72500     71400.0     79600.0     83100.0     83900.0     81000.0   \n",
       "2024-08-07  74700     72500.0     71400.0     79600.0     83100.0     83900.0   \n",
       "2024-08-08  73400     74700.0     72500.0     71400.0     79600.0     83100.0   \n",
       "2024-08-09  74800     73400.0     74700.0     72500.0     71400.0     79600.0   \n",
       "\n",
       "            Close(t-6)  Close(t-7)  \n",
       "Date                                \n",
       "2000-05-03      5800.0      6050.0  \n",
       "2000-05-04      5640.0      5800.0  \n",
       "2000-05-08      5600.0      5640.0  \n",
       "2000-05-09      5400.0      5600.0  \n",
       "2000-05-10      6000.0      5400.0  \n",
       "...                ...         ...  \n",
       "2024-08-05     80900.0     80400.0  \n",
       "2024-08-06     81200.0     80900.0  \n",
       "2024-08-07     81000.0     81200.0  \n",
       "2024-08-08     83900.0     81000.0  \n",
       "2024-08-09     83100.0     83900.0  \n",
       "\n",
       "[5993 rows x 8 columns]"
      ]
     },
     "execution_count": 10,
     "metadata": {},
     "output_type": "execute_result"
    }
   ],
   "source": [
    "from copy import deepcopy as dc\n",
    "\n",
    "def prepare_dateframe_for_lstm(df, n_steps):\n",
    "    df=dc(df)\n",
    "    for i in range(1, n_steps+1):\n",
    "        df[f\"Close(t-{i})\"]=df[\"Close\"].shift(i)\n",
    "    df.dropna(inplace=True)\n",
    "    return df\n",
    "\n",
    "lookback=7\n",
    "shifted_df=prepare_dateframe_for_lstm(data, lookback)\n",
    "shifted_df"
   ]
  },
  {
   "cell_type": "code",
   "execution_count": 11,
   "id": "219b4c3b-de47-4288-8c03-8ba2e0f2f3da",
   "metadata": {
    "scrolled": true
   },
   "outputs": [
    {
     "data": {
      "text/plain": [
       "array([[ 6180.,  6280.,  6000., ...,  5640.,  5800.,  6050.],\n",
       "       [ 6180.,  6180.,  6280., ...,  5600.,  5640.,  5800.],\n",
       "       [ 6560.,  6180.,  6180., ...,  5400.,  5600.,  5640.],\n",
       "       ...,\n",
       "       [74700., 72500., 71400., ..., 83900., 81000., 81200.],\n",
       "       [73400., 74700., 72500., ..., 83100., 83900., 81000.],\n",
       "       [74800., 73400., 74700., ..., 79600., 83100., 83900.]])"
      ]
     },
     "execution_count": 11,
     "metadata": {},
     "output_type": "execute_result"
    }
   ],
   "source": [
    "#pandas데이터를 numpy데이터로 변환\n",
    "shifted_df_as_np=shifted_df.to_numpy()\n",
    "shifted_df_as_np.shape #(5993, 8)\n",
    "shifted_df_as_np"
   ]
  },
  {
   "cell_type": "code",
   "execution_count": 12,
   "id": "3bfa36a6-664d-436a-8e0d-cc9ec65047db",
   "metadata": {},
   "outputs": [
    {
     "data": {
      "text/plain": [
       "array([-0.92183075, -0.91956497, -0.92590914, -0.9395038 , -0.93497224,\n",
       "       -0.93406593, -0.93044069, -0.92477625])"
      ]
     },
     "execution_count": 12,
     "metadata": {},
     "output_type": "execute_result"
    }
   ],
   "source": [
    "from sklearn.preprocessing import MinMaxScaler\n",
    "scaler=MinMaxScaler(feature_range=(-1,1))\n",
    "shifted_df_as_np=scaler.fit_transform(shifted_df_as_np)\n",
    "shifted_df_as_np[0]"
   ]
  },
  {
   "cell_type": "code",
   "execution_count": 13,
   "id": "0403162f-245e-477e-bc9b-f5814918b871",
   "metadata": {},
   "outputs": [
    {
     "name": "stdout",
     "output_type": "stream",
     "text": [
      "(5993, 7) (5993,)\n"
     ]
    }
   ],
   "source": [
    "X=shifted_df_as_np[:,1:]   #Close(t-1)\tClose(t-2)\tClose(t-3)\tClose(t-4)\tClose(t-5)\tClose(t-6)\tClose(t-7)\n",
    "y=shifted_df_as_np[:,0]    #Close\n",
    "print(X.shape, y.shape) "
   ]
  },
  {
   "cell_type": "code",
   "execution_count": 14,
   "id": "050c0974-edad-4cbc-9bd0-85fc0d7852ce",
   "metadata": {},
   "outputs": [
    {
     "data": {
      "text/plain": [
       "array([-0.91956497, -0.92590914, -0.9395038 , -0.93497224, -0.93406593,\n",
       "       -0.93044069, -0.92477625])"
      ]
     },
     "execution_count": 14,
     "metadata": {},
     "output_type": "execute_result"
    }
   ],
   "source": [
    "X[0]"
   ]
  },
  {
   "cell_type": "code",
   "execution_count": 15,
   "id": "28442957-e0ee-48a0-93d6-5eb9ab603a11",
   "metadata": {},
   "outputs": [
    {
     "data": {
      "text/plain": [
       "array([[-0.92477625, -0.93044069, -0.93406593, ..., -0.9395038 ,\n",
       "        -0.92590914, -0.91956497],\n",
       "       [-0.93044069, -0.93406593, -0.93497224, ..., -0.92590914,\n",
       "        -0.91956497, -0.92183075],\n",
       "       [-0.93406593, -0.93497224, -0.9395038 , ..., -0.91956497,\n",
       "        -0.92183075, -0.92183075],\n",
       "       ...,\n",
       "       [ 0.777954  ,  0.77342245,  0.83912994, ...,  0.7417016 ,\n",
       "         0.55590801,  0.58083154],\n",
       "       [ 0.77342245,  0.83912994,  0.82100374, ...,  0.55590801,\n",
       "         0.58083154,  0.6306786 ],\n",
       "       [ 0.83912994,  0.82100374,  0.7417016 , ...,  0.58083154,\n",
       "         0.6306786 ,  0.60122352]])"
      ]
     },
     "execution_count": 15,
     "metadata": {},
     "output_type": "execute_result"
    }
   ],
   "source": [
    "X=dc(np.flip(X, axis=1))\n",
    "X\n"
   ]
  },
  {
   "cell_type": "code",
   "execution_count": 16,
   "id": "1c9f9ebb-3896-4559-90e9-0bb7a5ca379b",
   "metadata": {},
   "outputs": [
    {
     "data": {
      "text/plain": [
       "5693"
      ]
     },
     "execution_count": 16,
     "metadata": {},
     "output_type": "execute_result"
    }
   ],
   "source": [
    "split_index = int(len(X) * 0.95)\n",
    "split_index\n",
    "\n",
    "#split_index는 데이터셋을 훈련 세트와 검증(또는 테스트) 세트로 나누기 위해 사용하는 인덱스입니다. \n",
    "#주어진 코드에서는 전체 데이터의 95%를 훈련 세트로 사용하고 나머지 5%를 검증(또는 테스트) 세트로 사용하는 것으로 보입니다."
   ]
  },
  {
   "cell_type": "markdown",
   "id": "b1580896-0be1-40ba-8d54-4db6d18ee62c",
   "metadata": {},
   "source": [
    "### train test\n",
    "batch_first =True"
   ]
  },
  {
   "cell_type": "code",
   "execution_count": 17,
   "id": "0da2c6c8-162d-457a-aa4a-a532f4fb38b3",
   "metadata": {},
   "outputs": [],
   "source": [
    "X_train=X[:split_index]\n",
    "X_test=X[split_index:]\n",
    "y_train=y[:split_index]\n",
    "y_test=y[split_index:]\n",
    "\n",
    "X_train=X_train.reshape((-1, lookback, 1))\n",
    "X_test=X_test.reshape((-1, lookback, 1))\n",
    "y_train=y_train.reshape((-1,  1))\n",
    "y_test=y_test.reshape((-1,  1))"
   ]
  },
  {
   "cell_type": "code",
   "execution_count": 18,
   "id": "277a67fe-1508-4f02-aa7a-370f65c6fc67",
   "metadata": {},
   "outputs": [
    {
     "name": "stdout",
     "output_type": "stream",
     "text": [
      "(5693, 7, 1) (300, 7, 1) (5693, 1) (300, 1)\n"
     ]
    }
   ],
   "source": [
    "print(X_train.shape, X_test.shape, y_train.shape, y_test.shape)"
   ]
  },
  {
   "cell_type": "code",
   "execution_count": 19,
   "id": "c63786b6-49ba-43c7-b8d0-71a3f00e6ccf",
   "metadata": {},
   "outputs": [],
   "source": [
    "X_train=torch.tensor(X_train).float()\n",
    "X_test=torch.tensor(X_test).float()\n",
    "y_train=torch.tensor(y_train).float()\n",
    "y_test=torch.tensor(y_test).float()"
   ]
  },
  {
   "cell_type": "code",
   "execution_count": 20,
   "id": "3948c65e-97b2-4549-bd10-0e1e24f2d44f",
   "metadata": {},
   "outputs": [
    {
     "name": "stdout",
     "output_type": "stream",
     "text": [
      "torch.Size([5693, 7, 1]) torch.Size([300, 7, 1]) torch.Size([5693, 1]) torch.Size([300, 1])\n"
     ]
    }
   ],
   "source": [
    "print(X_train.shape, X_test.shape, y_train.shape, y_test.shape)"
   ]
  },
  {
   "cell_type": "code",
   "execution_count": 21,
   "id": "13eb734f-fb55-4a8b-9c01-447713287244",
   "metadata": {},
   "outputs": [],
   "source": [
    "# 데이터 셋\n",
    "from torch.utils.data import Dataset\n",
    "\n",
    "class TimeSeriesDataset(Dataset):\n",
    "    def __init__(self, X, y):\n",
    "        self.X=X\n",
    "        self.y=y\n",
    "    def __len__(self):\n",
    "        return len(self.X)\n",
    "\n",
    "    def __getitem__(self, idx):\n",
    "        return self.X[idx], self.y[idx]\n",
    "\n",
    "train_dataset=TimeSeriesDataset(X_train, y_train)\n",
    "test_dataset=TimeSeriesDataset(X_test, y_test)"
   ]
  },
  {
   "cell_type": "code",
   "execution_count": 23,
   "id": "3430ac3e-31a0-418c-82c9-43de96729860",
   "metadata": {},
   "outputs": [],
   "source": [
    "# 데이터 loader\n",
    "from torch.utils.data import DataLoader\n",
    "\n",
    "batch_size = 16\n",
    "\n",
    "train_loader = DataLoader(train_dataset, batch_size=batch_size, shuffle=True)\n",
    "test_loader = DataLoader(test_dataset, batch_size=batch_size, shuffle=False)"
   ]
  },
  {
   "cell_type": "code",
   "execution_count": 24,
   "id": "53f51149-1cd2-4105-b6ec-32d3cfe5a2a3",
   "metadata": {},
   "outputs": [
    {
     "name": "stdout",
     "output_type": "stream",
     "text": [
      "torch.Size([16, 7, 1]) torch.Size([16, 1])\n"
     ]
    }
   ],
   "source": [
    "for _, batch in enumerate(train_loader):\n",
    "    x_batch, y_batch = batch[0].to(device), batch[1].to(device)\n",
    "    print(x_batch.shape, y_batch.shape)   \n",
    "    break"
   ]
  },
  {
   "cell_type": "markdown",
   "id": "5badcde9-25a2-4b68-b1ec-4c2d9086ba66",
   "metadata": {},
   "source": [
    "torch.Size([16, 7, 1]) <br />\n",
    "16은 배치 크기로, 한 번의 학습 과정에서 모델에 전달되는 샘플의 수입니다.<br />\n",
    "7은 시퀀스 길이로, 각 샘플이 7개의 시간 스텝(또는 시퀀스)을 포함한다는 것을 의미합니다. 이는 시계열 데이터 또는 RNN 모델에 적합한 형태입니다.<br />\n",
    "1은 특성 수로, 각 시퀀스 단계에서 하나의 특성을 가지는 것을 의미합니다. 즉, 각 시간 스텝마다 1개의 값이 있다는 뜻입니다.<br />\n",
    "torch.Size([16, 1])<br />\n",
    "이 텐서의 형태는 (배치 크기, 타겟 변수 수)를 나타냅니다.<br />\n",
    "16은 배치 크기로, 타겟 데이터에서도 동일하게 16개의 샘플이 포함되어 있습니다.<br />\n",
    "1은 타겟 변수 수로, 각 샘플에 대해 1개의 타겟 값이 있다는 것을 의미합니다.<br />"
   ]
  },
  {
   "cell_type": "code",
   "execution_count": 25,
   "id": "32c21adb-59d4-4beb-bdda-9e898e88c555",
   "metadata": {},
   "outputs": [
    {
     "data": {
      "text/plain": [
       "LSTM(\n",
       "  (lstm): LSTM(1, 4, batch_first=True)\n",
       "  (fc): Linear(in_features=4, out_features=1, bias=True)\n",
       ")"
      ]
     },
     "execution_count": 25,
     "metadata": {},
     "output_type": "execute_result"
    }
   ],
   "source": [
    "class LSTM(nn.Module):\n",
    "    def __init__(self, input_size, hidden_size, num_stacked_layers):\n",
    "        super().__init__()\n",
    "        self.hidden_size = hidden_size\n",
    "        self.num_stacked_layers = num_stacked_layers\n",
    "        self.lstm = nn.LSTM(input_size, hidden_size, num_stacked_layers,batch_first=True)\n",
    "        self.fc = nn.Linear(hidden_size, 1)\n",
    "\n",
    "    def forward(self, x):\n",
    "        batch_size = x.size(0)\n",
    "        h0 = torch.zeros(self.num_stacked_layers, batch_size, self.hidden_size).to(device)\n",
    "        c0 = torch.zeros(self.num_stacked_layers, batch_size, self.hidden_size).to(device)\n",
    "        out, _ = self.lstm(x, (h0, c0))\n",
    "        out = self.fc(out[:, -1, :])\n",
    "        return out\n",
    "\n",
    "model = LSTM(1, 4, 1)        \n",
    "model.to(device)\n",
    "model"
   ]
  },
  {
   "cell_type": "code",
   "execution_count": 26,
   "id": "2a4c14a7-9bfc-40af-8750-db4e993897d3",
   "metadata": {},
   "outputs": [],
   "source": [
    "def train_one_epoch():\n",
    "    model.train(True)\n",
    "    print(f'Epoch: {epoch + 1}')\n",
    "    running_loss = 0.0\n",
    "    for batch_index, batch in enumerate(train_loader):\n",
    "        x_batch, y_batch = batch[0].to(device), batch[1].to(device)\n",
    "\n",
    "        output = model(x_batch)\n",
    "        loss = loss_function(output, y_batch)\n",
    "        running_loss += loss.item()\n",
    "\n",
    "        optimizer.zero_grad()\n",
    "        loss.backward()\n",
    "        optimizer.step()\n",
    "\n",
    "        if batch_index % 100 == 99:  # print every 100 batches\n",
    "            avg_loss_across_batches = running_loss / 100\n",
    "            print('Batch {0}, Loss: {1:.3f}'.format(batch_index+1,\n",
    "                                                    avg_loss_across_batches))\n",
    "            running_loss = 0.0\n",
    "    print()"
   ]
  },
  {
   "cell_type": "code",
   "execution_count": 27,
   "id": "220d280c-6723-446d-8f9a-1bb2e9157a90",
   "metadata": {},
   "outputs": [],
   "source": [
    "def validate_one_epoch():\n",
    "    model.train(False)\n",
    "    running_loss = 0.0\n",
    "\n",
    "    for batch_index, batch in enumerate(test_loader):\n",
    "        x_batch, y_batch = batch[0].to(device), batch[1].to(device)\n",
    "\n",
    "        with torch.no_grad():\n",
    "            output = model(x_batch)\n",
    "            loss = loss_function(output, y_batch)\n",
    "            running_loss += loss.item()\n",
    "\n",
    "    avg_loss_across_batches = running_loss / len(test_loader)\n",
    "\n",
    "    print('Val Loss: {0:.3f}'.format(avg_loss_across_batches))\n",
    "    print('***************************************************')\n",
    "    print()"
   ]
  },
  {
   "cell_type": "code",
   "execution_count": 28,
   "id": "631388d1-53bf-4ed8-82de-6a7111e69467",
   "metadata": {},
   "outputs": [
    {
     "name": "stdout",
     "output_type": "stream",
     "text": [
      "Epoch: 1\n",
      "Batch 100, Loss: 0.221\n",
      "Batch 200, Loss: 0.115\n",
      "Batch 300, Loss: 0.031\n",
      "\n",
      "Val Loss: 0.117\n",
      "***************************************************\n",
      "\n",
      "Epoch: 2\n",
      "Batch 100, Loss: 0.010\n",
      "Batch 200, Loss: 0.007\n",
      "Batch 300, Loss: 0.005\n",
      "\n",
      "Val Loss: 0.023\n",
      "***************************************************\n",
      "\n",
      "Epoch: 3\n",
      "Batch 100, Loss: 0.004\n",
      "Batch 200, Loss: 0.003\n",
      "Batch 300, Loss: 0.002\n",
      "\n",
      "Val Loss: 0.009\n",
      "***************************************************\n",
      "\n",
      "Epoch: 4\n",
      "Batch 100, Loss: 0.002\n",
      "Batch 200, Loss: 0.002\n",
      "Batch 300, Loss: 0.001\n",
      "\n",
      "Val Loss: 0.004\n",
      "***************************************************\n",
      "\n",
      "Epoch: 5\n",
      "Batch 100, Loss: 0.001\n",
      "Batch 200, Loss: 0.001\n",
      "Batch 300, Loss: 0.001\n",
      "\n",
      "Val Loss: 0.003\n",
      "***************************************************\n",
      "\n",
      "Epoch: 6\n",
      "Batch 100, Loss: 0.001\n",
      "Batch 200, Loss: 0.000\n",
      "Batch 300, Loss: 0.000\n",
      "\n",
      "Val Loss: 0.002\n",
      "***************************************************\n",
      "\n",
      "Epoch: 7\n",
      "Batch 100, Loss: 0.000\n",
      "Batch 200, Loss: 0.000\n",
      "Batch 300, Loss: 0.000\n",
      "\n",
      "Val Loss: 0.002\n",
      "***************************************************\n",
      "\n",
      "Epoch: 8\n",
      "Batch 100, Loss: 0.000\n",
      "Batch 200, Loss: 0.000\n",
      "Batch 300, Loss: 0.000\n",
      "\n",
      "Val Loss: 0.001\n",
      "***************************************************\n",
      "\n",
      "Epoch: 9\n",
      "Batch 100, Loss: 0.000\n",
      "Batch 200, Loss: 0.000\n",
      "Batch 300, Loss: 0.000\n",
      "\n",
      "Val Loss: 0.002\n",
      "***************************************************\n",
      "\n",
      "Epoch: 10\n",
      "Batch 100, Loss: 0.000\n",
      "Batch 200, Loss: 0.000\n",
      "Batch 300, Loss: 0.000\n",
      "\n",
      "Val Loss: 0.002\n",
      "***************************************************\n",
      "\n"
     ]
    }
   ],
   "source": [
    "learning_rate = 0.001\n",
    "num_epochs = 10\n",
    "loss_function = nn.MSELoss()\n",
    "optimizer = torch.optim.Adam(model.parameters(), lr=learning_rate)\n",
    "\n",
    "for epoch in range(num_epochs):\n",
    "    train_one_epoch()\n",
    "    validate_one_epoch()"
   ]
  },
  {
   "cell_type": "code",
   "execution_count": 29,
   "id": "17127459-c4e9-4692-a4b9-7333a3cfa21b",
   "metadata": {},
   "outputs": [
    {
     "data": {
      "image/png": "[encoded data removed]",
      "text/plain": [
       "<Figure size 640x480 with 1 Axes>"
      ]
     },
     "metadata": {},
     "output_type": "display_data"
    }
   ],
   "source": [
    "with torch.no_grad():\n",
    "    predicted = model(X_train.to(device)).to('cpu').numpy()\n",
    "\n",
    "plt.plot(y_train, label='Actual Close')\n",
    "plt.plot(predicted, label='Predicted Close')\n",
    "plt.xlabel('Day')\n",
    "plt.ylabel('Close')\n",
    "plt.legend()\n",
    "plt.show()  #추세를 따라가지만 과대적합이다."
   ]
  },
  {
   "cell_type": "markdown",
   "id": "f5bbbfdc-2989-4490-b0b3-e0598c2fac4f",
   "metadata": {},
   "source": [
    "## train Predictions"
   ]
  },
  {
   "cell_type": "code",
   "execution_count": 30,
   "id": "6206bb14-d137-4ab1-9b35-086febf9edcf",
   "metadata": {},
   "outputs": [
    {
     "data": {
      "text/plain": [
       "array([ 5816.0850817 ,  5873.38592172,  5930.0554055 , ...,\n",
       "       65727.80807212, 66225.40096954, 67399.07643452])"
      ]
     },
     "execution_count": 30,
     "metadata": {},
     "output_type": "execute_result"
    }
   ],
   "source": [
    "train_predictions = predicted.flatten()\n",
    "\n",
    "dummies = np.zeros((X_train.shape[0], lookback+1))\n",
    "dummies[:, 0] = train_predictions\n",
    "dummies = scaler.inverse_transform(dummies)\n",
    "\n",
    "train_predictions = dc(dummies[:, 0])\n",
    "train_predictions"
   ]
  },
  {
   "cell_type": "code",
   "execution_count": 31,
   "id": "5647dc5c-77bb-46f6-b0cd-fc1c9aaac346",
   "metadata": {},
   "outputs": [
    {
     "data": {
      "text/plain": [
       "array([ 6179.99881804,  6179.99881804,  6559.99898523, ...,\n",
       "       66199.99940351, 68399.99967918, 68499.99993086])"
      ]
     },
     "execution_count": 31,
     "metadata": {},
     "output_type": "execute_result"
    }
   ],
   "source": [
    "dummies = np.zeros((X_train.shape[0], lookback+1))\n",
    "dummies[:, 0] = y_train.flatten()\n",
    "dummies = scaler.inverse_transform(dummies)\n",
    "\n",
    "new_y_train = dc(dummies[:, 0])\n",
    "new_y_train"
   ]
  },
  {
   "cell_type": "code",
   "execution_count": 32,
   "id": "1c04e6ae-9307-4228-bd20-9c78ba9474f0",
   "metadata": {},
   "outputs": [
    {
     "data": {
      "image/png": "[encoded data removed]",
      "text/plain": [
       "<Figure size 640x480 with 1 Axes>"
      ]
     },
     "metadata": {},
     "output_type": "display_data"
    }
   ],
   "source": [
    "plt.plot(new_y_train, label='Actual Close')\n",
    "plt.plot(train_predictions, label='Predicted Close')\n",
    "plt.xlabel('Day')\n",
    "plt.ylabel('Close')\n",
    "plt.legend()\n",
    "plt.show()"
   ]
  },
  {
   "cell_type": "markdown",
   "id": "581b6449-003c-48db-b1ef-d1ef99aa0ca7",
   "metadata": {},
   "source": [
    "## Test Predictions"
   ]
  },
  {
   "cell_type": "code",
   "execution_count": 33,
   "id": "26599927-9ea6-4bea-b842-464c21e42e53",
   "metadata": {},
   "outputs": [
    {
     "data": {
      "text/plain": [
       "array([68242.57889286, 68742.61040375, 69092.66981661, 69411.76252127,\n",
       "       70157.67308891, 71351.63087308, 71833.50300014, 71945.47402918,\n",
       "       72455.49412191, 72650.13072789, 72506.44983172, 72333.40560913,\n",
       "       72561.10423684, 72413.94562006, 72632.4948436 , 72757.49285638,\n",
       "       72705.8216095 , 72774.61839437, 72626.88103437, 72558.91027391,\n",
       "       72229.30022657, 72242.5744915 , 72382.6513958 , 72757.63491154,\n",
       "       73091.02783501, 73359.5489049 , 73436.97422504, 73425.27835071,\n",
       "       73662.78930664, 73834.4129777 , 73596.70735359, 73274.64727461,\n",
       "       72470.36256135, 71749.82199192, 71962.57852197, 72283.06547165,\n",
       "       72502.22500622, 73176.57134414, 73640.43403447, 73530.15188336,\n",
       "       73324.17717159, 72908.19232941, 72357.96010554, 72006.48408711,\n",
       "       71617.00568438, 71284.69658911, 71747.77008414, 71735.03247201,\n",
       "       71423.77384603, 71668.5243535 , 71448.86499524, 70879.53424513,\n",
       "       70304.61599231, 69958.06981385, 69431.69759452, 69545.31541109,\n",
       "       69321.15763962, 68986.88607872, 68707.43333861, 68420.52138761,\n",
       "       68112.34851524, 67773.05504158, 67637.37658575, 67576.23499528,\n",
       "       67729.45463195, 68249.33966592, 68217.27203026, 68056.87071636,\n",
       "       67955.1276584 , 67992.31980219, 67948.13538805, 69382.91480243,\n",
       "       70473.47221851, 71012.87668288, 71116.45593524, 71303.1374526 ,\n",
       "       71388.3337158 , 71606.81980371, 71591.76721871, 71709.53620255,\n",
       "       72084.19877887, 72463.3913362 , 72094.73190546, 71662.24762022,\n",
       "       71292.55171299, 70796.0742116 , 70405.86974919, 70354.36686397,\n",
       "       70053.88338447, 69793.88036251, 69307.20992804, 68676.96776941,\n",
       "       68000.58004633, 67695.73494747, 68166.86086521, 68787.74185225,\n",
       "       68884.4235377 , 68684.30202439, 69308.15696239, 70165.59660971,\n",
       "       70379.83682692, 70214.24260795, 69938.98181021, 69794.18551803,\n",
       "       69528.2003957 , 68832.61549696, 68551.33313909, 68409.88040432,\n",
       "       68180.97430781, 68651.45045474, 69400.27709901, 69880.9075588 ,\n",
       "       70664.62058127, 71201.88369572, 71195.13344526, 71304.68427539,\n",
       "       71429.13511276, 71456.07824028, 71609.01902795, 72181.6223079 ,\n",
       "       72797.85230398, 73129.84045982, 73400.718593  , 73615.96371889,\n",
       "       73756.39839172, 73704.28519547, 73397.88275123, 73029.63370204,\n",
       "       73252.29200244, 73435.18012106, 73583.29103351, 73423.47898543,\n",
       "       73504.83449817, 73116.95553124, 72988.3798331 , 72830.97746134,\n",
       "       73089.60202217, 73426.25169158, 73836.95418656, 73884.2901206 ,\n",
       "       74017.63781965, 74172.54107296, 74145.66108108, 74259.21050072,\n",
       "       74798.85172367, 75248.51942122, 75844.34082687, 76480.34279585,\n",
       "       77340.61828494, 78100.8185488 , 78923.98081362, 78725.60868323,\n",
       "       78392.6050961 , 78145.32390237, 77920.83993018, 77180.05387068,\n",
       "       76272.67394483, 75491.65997028, 74969.19163704, 74883.24826896,\n",
       "       74428.7980479 , 73560.93050003, 73216.08898342, 74026.46628439,\n",
       "       74771.71392798, 75301.52177751, 75272.77928472, 75277.41975307,\n",
       "       75080.03674746, 75225.94317436, 75265.17670333, 74759.24990356,\n",
       "       74674.95858431, 75188.74050796, 75276.60951257, 75349.52589691,\n",
       "       75586.55281305, 75474.93955255, 75746.04392171, 75561.92465842,\n",
       "       75047.35353947, 74629.76400018, 74670.9757787 , 74550.33412397,\n",
       "       74370.43442488, 74266.24486148, 74158.35660279, 74062.54303217,\n",
       "       74032.41155565, 74098.43037307, 74225.58025837, 74807.72754014,\n",
       "       74847.08734035, 74576.99314117, 74150.93290567, 74206.49751604,\n",
       "       73967.28189826, 74071.04003489, 74412.49327302, 74745.84410608,\n",
       "       74331.47974491, 74176.73433065, 74074.96496618, 75332.43192673,\n",
       "       76982.70243287, 77989.12636876, 78447.33842075, 79268.56452644,\n",
       "       79819.05981541, 80439.34101403, 81236.11258805, 81663.3671391 ,\n",
       "       82705.9572649 , 83272.099666  , 83878.68569553, 84138.62558186,\n",
       "       84271.87331617, 84123.70979071, 84118.86413157, 83980.57606995,\n",
       "       83515.66638052, 82575.30335248, 81586.26275837, 81061.91087902,\n",
       "       80165.22718012, 79039.22963381, 78067.319839  , 78352.91909516,\n",
       "       77985.47502518, 77805.69633603, 77711.4453721 , 77923.13385785,\n",
       "       78257.43172526, 78382.93482304, 79467.96261072, 80329.48502839,\n",
       "       80444.99165237, 80353.11353564, 80044.75914836, 79762.8428036 ,\n",
       "       79534.60752308, 79073.96474957, 79181.01646125, 79185.39912581,\n",
       "       78975.85198998, 79011.92873776, 78348.45224977, 78216.56193137,\n",
       "       78302.83150017, 77610.26001215, 76551.90176427, 75810.37386119,\n",
       "       76001.26442015, 76099.17198896, 76778.02200139, 77270.26415467,\n",
       "       77148.55445564, 76899.50546443, 77119.09642577, 77883.98450971,\n",
       "       78735.46310186, 78861.19243562, 79406.36854827, 80241.6844207 ,\n",
       "       80934.73994851, 80948.66661489, 81047.78954446, 81175.06570101,\n",
       "       81411.64540648, 81628.15850616, 81732.86367714, 81878.14400911,\n",
       "       82013.15427959, 82091.38984025, 82849.07520175, 84008.73455822,\n",
       "       84889.66591895, 85575.64499557, 86053.67111087, 86334.90348637,\n",
       "       85820.2797544 , 85849.65360343, 86102.0435214 , 86052.14007199,\n",
       "       86034.2200774 , 85489.9804765 , 84732.93699384, 84439.60362375,\n",
       "       83745.28012216, 82776.50606334, 82220.49692988, 81932.89311767,\n",
       "       81727.65498817, 82359.68467414, 82652.54978836, 81950.80258965,\n",
       "       79034.93641138, 77074.62790132, 76441.6932714 , 75619.74636734])"
      ]
     },
     "execution_count": 33,
     "metadata": {},
     "output_type": "execute_result"
    }
   ],
   "source": [
    "test_predictions = model(X_test.to(device)).detach().cpu().numpy().flatten()\n",
    "\n",
    "dummies = np.zeros((X_test.shape[0], lookback+1))\n",
    "dummies[:, 0] = test_predictions\n",
    "dummies = scaler.inverse_transform(dummies)\n",
    "\n",
    "test_predictions = dc(dummies[:, 0])\n",
    "test_predictions"
   ]
  },
  {
   "cell_type": "code",
   "execution_count": 34,
   "id": "5cb81fe1-2768-4d2c-acc8-7b5f36d23547",
   "metadata": {},
   "outputs": [
    {
     "data": {
      "text/plain": [
       "array([68399.99967918, 68499.99993086, 68799.99937057, 70299.99919981,\n",
       "       72299.99897212, 71400.00065297, 70900.00070989, 72200.00003576,\n",
       "       71700.00009269, 70999.99964625, 70900.00070989, 71999.9995324 ,\n",
       "       70999.99964625, 71999.9995324 , 71900.00059605, 71499.99958932,\n",
       "       71799.99902904, 71200.00014961, 71400.00065297, 70499.99970317,\n",
       "       71299.99908596, 71600.00115633, 72400.00053912, 72600.00104249,\n",
       "       72699.99997884, 72400.00053912, 72200.00003576, 72999.99941856,\n",
       "       72999.99941856, 71999.9995324 , 71600.00115633, 69900.00082374,\n",
       "       69499.99981701, 71499.99958932, 71900.00059605, 71900.00059605,\n",
       "       73400.00042528, 73299.99885827, 71999.9995324 , 71700.00009269,\n",
       "       70999.99964625, 70299.99919981, 70400.00076681, 69999.99976009,\n",
       "       69799.99925673, 71700.00009269, 70600.00127017, 69799.99925673,\n",
       "       71100.00121325, 69900.00082374, 68799.99937057, 68299.9994275 ,\n",
       "       68499.99993086, 67600.00029638, 68899.99962226, 67999.99998778,\n",
       "       67500.0000447 , 67299.99954134, 67000.00010163, 66699.99934658,\n",
       "       66299.99965519, 66600.00041023, 66600.00041023, 67100.00035331,\n",
       "       68200.00049114, 67100.00035331, 66799.99959826, 66799.99959826,\n",
       "       67100.00035331, 66899.99984995, 70999.99964625, 71200.00014961,\n",
       "       70700.00020653, 69999.99976009, 70400.00076681, 70299.99919981,\n",
       "       70799.99914289, 70499.99970317, 70900.00070989, 71700.00009269,\n",
       "       71999.9995324 , 70200.00026345, 69799.99925673, 69599.99875337,\n",
       "       68899.99962226, 68799.99937057, 69400.00088066, 68600.00018254,\n",
       "       68399.99967918, 67500.0000447 , 66699.99934658, 66000.00021547,\n",
       "       66399.99990687, 68200.00049114, 68899.99962226, 67999.99998778,\n",
       "       67299.99954134, 69400.00088066, 70499.99970317, 69499.99981701,\n",
       "       68799.99937057, 68399.99967918, 68499.99993086, 67999.99998778,\n",
       "       66699.99934658, 67299.99954134, 67299.99954134, 66899.99984995,\n",
       "       68600.00018254, 69700.00032037, 69599.99875337, 70900.00070989,\n",
       "       70900.00070989, 69900.00082374, 70299.99919981, 70499.99970317,\n",
       "       70400.00076681, 70799.99914289, 72200.00003576, 72799.9989152 ,\n",
       "       72499.99947548, 72699.99997884, 72799.9989152 , 72799.9989152 ,\n",
       "       72400.00053912, 71700.00009269, 71299.99908596, 72699.99997884,\n",
       "       72699.99997884, 72799.9989152 , 71999.9995324 , 72600.00104249,\n",
       "       71200.00014961, 71700.00009269, 71499.99958932, 72600.00104249,\n",
       "       72999.99941856, 73499.99936163, 72799.9989152 , 73100.00098556,\n",
       "       73299.99885827, 72900.0004822 , 73400.00042528, 74799.99868751,\n",
       "       74999.99919087, 75900.00014067, 76600.00058711, 77999.99884933,\n",
       "       78499.99879241, 79600.00024557, 76999.99896318, 76600.00058711,\n",
       "       76600.00058711, 76499.9990201 , 74699.99975115, 73600.00092864,\n",
       "       73199.99992192, 73100.00098556, 73900.00036836, 72600.00104249,\n",
       "       70999.99964625, 71700.00009269, 74699.99975115, 75100.00075787,\n",
       "       75199.99969423, 73999.99930471, 74100.00087172, 73400.00042528,\n",
       "       74400.00031143, 74299.99874443, 72699.99997884, 73600.00092864,\n",
       "       75199.99969423, 74299.99874443, 74400.00031143, 74999.99919087,\n",
       "       74100.00087172, 75199.99969423, 73999.99930471, 72999.99941856,\n",
       "       72799.9989152 , 73799.99880135, 73299.99885827, 72999.99941856,\n",
       "       73100.00098556, 72900.0004822 , 72799.9989152 , 72900.0004822 ,\n",
       "       73199.99992192, 73400.00042528, 74900.00025451, 73699.999865  ,\n",
       "       72900.0004822 , 72200.00003576, 73299.99885827, 72400.00053912,\n",
       "       73299.99885827, 74100.00087172, 74299.99874443, 72299.99897212,\n",
       "       72799.9989152 , 72799.9989152 , 76900.00002682, 79300.00080585,\n",
       "       78899.99979913, 78199.99935269, 79899.99968529, 79800.00074893,\n",
       "       80800.00063509, 82399.99940068, 82000.0010246 , 85000.00068307,\n",
       "       84099.99973327, 85300.00012279, 84500.00073999, 84500.00073999,\n",
       "       83599.99979019, 84099.99973327, 83699.99872655, 82199.99889731,\n",
       "       80000.00125229, 78899.99979913, 79600.00024557, 77600.00047326,\n",
       "       76100.00064403, 75499.99913394, 78600.00035942, 76300.00114739,\n",
       "       76699.99952346, 76699.99952346, 77499.99890625, 77999.99884933,\n",
       "       77600.00047326, 81300.00057817, 81300.00057817, 79699.99918193,\n",
       "       79199.99923885, 78399.99985605, 78300.0009197 , 78199.99935269,\n",
       "       77399.9999699 , 78899.99979913, 78399.99985605, 77699.99940962,\n",
       "       78300.0009197 , 75900.00014067, 77199.99946654, 77600.00047326,\n",
       "       75199.99969423, 73499.99936163, 73499.99936163, 75699.99963731,\n",
       "       75300.00126123, 77399.9999699 , 77300.00103354, 75699.99963731,\n",
       "       75199.99969423, 76499.9990201 , 78600.00035942, 79600.00024557,\n",
       "       78100.00041634, 79800.00074893, 81199.99901116, 81600.00001788,\n",
       "       80000.00125229, 80600.00013173, 80800.00063509, 81300.00057817,\n",
       "       81600.00001788, 81500.00108153, 81800.00052124, 81800.00052124,\n",
       "       81800.00052124, 84599.99967635, 87099.99939173, 87399.99883145,\n",
       "       87799.99983817, 87799.99983817, 87599.99933481, 84399.99917299,\n",
       "       86700.00101566, 87700.00090182, 86700.00101566, 86899.99888837,\n",
       "       84399.99917299, 83000.00091076, 83899.99922991, 82000.0010246 ,\n",
       "       80399.99962837, 80899.99957144, 81199.99901116, 81000.00113845,\n",
       "       83899.99922991, 83099.99984711, 79600.00024557, 71400.00065297,\n",
       "       72499.99947548, 74699.99975115, 73400.00042528, 74799.99868751])"
      ]
     },
     "execution_count": 34,
     "metadata": {},
     "output_type": "execute_result"
    }
   ],
   "source": [
    "dummies = np.zeros((X_test.shape[0], lookback+1))\n",
    "dummies[:, 0] = y_test.flatten()\n",
    "dummies = scaler.inverse_transform(dummies)\n",
    "\n",
    "new_y_test = dc(dummies[:, 0])\n",
    "new_y_test"
   ]
  },
  {
   "cell_type": "code",
   "execution_count": 35,
   "id": "876d478d-8874-494a-b819-8f1fd3fcc1b0",
   "metadata": {},
   "outputs": [
    {
     "data": {
      "image/png": "[encoded data removed]",
      "text/plain": [
       "<Figure size 640x480 with 1 Axes>"
      ]
     },
     "metadata": {},
     "output_type": "display_data"
    }
   ],
   "source": [
    "plt.plot(new_y_test, label='Actual Close')\n",
    "plt.plot(test_predictions, label='Predicted Close')\n",
    "plt.xlabel('Day')\n",
    "plt.ylabel('Close')\n",
    "plt.legend()\n",
    "plt.show()"
   ]
  },
  {
   "cell_type": "code",
   "execution_count": null,
   "id": "77745d9a-cc82-4d53-9298-8244560a593c",
   "metadata": {},
   "outputs": [],
   "source": []
  }
 ],
 "metadata": {
  "kernelspec": {
   "display_name": "Python 3 (ipykernel)",
   "language": "python",
   "name": "python3"
  },
  "language_info": {
   "codemirror_mode": {
    "name": "ipython",
    "version": 3
   },
   "file_extension": ".py",
   "mimetype": "text/x-python",
   "name": "python",
   "nbconvert_exporter": "python",
   "pygments_lexer": "ipython3",
   "version": "3.12.3"
  }
 },
 "nbformat": 4,
 "nbformat_minor": 5
}
