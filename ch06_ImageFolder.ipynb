{
 "cells": [
  {
   "cell_type": "code",
   "execution_count": 1,
   "id": "d910750f-1d5f-4b25-a3c1-e02e97fe632b",
   "metadata": {},
   "outputs": [],
   "source": [
    "\n",
    "import torchvision.transforms.v2 as v2\n",
    "import torchvision\n",
    "import torch\n",
    "import torch.nn as nn\n",
    "import torch.optim as optim\n",
    "from torch.utils.data import DataLoader\n",
    "from torchvision import transforms\n",
    "from torchvision.datasets import ImageFolder"
   ]
  },
  {
   "cell_type": "code",
   "execution_count": 2,
   "id": "bd3753e3-afd9-4836-b8a0-64a7414c6e68",
   "metadata": {},
   "outputs": [
    {
     "name": "stderr",
     "output_type": "stream",
     "text": [
      "C:\\Users\\user\\anaconda3\\envs\\torch-book\\Lib\\site-packages\\torchvision\\transforms\\v2\\_deprecated.py:42: UserWarning: The transform `ToTensor()` is deprecated and will be removed in a future release. Instead, please use `v2.Compose([v2.ToImage(), v2.ToDtype(torch.float32, scale=True)])`.Output is equivalent up to float precision.\n",
      "  warnings.warn(\n"
     ]
    },
    {
     "data": {
      "text/plain": [
       "(torch.Tensor, int)"
      ]
     },
     "execution_count": 2,
     "metadata": {},
     "output_type": "execute_result"
    }
   ],
   "source": [
    " my_transform = v2.Compose([ \n",
    "\n",
    "             v2.RandomResizedCrop(size=(224, 224)), v2.ToTensor()])\n",
    "dataset= ImageFolder('./080289/chap06/data/dogs-vs-cats', transform= my_transform)\n",
    "image, label = dataset[0]\n",
    "type(image), type(label)"
   ]
  },
  {
   "cell_type": "code",
   "execution_count": 3,
   "id": "827ef30c-22a1-4c4b-9664-c511e572e74b",
   "metadata": {},
   "outputs": [
    {
     "data": {
      "text/plain": [
       "(torch.Size([3, 224, 224]), 0)"
      ]
     },
     "execution_count": 3,
     "metadata": {},
     "output_type": "execute_result"
    }
   ],
   "source": [
    "data, label = dataset[0]\n",
    "\n",
    "data.shape, label"
   ]
  },
  {
   "cell_type": "code",
   "execution_count": 4,
   "id": "8f54ac6e-120a-4f41-bb32-a93701ea8bf1",
   "metadata": {},
   "outputs": [
    {
     "name": "stdout",
     "output_type": "stream",
     "text": [
      "torch.Size([32, 3, 224, 224]) torch.Size([32])\n"
     ]
    }
   ],
   "source": [
    "data_loader = DataLoader(dataset, batch_size=32, shuffle=True)\n",
    "\n",
    "for X_train, y_label in data_loader:\n",
    "\n",
    "    print(X_train.shape, y_label.shape)\n",
    "\n",
    "    break"
   ]
  },
  {
   "cell_type": "code",
   "execution_count": 5,
   "id": "74a58e40-72f5-40ff-b27d-cbcffa6d98ac",
   "metadata": {},
   "outputs": [],
   "source": [
    "class LeNet5(nn.Module):\n",
    "    def __init__(self):\n",
    "        super(LeNet5, self).__init__()\n",
    "        self.features = nn.Sequential(\n",
    "            nn.Conv2d(3, 6, 5, padding=2),  # padding='same' 대신 padding=2로 설정\n",
    "            nn.ReLU(),\n",
    "            nn.MaxPool2d(2),\n",
    "            nn.Conv2d(6, 16, 5, padding=2),\n",
    "            nn.ReLU(),\n",
    "            nn.MaxPool2d(2),\n",
    "            nn.Conv2d(16, 32, 5, padding=2),\n",
    "            nn.ReLU(),\n",
    "            nn.MaxPool2d(2)\n",
    "        )\n",
    "        self.flatten = nn.Flatten()\n",
    "        self.classifier = nn.Sequential(\n",
    "            nn.Linear(32*28*28, 128),\n",
    "            nn.ReLU(),\n",
    "            nn.Linear(128, 64),\n",
    "            nn.ReLU(),\n",
    "            nn.Linear(64, 2)  # 두 클래스 (dogs vs cats)\n",
    "        )\n",
    "\n",
    "    def forward(self, x):\n",
    "        x = self.features(x)\n",
    "        x = self.flatten(x)\n",
    "        x = self.classifier(x)\n",
    "        return x\n"
   ]
  },
  {
   "cell_type": "code",
   "execution_count": 6,
   "id": "3ff7b881-1300-48d0-95dc-466aca5de585",
   "metadata": {},
   "outputs": [],
   "source": [
    "model = LeNet5()"
   ]
  },
  {
   "cell_type": "code",
   "execution_count": 7,
   "id": "8a7a96f5-d6b1-4859-acb8-2be552c7c4cf",
   "metadata": {},
   "outputs": [],
   "source": [
    "loss_fn = nn.CrossEntropyLoss()\n",
    "optimizer = optim.Adam(model.parameters(), lr=0.001)"
   ]
  },
  {
   "cell_type": "code",
   "execution_count": 8,
   "id": "b5816756-dae3-4289-989b-fadfdb427c54",
   "metadata": {},
   "outputs": [
    {
     "name": "stdout",
     "output_type": "stream",
     "text": [
      "EPOCH 1:\n",
      "  batch 1 loss: 0.006932569146156311\n",
      "  batch 2 loss: 0.0069394147396087645\n",
      "  batch 3 loss: 0.007036170959472656\n",
      "  batch 4 loss: 0.006948727369308472\n",
      "  batch 5 loss: 0.006980493664741516\n",
      "  batch 6 loss: 0.006898003220558166\n",
      "  batch 7 loss: 0.00690680205821991\n",
      "  batch 8 loss: 0.006955673098564148\n",
      "  batch 9 loss: 0.006991753578186035\n",
      "  batch 10 loss: 0.006919946074485778\n",
      "  batch 11 loss: 0.00693036675453186\n",
      "  batch 12 loss: 0.0069320833683013915\n",
      "  batch 13 loss: 0.006927648782730103\n",
      "  batch 14 loss: 0.006949743032455444\n",
      "  batch 15 loss: 0.0069166219234466555\n",
      "  batch 16 loss: 0.006976117491722107\n"
     ]
    }
   ],
   "source": [
    "EPOCHS  = 1\n",
    "for n in range(EPOCHS ):\n",
    "    print('EPOCH {}:'.format(n + 1))\n",
    "    epoch_loss = 0\n",
    "    step_loss = 0\n",
    "    for idx, (X_train, y_label) in enumerate(data_loader):\n",
    "        optimizer.zero_grad()\n",
    "        outputs = model(X_train)\n",
    "        loss = loss_fn(outputs, y_label)\n",
    "        loss.backward()\n",
    "        optimizer.step()\n",
    "        step_loss += loss.item()\n",
    "        if (idx + 1) % 1 == 0:  # 모든 배치에서 손실을 출력\n",
    "            epoch_loss = step_loss / 100 # loss per batch\n",
    "            print('  batch {} loss: {}'.format(idx + 1, epoch_loss))\n",
    "            step_loss = 0 "
   ]
  },
  {
   "cell_type": "code",
   "execution_count": null,
   "id": "9e86dcd6-cac1-4283-aa08-2fe51efaa95c",
   "metadata": {},
   "outputs": [],
   "source": []
  }
 ],
 "metadata": {
  "kernelspec": {
   "display_name": "Python 3 (ipykernel)",
   "language": "python",
   "name": "python3"
  },
  "language_info": {
   "codemirror_mode": {
    "name": "ipython",
    "version": 3
   },
   "file_extension": ".py",
   "mimetype": "text/x-python",
   "name": "python",
   "nbconvert_exporter": "python",
   "pygments_lexer": "ipython3",
   "version": "3.12.4"
  }
 },
 "nbformat": 4,
 "nbformat_minor": 5
}
