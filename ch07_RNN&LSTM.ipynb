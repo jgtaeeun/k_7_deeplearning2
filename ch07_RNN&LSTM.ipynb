{
 "cells": [
  {
   "cell_type": "markdown",
   "id": "96db556f-f5c3-461a-b405-06de4907a100",
   "metadata": {},
   "source": [
    "### RNN : 앞선 가중치를 필요로 한다.\n",
    "입력층, 은닉층, 출력층+가중치(입력층 가중치Wx, 은닉층 가중치Wh, 출력층 가중치Wy) <br />\n",
    "예측값 y = tanh(Wh * ht-1 +Wx *Xt +b)<br />\n",
    "             (Dh X Dh)   (Dh X 1)+(Dh X d)(dX1) +   (Dh X 1)<br />\n",
    "Xt (dX1)<br />\n",
    "Wx (Dh X d)<br />\n",
    "Wh (Dh X Dh)<br />\n",
    "ht-1  (Dh X 1)<br />\n",
    "b    (Dh X 1)<br />"
   ]
  },
  {
   "cell_type": "markdown",
   "id": "aa3419d6-f223-473f-9eed-4478aafae49c",
   "metadata": {},
   "source": [
    "다대다-번역 <br/>\n",
    "다대일-감정분석 <br/>\n",
    "일대다-추천시스템 <br/>"
   ]
  },
  {
   "cell_type": "markdown",
   "id": "4309b560-68e7-47db-b544-89ff3f1ce1c3",
   "metadata": {},
   "source": [
    "\n",
    "CNN은 기울기를 곱해서 하나의 기울기 만드는 게 목적 <br />\n",
    "RNN은 기울기를 보관하면서 앞선 기울기를 계산에 이용 =>가중치가 업데이트되는 과정에서 기울기가 1보다 작은 값이 계속 곱해지기 때문에 기울기가 사라지는 기울기 소멸 문제 발생함  ->LSTM이나 GRU <br />\n",
    "LeNet의 기울기 소멸"
   ]
  },
  {
   "cell_type": "markdown",
   "id": "efcf542d-1604-41f9-8d05-a6f199d71f96",
   "metadata": {},
   "source": [
    "RNN에 차분+ReLU()을 통해 성능향상 "
   ]
  },
  {
   "cell_type": "markdown",
   "id": "1efa6a08-10e3-4827-8883-42964f30fb6d",
   "metadata": {},
   "source": [
    "### LSTM\n",
    "torch.nn.LSTM(input_size, hidden_size, num_layers=1, bias=True, batch_first=False, dropout=0.0, bidirectional=False, proj_size=0, device=None, dtype=None) <br />\n",
    "input_size는 LSTM 네트워크에 입력되는 데이터의 특징(feature) 수 <br />\n",
    "hidden_size가 50이라면, 각 LSTM 셀은 50차원의 벡터를 숨겨진 상태로 사용합니다. <br />\n",
    "num_layers=1: 단일 LSTM 층으로 구성된 네트워크입니다.\n",
    "num_layers=2: 두 개의 LSTM 층이 쌓인 네트워크로, 첫 번째 층의 출력이 두 번째 층으로 전달됩니다."
   ]
  },
  {
   "cell_type": "markdown",
   "id": "a06632c5-ba4b-424f-acfe-ce0286bca42f",
   "metadata": {},
   "source": [
    "히든층 , 레이어가 너무 많으면 시간이 많이 걸린다. <br/>\n",
    "오버피팅 예방위해 많은 데이터 필요<br/>\n",
    "순차계산-cuda도움 못 받는다"
   ]
  },
  {
   "cell_type": "code",
   "execution_count": 4,
   "id": "0a7fa9ca-f592-4268-be8e-14d3cec50c69",
   "metadata": {},
   "outputs": [
    {
     "name": "stdout",
     "output_type": "stream",
     "text": [
      "Collecting tqdm\n",
      "  Downloading tqdm-4.66.5-py3-none-any.whl.metadata (57 kB)\n",
      "     ---------------------------------------- 0.0/57.6 kB ? eta -:--:--\n",
      "     ---------------------------------------- 0.0/57.6 kB ? eta -:--:--\n",
      "     ------- -------------------------------- 10.2/57.6 kB ? eta -:--:--\n",
      "     ------- -------------------------------- 10.2/57.6 kB ? eta -:--:--\n",
      "     ------- -------------------------------- 10.2/57.6 kB ? eta -:--:--\n",
      "     ------------- ------------------------- 20.5/57.6 kB 93.1 kB/s eta 0:00:01\n",
      "     ------------- ------------------------- 20.5/57.6 kB 93.1 kB/s eta 0:00:01\n",
      "     ------------- ------------------------- 20.5/57.6 kB 93.1 kB/s eta 0:00:01\n",
      "     -------------------- ------------------ 30.7/57.6 kB 77.0 kB/s eta 0:00:01\n",
      "     --------------------------- ---------- 41.0/57.6 kB 109.3 kB/s eta 0:00:01\n",
      "     -------------------------------------- 57.6/57.6 kB 137.7 kB/s eta 0:00:00\n",
      "Requirement already satisfied: colorama in c:\\users\\user\\anaconda3\\envs\\torch-book\\lib\\site-packages (from tqdm) (0.4.6)\n",
      "Downloading tqdm-4.66.5-py3-none-any.whl (78 kB)\n",
      "   ---------------------------------------- 0.0/78.4 kB ? eta -:--:--\n",
      "   ---------------------------------------- 0.0/78.4 kB ? eta -:--:--\n",
      "   ----- ---------------------------------- 10.2/78.4 kB ? eta -:--:--\n",
      "   ----- ---------------------------------- 10.2/78.4 kB ? eta -:--:--\n",
      "   --------------- ------------------------ 30.7/78.4 kB 262.6 kB/s eta 0:00:01\n",
      "   -------------------- ------------------- 41.0/78.4 kB 196.9 kB/s eta 0:00:01\n",
      "   -------------------- ------------------- 41.0/78.4 kB 196.9 kB/s eta 0:00:01\n",
      "   ---------------------------------------- 78.4/78.4 kB 272.4 kB/s eta 0:00:00\n",
      "Installing collected packages: tqdm\n",
      "Successfully installed tqdm-4.66.5\n"
     ]
    }
   ],
   "source": [
    "#!pip install tqdm"
   ]
  },
  {
   "cell_type": "markdown",
   "id": "95bf70c8-5b43-4ffb-b358-4a731a426e79",
   "metadata": {},
   "source": [
    "### 스타벅스 주가 예측 (교재 410쪽)\n",
    "통계적-ARIMA <br/>\n",
    "AI-LSTM<br/>\n",
    "둘다 전처리 필요=>다 숫자데이터야 한다."
   ]
  },
  {
   "cell_type": "code",
   "execution_count": 24,
   "id": "38ff6de3-fb67-4fad-9235-4e215f51ee4d",
   "metadata": {},
   "outputs": [],
   "source": [
    "import numpy as np\n",
    "import pandas as pd\n",
    "import matplotlib.pyplot as plt\n",
    "\n",
    "import torch\n",
    "import torch.nn as nn\n",
    "from torch.utils.data import TensorDataset, DataLoader        #숫자데이터\n",
    "from torch.autograd import Variable                           #자동미분-편미분\n",
    "\n",
    "\n",
    "from sklearn.preprocessing import StandardScaler, MinMaxScaler\n",
    "from sklearn.model_selection import train_test_split\n",
    "\n",
    "from tqdm import tqdm_notebook"
   ]
  },
  {
   "cell_type": "code",
   "execution_count": 6,
   "id": "f98006d2-f71c-40b3-9fb5-611b7d46e0fd",
   "metadata": {},
   "outputs": [
    {
     "data": {
      "text/plain": [
       "device(type='cpu')"
      ]
     },
     "execution_count": 6,
     "metadata": {},
     "output_type": "execute_result"
    }
   ],
   "source": [
    "device = torch.device(\"cuda:0\" if torch.cuda.is_available() else \"cpu\")\n",
    "device"
   ]
  },
  {
   "cell_type": "code",
   "execution_count": 12,
   "id": "e8dfc629-05e5-4350-bd2d-c998bcd4985b",
   "metadata": {},
   "outputs": [
    {
     "name": "stdout",
     "output_type": "stream",
     "text": [
      "<class 'pandas.core.frame.DataFrame'>\n",
      "DatetimeIndex: 253 entries, 2019-12-11 to 2020-12-10\n",
      "Data columns (total 6 columns):\n",
      " #   Column     Non-Null Count  Dtype  \n",
      "---  ------     --------------  -----  \n",
      " 0   Open       253 non-null    float64\n",
      " 1   High       253 non-null    float64\n",
      " 2   Low        253 non-null    float64\n",
      " 3   Close      253 non-null    float64\n",
      " 4   Adj Close  253 non-null    float64\n",
      " 5   Volume     253 non-null    float64\n",
      "dtypes: float64(6)\n",
      "memory usage: 13.8 KB\n"
     ]
    }
   ],
   "source": [
    "data=pd.read_csv(\"080289/chap07/data/SBUX.csv\", index_col=[\"Date\"], date_format=\"%Y-%m-%d\")\n",
    "data[\"Volume\"]=data[\"Volume\"].astype(float)\n",
    "data.info()\n"
   ]
  },
  {
   "cell_type": "code",
   "execution_count": 14,
   "id": "38be8f2c-885a-4bc1-ae39-d2080d50ab31",
   "metadata": {},
   "outputs": [
    {
     "data": {
      "text/html": [
       "<div>\n",
       "<style scoped>\n",
       "    .dataframe tbody tr th:only-of-type {\n",
       "        vertical-align: middle;\n",
       "    }\n",
       "\n",
       "    .dataframe tbody tr th {\n",
       "        vertical-align: top;\n",
       "    }\n",
       "\n",
       "    .dataframe thead th {\n",
       "        text-align: right;\n",
       "    }\n",
       "</style>\n",
       "<table border=\"1\" class=\"dataframe\">\n",
       "  <thead>\n",
       "    <tr style=\"text-align: right;\">\n",
       "      <th></th>\n",
       "      <th>Open</th>\n",
       "      <th>High</th>\n",
       "      <th>Low</th>\n",
       "      <th>Close</th>\n",
       "      <th>Adj Close</th>\n",
       "      <th>Volume</th>\n",
       "    </tr>\n",
       "    <tr>\n",
       "      <th>Date</th>\n",
       "      <th></th>\n",
       "      <th></th>\n",
       "      <th></th>\n",
       "      <th></th>\n",
       "      <th></th>\n",
       "      <th></th>\n",
       "    </tr>\n",
       "  </thead>\n",
       "  <tbody>\n",
       "    <tr>\n",
       "      <th>2019-12-11</th>\n",
       "      <td>86.260002</td>\n",
       "      <td>86.870003</td>\n",
       "      <td>85.849998</td>\n",
       "      <td>86.589996</td>\n",
       "      <td>84.145752</td>\n",
       "      <td>4921900.0</td>\n",
       "    </tr>\n",
       "    <tr>\n",
       "      <th>2019-12-12</th>\n",
       "      <td>88.000000</td>\n",
       "      <td>88.889999</td>\n",
       "      <td>87.540001</td>\n",
       "      <td>88.209999</td>\n",
       "      <td>85.720032</td>\n",
       "      <td>10282100.0</td>\n",
       "    </tr>\n",
       "    <tr>\n",
       "      <th>2019-12-13</th>\n",
       "      <td>88.019997</td>\n",
       "      <td>88.790001</td>\n",
       "      <td>87.580002</td>\n",
       "      <td>88.669998</td>\n",
       "      <td>86.167046</td>\n",
       "      <td>6714100.0</td>\n",
       "    </tr>\n",
       "    <tr>\n",
       "      <th>2019-12-16</th>\n",
       "      <td>89.139999</td>\n",
       "      <td>89.300003</td>\n",
       "      <td>88.430000</td>\n",
       "      <td>88.779999</td>\n",
       "      <td>86.273941</td>\n",
       "      <td>6705600.0</td>\n",
       "    </tr>\n",
       "    <tr>\n",
       "      <th>2019-12-17</th>\n",
       "      <td>88.870003</td>\n",
       "      <td>88.970001</td>\n",
       "      <td>87.470001</td>\n",
       "      <td>88.129997</td>\n",
       "      <td>85.642288</td>\n",
       "      <td>7296900.0</td>\n",
       "    </tr>\n",
       "  </tbody>\n",
       "</table>\n",
       "</div>"
      ],
      "text/plain": [
       "                 Open       High        Low      Close  Adj Close      Volume\n",
       "Date                                                                         \n",
       "2019-12-11  86.260002  86.870003  85.849998  86.589996  84.145752   4921900.0\n",
       "2019-12-12  88.000000  88.889999  87.540001  88.209999  85.720032  10282100.0\n",
       "2019-12-13  88.019997  88.790001  87.580002  88.669998  86.167046   6714100.0\n",
       "2019-12-16  89.139999  89.300003  88.430000  88.779999  86.273941   6705600.0\n",
       "2019-12-17  88.870003  88.970001  87.470001  88.129997  85.642288   7296900.0"
      ]
     },
     "execution_count": 14,
     "metadata": {},
     "output_type": "execute_result"
    }
   ],
   "source": [
    "data.head()"
   ]
  },
  {
   "cell_type": "code",
   "execution_count": 17,
   "id": "014bcc62-21d5-4e6d-ba35-56c0578b8a9b",
   "metadata": {},
   "outputs": [
    {
     "name": "stdout",
     "output_type": "stream",
     "text": [
      "                  Open        High         Low       Close   Adj Close\n",
      "Date                                                                  \n",
      "2019-12-11   86.260002   86.870003   85.849998   86.589996   84.145752\n",
      "2019-12-12   88.000000   88.889999   87.540001   88.209999   85.720032\n",
      "2019-12-13   88.019997   88.790001   87.580002   88.669998   86.167046\n",
      "2019-12-16   89.139999   89.300003   88.430000   88.779999   86.273941\n",
      "2019-12-17   88.870003   88.970001   87.470001   88.129997   85.642288\n",
      "...                ...         ...         ...         ...         ...\n",
      "2020-12-04  101.349998  102.940002  101.070000  102.279999  101.442787\n",
      "2020-12-07  102.010002  102.220001  100.690002  101.410004  100.579918\n",
      "2020-12-08  100.370003  101.570000  100.010002  101.209999  100.381554\n",
      "2020-12-09  101.940002  102.209999  100.099998  100.400002   99.578186\n",
      "2020-12-10  103.510002  106.089996  102.750000  105.389999  104.527336\n",
      "\n",
      "[253 rows x 5 columns]\n",
      "                Volume\n",
      "Date                  \n",
      "2019-12-11   4921900.0\n",
      "2019-12-12  10282100.0\n",
      "2019-12-13   6714100.0\n",
      "2019-12-16   6705600.0\n",
      "2019-12-17   7296900.0\n",
      "...                ...\n",
      "2020-12-04   6952700.0\n",
      "2020-12-07   4514800.0\n",
      "2020-12-08   3911300.0\n",
      "2020-12-09   6629900.0\n",
      "2020-12-10  12939200.0\n",
      "\n",
      "[253 rows x 1 columns]\n"
     ]
    }
   ],
   "source": [
    "X=data.iloc[:,:-1] #컬럼은 마지막꺼 제외\n",
    "y=data.iloc[:,5:6]\n",
    "print(X)\n",
    "print(y)"
   ]
  },
  {
   "cell_type": "code",
   "execution_count": 18,
   "id": "bbf3e6d5-b21e-4263-8545-11e64cbea402",
   "metadata": {},
   "outputs": [],
   "source": [
    "ms=MinMaxScaler()\n",
    "ss=StandardScaler()\n",
    "\n",
    "X_ss=ss.fit_transform(X)       \n",
    "y_ms=ms.fit_transform(y)\n",
    "\n",
    "X_train=X_ss[:200,:]\n",
    "X_test=X_ss[200:,:]\n",
    "\n",
    "y_train=y_ms[:200,:]\n",
    "y_test=y_ms[200:,:]\n",
    "\n"
   ]
  },
  {
   "cell_type": "code",
   "execution_count": 19,
   "id": "3931d8a1-ce6b-4aab-8718-ca72f2d045b4",
   "metadata": {},
   "outputs": [
    {
     "name": "stdout",
     "output_type": "stream",
     "text": [
      "(200, 5) (53, 5)\n"
     ]
    }
   ],
   "source": [
    "print(X_train.shape, X_test.shape)"
   ]
  },
  {
   "cell_type": "code",
   "execution_count": null,
   "id": "132cc27c-b0e5-4762-9a71-4ae21c5a7ed7",
   "metadata": {},
   "outputs": [],
   "source": [
    "#X_train, X_test, y_train, y_test=train_test_split(X_ss, y_ms)"
   ]
  },
  {
   "cell_type": "markdown",
   "id": "4c4c4632-9ba4-44e2-9653-3359791de472",
   "metadata": {},
   "source": [
    "### 파이토치 관련\n",
    "데이터를 텐서로 변경\n",
    "모델 설계\n",
    "모델 생성 후 학습\n",
    "예측\n",
    "검증"
   ]
  },
  {
   "cell_type": "code",
   "execution_count": 20,
   "id": "b0b4686f-568b-4f88-9d21-406fcd8f89b5",
   "metadata": {},
   "outputs": [],
   "source": [
    "X_train_tensors=Variable(torch.Tensor(X_train))\n",
    "X_test_tensors=Variable(torch.Tensor(X_test))\n",
    "y_train_tensors=Variable(torch.Tensor(y_train))\n",
    "y_test_tensors=Variable(torch.Tensor(y_test))"
   ]
  },
  {
   "cell_type": "code",
   "execution_count": 22,
   "id": "8fcbc74c-d20c-437a-9a22-75aaecdffe44",
   "metadata": {},
   "outputs": [
    {
     "name": "stdout",
     "output_type": "stream",
     "text": [
      "torch.Size([53, 5]) torch.Size([53, 1, 5])\n",
      "torch.Size([200, 5]) torch.Size([200, 1, 5])\n"
     ]
    }
   ],
   "source": [
    "X_test_tensors_f= torch.reshape( \n",
    "  X_test_tensors,( X_test_tensors.shape[0],1, X_test_tensors.shape[1]))\n",
    "print(X_test_tensors.shape, X_test_tensors_f.shape)\n",
    "\n",
    "X_train_tensors_f= torch.reshape( \n",
    "  X_train_tensors,( X_train_tensors.shape[0],1, X_train_tensors.shape[1]))\n",
    "print(X_train_tensors.shape, X_train_tensors_f.shape)"
   ]
  },
  {
   "cell_type": "code",
   "execution_count": 25,
   "id": "0ffaf3c4-2d21-4783-8bbc-d55262a7659a",
   "metadata": {},
   "outputs": [],
   "source": [
    "class LSTM(nn.Module):\n",
    "    def __init__(self, num_classes, input_size, hidden_size, num_layers, seq_length):\n",
    "        super(LSTM, self).__init__()\n",
    "        self.num_classes=num_classes\n",
    "        self.num_layers=num_layers\n",
    "        self.input_size=input_size\n",
    "        self.hidden_size=hidden_size\n",
    "        self.seq_length=seq_length\n",
    "\n",
    "        self.lstm=nn.LSTM(input_size=input_size , hidden_size=hidden_size, num_layers=num_layers, batch_first=True)\n",
    "        self.fc_1=nn.Linear(hidden_size, 128)\n",
    "        self.fc=nn.Linear(128, num_classes)\n",
    "        self.relu=nn.ReLU()\n",
    "\n",
    "    def forward(self, x):\n",
    "        h_0=Variable(torch.zeros(self.num_layers, x.size(0), self.hidden_size))         #hidden_state.shape :      torch.Size([num_layers, 배치사이즈, hidden_size])\n",
    "        c_0=Variable(torch.zeros(self.num_layers, x.size(0), self.hidden_size))         #cell_state.shape :    torch.Size([num_layers, 배치사이즈, hidden_size])\n",
    "\n",
    "        output, (hn, cn) = self.lstm(x, (h_0 , c_0))\n",
    "        hn=hn.view(-1, self.hidden_size)                                             #1차원조정을 위한 view(-1, )    #reshape은 원본이 바뀐다. view는 원본이 바뀌지 않는다.\n",
    "        out=self.relu(hn)\n",
    "        out=self.fc_1(out)\n",
    "        out=self.relu(out)\n",
    "        out=self.fc(out)\n",
    "        return out\n",
    "        \n",
    "        \n",
    "        \n",
    " \n",
    "\n"
   ]
  },
  {
   "cell_type": "code",
   "execution_count": 26,
   "id": "9b7bbe89-3408-4d9a-ae56-1c681cbe6f81",
   "metadata": {},
   "outputs": [],
   "source": [
    "num_epochs=1000\n",
    "learning_rate=0.0001\n",
    "\n",
    "input_size=5\n",
    "hidden_size=2\n",
    "num_layers=1\n",
    "\n",
    "num_classes=1\n",
    "model=LSTM(num_classes, input_size, hidden_size, num_layers, X_train_tensors_f.shape[1])\n",
    "\n",
    "criterion=torch.nn.MSELoss()\n",
    "optimizer=torch.optim.Adam(model.parameters(), lr=learning_rate)"
   ]
  },
  {
   "cell_type": "code",
   "execution_count": 29,
   "id": "19946ae2-a6cb-4faa-a191-65333a6b9f23",
   "metadata": {},
   "outputs": [
    {
     "name": "stdout",
     "output_type": "stream",
     "text": [
      "Epoch:0 , loss:0.30276\n",
      "Epoch:100 , loss:0.10837\n",
      "Epoch:200 , loss:0.05011\n",
      "Epoch:300 , loss:0.04013\n",
      "Epoch:400 , loss:0.03843\n",
      "Epoch:500 , loss:0.03690\n",
      "Epoch:600 , loss:0.03530\n",
      "Epoch:700 , loss:0.03397\n",
      "Epoch:800 , loss:0.03306\n",
      "Epoch:900 , loss:0.03251\n"
     ]
    }
   ],
   "source": [
    "for epoch in range(num_epochs):\n",
    "    outputs=model.forward( X_train_tensors_f)\n",
    "    optimizer.zero_grad()\n",
    "    loss=criterion(outputs, y_train_tensors)\n",
    "    loss.backward()\n",
    "\n",
    "    optimizer.step()\n",
    "    if epoch%100 == 0:\n",
    "        print(\"Epoch:%d , loss:%1.5f\" %(epoch, loss.item()))"
   ]
  },
  {
   "cell_type": "code",
   "execution_count": null,
   "id": "df014088-450b-4c13-b3d8-d718bd255d70",
   "metadata": {},
   "outputs": [],
   "source": []
  }
 ],
 "metadata": {
  "kernelspec": {
   "display_name": "Python 3 (ipykernel)",
   "language": "python",
   "name": "python3"
  },
  "language_info": {
   "codemirror_mode": {
    "name": "ipython",
    "version": 3
   },
   "file_extension": ".py",
   "mimetype": "text/x-python",
   "name": "python",
   "nbconvert_exporter": "python",
   "pygments_lexer": "ipython3",
   "version": "3.12.3"
  }
 },
 "nbformat": 4,
 "nbformat_minor": 5
}
