{
 "cells": [
  {
   "cell_type": "code",
   "execution_count": 1,
   "id": "3d7e71a6-9e49-427c-b64e-249d207b5cc2",
   "metadata": {},
   "outputs": [],
   "source": [
    "\n",
    "import torch\n",
    "import torch.nn as nn"
   ]
  },
  {
   "cell_type": "code",
   "execution_count": 2,
   "id": "952e4ddf-6b25-4d7c-9071-3f36b8627781",
   "metadata": {},
   "outputs": [
    {
     "data": {
      "text/plain": [
       "LSTM(10, 20)"
      ]
     },
     "execution_count": 2,
     "metadata": {},
     "output_type": "execute_result"
    }
   ],
   "source": [
    "lstm=nn.LSTM(input_size=10 , hidden_size=20, num_layers=1)       #batch_first default=False       outputs.shape:  (입력개수,배치사이즈, hidden_size)\n",
    "lstm "
   ]
  },
  {
   "cell_type": "code",
   "execution_count": 5,
   "id": "b343b932-e404-4507-84aa-9723d2c3407b",
   "metadata": {},
   "outputs": [
    {
     "data": {
      "text/plain": [
       "torch.Size([1, 35, 10])"
      ]
     },
     "execution_count": 5,
     "metadata": {},
     "output_type": "execute_result"
    }
   ],
   "source": [
    "input=torch.zeros(1,35,10)       # (,,input_size)\n",
    "input.shape"
   ]
  },
  {
   "cell_type": "code",
   "execution_count": 6,
   "id": "174c457a-073b-4e6e-8933-804d2d8886de",
   "metadata": {},
   "outputs": [
    {
     "name": "stdout",
     "output_type": "stream",
     "text": [
      "torch.Size([1, 35, 20]) torch.Size([1, 35, 20]) torch.Size([1, 35, 20])\n"
     ]
    }
   ],
   "source": [
    "outputs, (hidden_state, cell_state) = lstm(input)\n",
    "print(outputs.shape , hidden_state.shape, cell_state.shape)      # outputs=(,,hidden_size)"
   ]
  },
  {
   "cell_type": "code",
   "execution_count": 7,
   "id": "45580ccf-3009-4b7d-9045-afa842f3ad9b",
   "metadata": {},
   "outputs": [
    {
     "name": "stdout",
     "output_type": "stream",
     "text": [
      "torch.Size([35, 1, 20]) torch.Size([1, 1, 20]) torch.Size([1, 1, 20])\n"
     ]
    }
   ],
   "source": [
    "input2=torch.zeros(35,1,10)\n",
    "outputs2, (hidden_state, cell_state) = lstm(input2)\n",
    "print(outputs2.shape , hidden_state.shape, cell_state.shape)"
   ]
  },
  {
   "cell_type": "code",
   "execution_count": 13,
   "id": "57798a2a-c0fb-437e-8887-306df77d879e",
   "metadata": {},
   "outputs": [
    {
     "data": {
      "text/plain": [
       "LSTM(10, 20, num_layers=2, batch_first=True)"
      ]
     },
     "execution_count": 13,
     "metadata": {},
     "output_type": "execute_result"
    }
   ],
   "source": [
    "lstm2=nn.LSTM(input_size=10 , hidden_size=20, num_layers=2,batch_first=True )       #batch_first default=True   outputs.shape:   (배치사이즈, 입력개수,hidden_size)\n",
    "lstm2"
   ]
  },
  {
   "cell_type": "code",
   "execution_count": 14,
   "id": "42efe051-b7cf-4312-9f66-747ef3456927",
   "metadata": {},
   "outputs": [
    {
     "name": "stdout",
     "output_type": "stream",
     "text": [
      "torch.Size([35, 1, 20]) torch.Size([2, 35, 20]) torch.Size([2, 35, 20])\n"
     ]
    }
   ],
   "source": [
    "input3=torch.zeros(35,1,10)\n",
    "outputs3, (hidden_state, cell_state) = lstm2(input3)\n",
    "print(outputs3.shape , hidden_state.shape, cell_state.shape)"
   ]
  },
  {
   "cell_type": "markdown",
   "id": "1aeec924-68e0-4ca4-a795-428bd164b7b6",
   "metadata": {},
   "source": [
    " hidden_state.shape, cell_state.shape :torch.Size([num_layers, 배치사이즈, hidden_size]) "
   ]
  },
  {
   "cell_type": "code",
   "execution_count": null,
   "id": "1a9cad33-6e4e-45f8-9157-cb16d671b128",
   "metadata": {},
   "outputs": [],
   "source": []
  }
 ],
 "metadata": {
  "kernelspec": {
   "display_name": "Python 3 (ipykernel)",
   "language": "python",
   "name": "python3"
  },
  "language_info": {
   "codemirror_mode": {
    "name": "ipython",
    "version": 3
   },
   "file_extension": ".py",
   "mimetype": "text/x-python",
   "name": "python",
   "nbconvert_exporter": "python",
   "pygments_lexer": "ipython3",
   "version": "3.12.3"
  }
 },
 "nbformat": 4,
 "nbformat_minor": 5
}
