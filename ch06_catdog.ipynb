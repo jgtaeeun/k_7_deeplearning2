{
 "cells": [
  {
   "cell_type": "markdown",
   "id": "2a47f252-b2a6-4fc9-a2bc-b411b6959097",
   "metadata": {},
   "source": [
    "### 이미지 분류를 위한 신경망 -교재 250~255"
   ]
  },
  {
   "cell_type": "code",
   "execution_count": 1,
   "id": "3eb5332d-a32c-416c-ab04-17c50554b3bf",
   "metadata": {},
   "outputs": [],
   "source": [
    "import torch\n",
    "import torchvision\n",
    "from torch.utils.data import DataLoader, Dataset\n",
    "from torchvision import transforms\n",
    "import torchvision.transforms.v2 as v2\n",
    "from torch import optim\n",
    "import torch.nn as nn\n",
    "import os\n",
    "from PIL import Image\n",
    "\n",
    "import random\n",
    "from matplotlib import pyplot as plt\n"
   ]
  },
  {
   "cell_type": "markdown",
   "id": "88833f38-9a51-4f08-8a2c-8d28d753d29c",
   "metadata": {},
   "source": [
    " ### cat vs dog  교수님 코드"
   ]
  },
  {
   "cell_type": "code",
   "execution_count": 2,
   "id": "f2fda659-8d8b-4a2d-b27c-ccbeb47dfee4",
   "metadata": {},
   "outputs": [],
   "source": [
    "import os\n",
    "from pathlib import Path\n",
    "root='./080289/chap06/data/dogs-vs-cats'"
   ]
  },
  {
   "cell_type": "code",
   "execution_count": 3,
   "id": "3796789b-1437-4a20-b92a-e88a8816ccb0",
   "metadata": {},
   "outputs": [],
   "source": [
    "image_paths=[]\n",
    "labels=[]\n"
   ]
  },
  {
   "cell_type": "code",
   "execution_count": 4,
   "id": "9a7e609e-897c-4b0b-b206-3123bd1d4628",
   "metadata": {},
   "outputs": [
    {
     "data": {
      "text/plain": [
       "['Cat', 'Dog']"
      ]
     },
     "execution_count": 4,
     "metadata": {},
     "output_type": "execute_result"
    }
   ],
   "source": [
    "os.listdir(root)"
   ]
  },
  {
   "cell_type": "code",
   "execution_count": 5,
   "id": "392c434e-7f9e-4a83-ae9e-009f0e00b442",
   "metadata": {},
   "outputs": [],
   "source": [
    "class MyDataset():\n",
    "\n",
    "    def __init__(self, root):\n",
    "\n",
    "        self.root = root\n",
    "\n",
    "        self.image_paths = []\n",
    "\n",
    "        self.__classes = {'Cat': 0, 'Dog': 1}\n",
    "\n",
    "        self.labels = []\n",
    "\n",
    "        \n",
    "        for dname in os.listdir(self.root):\n",
    "\n",
    "            print(type(dname))\n",
    "\n",
    "            new_path = Path(root, dname)\n",
    "\n",
    "            if os.path.isdir(new_path):\n",
    "\n",
    "                for file in os.listdir(new_path):\n",
    "\n",
    "                    self.image_paths.append(str(Path(new_path, file)))\n",
    "\n",
    "                    self.labels.append(self.__classes[dname])\n",
    "\n",
    "        \n",
    "        self.transform = v2.Compose([ \n",
    "\n",
    "             v2.RandomResizedCrop(size=(224, 224), antialias=True),\n",
    "\n",
    "             v2.ToTensor()])\n",
    "\n",
    "    def __getitem__(self, idx):\n",
    "\n",
    "        path = self.image_paths[idx]\n",
    "\n",
    "        #print(path)\n",
    "\n",
    "        image = Image.open(path)\n",
    "\n",
    "        #print(self.transform(image).shape)\n",
    "\n",
    "        return self.transform(image) , self.labels[idx]\n",
    "\n",
    "\n",
    "\n",
    "    def __len__(self):\n",
    "\n",
    "        return len(self.labels)"
   ]
  },
  {
   "cell_type": "code",
   "execution_count": 6,
   "id": "6d4b32df-cdc8-4a29-944e-e7a3950dce01",
   "metadata": {},
   "outputs": [
    {
     "name": "stdout",
     "output_type": "stream",
     "text": [
      "<class 'str'>\n",
      "<class 'str'>\n"
     ]
    },
    {
     "name": "stderr",
     "output_type": "stream",
     "text": [
      "C:\\Users\\user\\anaconda3\\envs\\torch-book\\Lib\\site-packages\\torchvision\\transforms\\v2\\_deprecated.py:42: UserWarning: The transform `ToTensor()` is deprecated and will be removed in a future release. Instead, please use `v2.Compose([v2.ToImage(), v2.ToDtype(torch.float32, scale=True)])`.Output is equivalent up to float precision.\n",
      "  warnings.warn(\n"
     ]
    },
    {
     "data": {
      "text/plain": [
       "(torch.Size([3, 224, 224]), 0)"
      ]
     },
     "execution_count": 6,
     "metadata": {},
     "output_type": "execute_result"
    }
   ],
   "source": [
    "dataset = MyDataset('./080289/chap06/data/dogs-vs-cats')\n",
    "\n",
    "data, label = dataset[0]\n",
    "\n",
    "data.shape, label"
   ]
  },
  {
   "cell_type": "code",
   "execution_count": 7,
   "id": "f7a0802c-6541-4d2d-98c7-6d9f72f26a4d",
   "metadata": {},
   "outputs": [
    {
     "name": "stdout",
     "output_type": "stream",
     "text": [
      "torch.Size([32, 3, 224, 224]) torch.Size([32])\n"
     ]
    }
   ],
   "source": [
    "data_loader = DataLoader(dataset, batch_size=32, shuffle=True)\n",
    "\n",
    "for X_train, y_label in data_loader:\n",
    "\n",
    "    print(X_train.shape, y_label.shape)\n",
    "\n",
    "    break"
   ]
  },
  {
   "cell_type": "code",
   "execution_count": 8,
   "id": "1ea16e29-9a3b-44d9-9724-b42d0ce41deb",
   "metadata": {},
   "outputs": [],
   "source": [
    "class LeNet5(nn.Module):\n",
    "    def __init__(self):\n",
    "        super(LeNet5, self).__init__()\n",
    "        self.features = nn.Sequential(nn.Conv2d(3, 6, 5, padding='same'),\n",
    "                       nn.ReLU(),\n",
    "                       nn.MaxPool2d(2),\n",
    "                       nn.Conv2d(6, 16, 5, padding='same'),\n",
    "                       nn.ReLU(),\n",
    "                       nn.MaxPool2d(2),\n",
    "                       nn.Conv2d(16, 126, 5, padding='same'),\n",
    "                       nn.ReLU(),\n",
    "                       nn.MaxPool2d(2))\n",
    "        self.flatten = nn.Flatten()\n",
    "        self.classifier = nn.Sequential(nn.Linear(126*28*28 , 128),\n",
    "                                        nn.ReLU(),\n",
    "                                        nn.Linear(128, 64),\n",
    "                                        nn.ReLU(),\n",
    "                                        nn.Linear(64, 2),\n",
    "                                        nn.Softmax(dim=1))\n",
    "\n",
    "    def forward(self, x):\n",
    "        x = self.features(x)\n",
    "        #print(x.shape)\n",
    "        x =self.flatten(x)\n",
    "        x = self.classifier(x)\n",
    "        return x"
   ]
  },
  {
   "cell_type": "code",
   "execution_count": 9,
   "id": "b9253dac-9004-4fa0-b28f-941420d55acc",
   "metadata": {},
   "outputs": [],
   "source": [
    "model = LeNet5()"
   ]
  },
  {
   "cell_type": "code",
   "execution_count": 10,
   "id": "660f16af-8275-48fe-a916-7aa9c26ea245",
   "metadata": {},
   "outputs": [],
   "source": [
    "loss_fn = nn.CrossEntropyLoss()"
   ]
  },
  {
   "cell_type": "code",
   "execution_count": 11,
   "id": "27648a36-7983-45b4-ab05-10278f5b81e1",
   "metadata": {},
   "outputs": [],
   "source": [
    "optimizer = optim.Adam(model.parameters(), lr=0.001)"
   ]
  },
  {
   "cell_type": "code",
   "execution_count": 12,
   "id": "2e4872ea-6254-4968-b68b-2ee39f62853b",
   "metadata": {},
   "outputs": [
    {
     "name": "stdout",
     "output_type": "stream",
     "text": [
      "tensor(0.7078, grad_fn=<NllLossBackward0>)\n",
      "tensor(0.7662, grad_fn=<NllLossBackward0>)\n",
      "tensor(0.6927, grad_fn=<NllLossBackward0>)\n",
      "tensor(0.6935, grad_fn=<NllLossBackward0>)\n",
      "tensor(0.6890, grad_fn=<NllLossBackward0>)\n",
      "tensor(0.6818, grad_fn=<NllLossBackward0>)\n",
      "tensor(0.7107, grad_fn=<NllLossBackward0>)\n",
      "tensor(0.6928, grad_fn=<NllLossBackward0>)\n",
      "tensor(0.7141, grad_fn=<NllLossBackward0>)\n",
      "tensor(0.6905, grad_fn=<NllLossBackward0>)\n",
      "tensor(0.6909, grad_fn=<NllLossBackward0>)\n",
      "tensor(0.6919, grad_fn=<NllLossBackward0>)\n",
      "tensor(0.6900, grad_fn=<NllLossBackward0>)\n",
      "tensor(0.6823, grad_fn=<NllLossBackward0>)\n",
      "tensor(0.6936, grad_fn=<NllLossBackward0>)\n",
      "tensor(0.7374, grad_fn=<NllLossBackward0>)\n"
     ]
    }
   ],
   "source": [
    "epochs = 1\n",
    "\n",
    "for _ in range(epochs):\n",
    "    for X_train, y_label in data_loader:\n",
    "        optimizer.zero_grad()\n",
    "        outputs = model(X_train)\n",
    "        loss = loss_fn(outputs, y_label)\n",
    "        print(loss)\n",
    "        loss.backward()\n",
    "        optimizer.step()"
   ]
  },
  {
   "cell_type": "code",
   "execution_count": null,
   "id": "7ff75bd4-de90-4e74-a4f5-b28ce92b38c6",
   "metadata": {},
   "outputs": [],
   "source": []
  }
 ],
 "metadata": {
  "kernelspec": {
   "display_name": "Python 3 (ipykernel)",
   "language": "python",
   "name": "python3"
  },
  "language_info": {
   "codemirror_mode": {
    "name": "ipython",
    "version": 3
   },
   "file_extension": ".py",
   "mimetype": "text/x-python",
   "name": "python",
   "nbconvert_exporter": "python",
   "pygments_lexer": "ipython3",
   "version": "3.12.4"
  }
 },
 "nbformat": 4,
 "nbformat_minor": 5
}
