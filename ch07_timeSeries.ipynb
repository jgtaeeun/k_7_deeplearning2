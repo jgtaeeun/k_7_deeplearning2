{
 "cells": [
  {
   "cell_type": "markdown",
   "id": "2c088315-5da3-4224-bde0-fe42e8783ff5",
   "metadata": {},
   "source": [
    "### 시계열 -순서가 있는 데이터,사람들의 창작물 예)주식, 시"
   ]
  },
  {
   "cell_type": "markdown",
   "id": "202704d9-1568-424d-ae0a-eb083e28c52e",
   "metadata": {},
   "source": [
    "CNN -특징, 정방 <br/>\n",
    "RNN-특징, 순서"
   ]
  },
  {
   "cell_type": "markdown",
   "id": "d34fa1d9-ab66-4b6a-836d-d432bdb55dbb",
   "metadata": {},
   "source": [
    "순서데이터 다루는 방법 <br />\n",
    "독립변인(x축)이 시간,날짜=>통계적시계열 또는 RNN <br />\n",
    "기수/서수 =>RNN"
   ]
  },
  {
   "cell_type": "markdown",
   "id": "1335209d-1548-4141-b6eb-c3707faf163a",
   "metadata": {},
   "source": [
    "시계열-정상성O-AR,MA            <br/>\n",
    "시계열-정상성X-ARIMA 또는 정상적으로 만든다.   <br/>\n",
    "\n",
    "4) ARIMA Model  <br/>\n",
    "이제까지 AR, MA, ARMA모델의 경우 시계열이 정상성이라는 가정이 있는 상황에서 진행했다면, ARIMA모델에서는 차분이라는 개념을 통해 non-stationary한 상황에서 좀 더 나은 예측을 하는 것이 목표다. (현실세계의 데이터는 non-stationary한 경우가 대부분)<br/>\n",
    "\n",
    "따라서 ARMA모델에 차분이라는 차수 d가 포함되어 ARIMA(p,d,q)로 표현할 수 있다.<br/>\n",
    "\n",
    "차분이라는 개념은 현재 상태에서 바로 이전 상태를 빼주는 것을 의미하며, 차분을 거친 결과들이 whitening되는 효과를 가져온다.<br/>\n",
    "\n",
    "차분을 수식으로 보면 아래와 같다."
   ]
  },
  {
   "cell_type": "code",
   "execution_count": null,
   "id": "25d55c15-70a7-4212-8e48-10150239f62f",
   "metadata": {},
   "outputs": [],
   "source": []
  }
 ],
 "metadata": {
  "kernelspec": {
   "display_name": "Python 3 (ipykernel)",
   "language": "python",
   "name": "python3"
  },
  "language_info": {
   "codemirror_mode": {
    "name": "ipython",
    "version": 3
   },
   "file_extension": ".py",
   "mimetype": "text/x-python",
   "name": "python",
   "nbconvert_exporter": "python",
   "pygments_lexer": "ipython3",
   "version": "3.12.4"
  }
 },
 "nbformat": 4,
 "nbformat_minor": 5
}
