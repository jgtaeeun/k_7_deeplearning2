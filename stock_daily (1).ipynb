{
 "cells": [
  {
   "cell_type": "code",
   "execution_count": 1,
   "metadata": {
    "id": "w-aSaDvoztcT"
   },
   "outputs": [],
   "source": [
    "import pandas as pd\n",
    "import numpy as np\n",
    "import matplotlib.pyplot as plt\n",
    "from sklearn.preprocessing import MinMaxScaler\n",
    "\n",
    "import torch\n",
    "import torch.nn as nn\n",
    "from  torch.utils.data import Dataset, DataLoader"
   ]
  },
  {
   "cell_type": "code",
   "execution_count": 2,
   "metadata": {
    "id": "X00qoiwrztcU"
   },
   "outputs": [],
   "source": [
    "seq_length = 7"
   ]
  },
  {
   "cell_type": "code",
   "execution_count": 5,
   "metadata": {
    "colab": {
     "base_uri": "https://localhost:8080/"
    },
    "id": "3y0Eni3CztcU",
    "outputId": "9139bd41-d623-4797-f21d-34e358a71cea"
   },
   "outputs": [
    {
     "name": "stdout",
     "output_type": "stream",
     "text": [
      "<class 'pandas.core.frame.DataFrame'>\n",
      "RangeIndex: 732 entries, 0 to 731\n",
      "Data columns (total 5 columns):\n",
      " #   Column  Non-Null Count  Dtype  \n",
      "---  ------  --------------  -----  \n",
      " 0   Open    732 non-null    float64\n",
      " 1   High    732 non-null    float64\n",
      " 2   Low     732 non-null    float64\n",
      " 3   Volume  732 non-null    int64  \n",
      " 4   Close   732 non-null    float64\n",
      "dtypes: float64(4), int64(1)\n",
      "memory usage: 28.7 KB\n",
      "None          Open        High         Low   Volume       Close\n",
      "0  828.659973  833.450012  828.349976  1247700  831.659973\n",
      "1  823.020020  828.070007  821.655029  1597800  828.070007\n",
      "2  819.929993  824.400024  818.979980  1281700  824.159973\n",
      "3  819.359985  823.000000  818.469971  1304000  818.979980\n",
      "4  819.000000  823.000000  816.000000  1053600  820.450012\n"
     ]
    }
   ],
   "source": [
    "# Q1. \"데이터 불러오기 - \"stock_daily.csv\"을 불러오세요.\n",
    "df = pd.read_csv(\"data/stock_daily.csv\")\n",
    "\n",
    "# 첫 번째 행을 열 이름으로 설정\n",
    "df.columns = [\"Open\", \"High\", \"Low\", \"Volume\", \"Close\"]\n",
    "\n",
    "df = df.apply(pd.to_numeric, errors='coerce')\n",
    "# Q2a. 데이터를 역순으로 정렬하고, 전체 데이터의 70% 학습, 30% 테스트에 사용하세요.\n",
    "# Q2b. 단, 테스트에 사용될 데이터에는 7일간의 데이터가 포함되지 않아야 합니다.\n",
    "df_reversed = df[::-1].reset_index(drop=True)\n",
    "print(df.info(), df.head())\n",
    "\n",
    "train_index =int(0.7 * len(df_reversed))\n",
    "\n",
    "train_df = df_reversed[:train_index]\n",
    "test_df = df_reversed[train_index:]\n",
    "test_df = test_df[:-seq_length]\n",
    "\n"
   ]
  },
  {
   "cell_type": "code",
   "execution_count": 9,
   "metadata": {},
   "outputs": [
    {
     "data": {
      "text/html": [
       "<div>\n",
       "<style scoped>\n",
       "    .dataframe tbody tr th:only-of-type {\n",
       "        vertical-align: middle;\n",
       "    }\n",
       "\n",
       "    .dataframe tbody tr th {\n",
       "        vertical-align: top;\n",
       "    }\n",
       "\n",
       "    .dataframe thead th {\n",
       "        text-align: right;\n",
       "    }\n",
       "</style>\n",
       "<table border=\"1\" class=\"dataframe\">\n",
       "  <thead>\n",
       "    <tr style=\"text-align: right;\">\n",
       "      <th></th>\n",
       "      <th>Open</th>\n",
       "      <th>High</th>\n",
       "      <th>Low</th>\n",
       "      <th>Volume</th>\n",
       "      <th>Close</th>\n",
       "    </tr>\n",
       "  </thead>\n",
       "  <tbody>\n",
       "    <tr>\n",
       "      <th>720</th>\n",
       "      <td>802.989990</td>\n",
       "      <td>806.000000</td>\n",
       "      <td>800.369995</td>\n",
       "      <td>1460400</td>\n",
       "      <td>801.489990</td>\n",
       "    </tr>\n",
       "    <tr>\n",
       "      <th>721</th>\n",
       "      <td>799.700012</td>\n",
       "      <td>801.669983</td>\n",
       "      <td>795.250000</td>\n",
       "      <td>1174200</td>\n",
       "      <td>801.340027</td>\n",
       "    </tr>\n",
       "    <tr>\n",
       "      <th>722</th>\n",
       "      <td>803.989990</td>\n",
       "      <td>810.500000</td>\n",
       "      <td>801.780029</td>\n",
       "      <td>1235200</td>\n",
       "      <td>806.969971</td>\n",
       "    </tr>\n",
       "    <tr>\n",
       "      <th>723</th>\n",
       "      <td>807.000000</td>\n",
       "      <td>811.840027</td>\n",
       "      <td>803.190002</td>\n",
       "      <td>1155300</td>\n",
       "      <td>808.380005</td>\n",
       "    </tr>\n",
       "    <tr>\n",
       "      <th>724</th>\n",
       "      <td>809.510010</td>\n",
       "      <td>810.659973</td>\n",
       "      <td>804.539978</td>\n",
       "      <td>989700</td>\n",
       "      <td>809.559998</td>\n",
       "    </tr>\n",
       "  </tbody>\n",
       "</table>\n",
       "</div>"
      ],
      "text/plain": [
       "           Open        High         Low   Volume       Close\n",
       "720  802.989990  806.000000  800.369995  1460400  801.489990\n",
       "721  799.700012  801.669983  795.250000  1174200  801.340027\n",
       "722  803.989990  810.500000  801.780029  1235200  806.969971\n",
       "723  807.000000  811.840027  803.190002  1155300  808.380005\n",
       "724  809.510010  810.659973  804.539978   989700  809.559998"
      ]
     },
     "execution_count": 9,
     "metadata": {},
     "output_type": "execute_result"
    }
   ],
   "source": [
    "test_df.tail()"
   ]
  },
  {
   "cell_type": "code",
   "execution_count": 10,
   "metadata": {
    "id": "tInGpWIjztcV"
   },
   "outputs": [],
   "source": [
    "# Q3. MinMaxScaler를 사용해서 학습과 테스트 데이터를 전처리하세요.\n",
    "# Q3a. 학습 데이터\n",
    "scaler_x = MinMaxScaler()\n",
    "scaler_x.fit(train_df.iloc[:, :-1])\n",
    "train_df.iloc[:, :-1] =scaler_x.transform(train_df.iloc[:, :-1])\n",
    "test_df.iloc[:, :-1] =scaler_x.transform(test_df.iloc[:, :-1])\n",
    "\n",
    "# Q3b. 테스트 데이터\n",
    "scaler_y = MinMaxScaler()\n",
    "scaler_y.fit(train_df.iloc[:, [-1]])\n",
    "\n",
    "train_df.iloc[:, -1]  = scaler_y.transform(train_df.iloc[:, [-1]])\n",
    "test_df.iloc[:, -1] = scaler_y.transform(test_df.iloc[:, [-1]])\n",
    "\n",
    "\n",
    "\n",
    "\n",
    "\n",
    "\n"
   ]
  },
  {
   "cell_type": "code",
   "execution_count": 11,
   "metadata": {
    "id": "e1mNTaVBztcV"
   },
   "outputs": [],
   "source": [
    "from torch.utils.data import TensorDataset\n",
    "from torch.utils.data import DataLoader\n",
    "\n",
    "batch = 100\n",
    "\n",
    "\n",
    "def build_dataset(time_series, seq_length):\n",
    "    X_data = []\n",
    "    Y_data = []\n",
    "    for i in range(0, len(time_series) - seq_length):\n",
    "        _x = time_series[i : i + seq_length, :]\n",
    "        _y = time_series[i + seq_length, [-1]]\n",
    "        X_data.append(_x)\n",
    "        Y_data.append(_y)\n",
    "    return np.array(X_data), np.array(Y_data)\n",
    "\n",
    "\n",
    "X_train, y_train = build_dataset(np.array(train_df), seq_length)\n",
    "X_test, y_test = build_dataset(np.array(test_df), seq_length)\n",
    "\n",
    "# Q4. 텐서로 변환하세요.\n",
    "# dataset =\n",
    "# dataloader =\n",
    "\n",
    "X_train_tensor = torch.tensor(X_train, dtype=torch.float32)\n",
    "y_train_tensor = torch.tensor(y_train, dtype=torch.float32)\n",
    "X_test_tensor = torch.tensor(X_test, dtype=torch.float32)\n",
    "y_test_tensor = torch.tensor(y_test, dtype=torch.float32)\n",
    "\n",
    "\n",
    "train_dataset = TensorDataset(X_train_tensor, y_train_tensor)\n",
    "test_dataset = TensorDataset(X_test_tensor, y_test_tensor)\n",
    "\n",
    "\n",
    "\n",
    "train_loader = DataLoader(train_dataset, batch_size=batch , shuffle=True)\n",
    "test_loader = DataLoader(test_dataset, batch_size=batch , shuffle=False)"
   ]
  },
  {
   "cell_type": "code",
   "execution_count": 12,
   "metadata": {
    "colab": {
     "base_uri": "https://localhost:8080/"
    },
    "id": "3A2RXvRr9OJz",
    "outputId": "1fe0e22a-a900-4143-ad65-38c54461b00d"
   },
   "outputs": [
    {
     "name": "stdout",
     "output_type": "stream",
     "text": [
      "X_train_tensor shape: torch.Size([505, 7, 5])\n"
     ]
    }
   ],
   "source": [
    "print(\"X_train_tensor shape:\", X_train_tensor.shape)"
   ]
  },
  {
   "cell_type": "code",
   "execution_count": 13,
   "metadata": {},
   "outputs": [
    {
     "name": "stdout",
     "output_type": "stream",
     "text": [
      "X_test_tensor shape: torch.Size([206, 7, 5])\n"
     ]
    }
   ],
   "source": [
    "print(\"X_test_tensor shape:\", X_test_tensor.shape)"
   ]
  },
  {
   "cell_type": "code",
   "execution_count": 19,
   "metadata": {
    "id": "OHPv_fRqztcW"
   },
   "outputs": [],
   "source": [
    "# 설정값\n",
    "data_dim = 5\n",
    "hidden_dim = 10\n",
    "output_dim = 1\n",
    "learning_rate = 0.01\n",
    "nb_epochs = 100\n",
    "\n",
    "\n",
    "class Net(nn.Module):\n",
    "    def __init__(self, input_dim, hidden_dim, seq_len, output_dim, layers):\n",
    "        super(Net, self).__init__()\n",
    "        self.hidden_dim = hidden_dim\n",
    "        self.seq_len = seq_len\n",
    "        self.output_dim = output_dim\n",
    "        self.layers = layers\n",
    "\n",
    "        # Q5. 아래 두 레이어를 작성하세요.\n",
    "        self.lstm = nn.LSTM(input_size=input_dim, hidden_size=hidden_dim,  batch_first=True  )\n",
    "        self.fc = nn.Linear(in_features=hidden_dim,  out_features=output_dim )\n",
    "\n",
    "\n",
    "\n",
    "\n",
    "\n",
    "    def reset_hidden_state(self):\n",
    "        self.hidden = (\n",
    "            torch.zeros(self.layers, self.seq_len, self.hidden_dim),\n",
    "            torch.zeros(self.layers, self.seq_len, self.hidden_dim),\n",
    "        )\n",
    "\n",
    "    # Q6. forward 메서드를 작성하세요.\n",
    "    def forward(self, x):\n",
    "         x, _ = self.lstm(x)\n",
    "         x = self.fc(x[:, -1])\n",
    "         return x"
   ]
  },
  {
   "cell_type": "code",
   "execution_count": 20,
   "metadata": {
    "id": "rSwrO-22ztcW"
   },
   "outputs": [],
   "source": [
    "def train_model(model, train_df, num_epochs=None, lr=None, verbose=10, patience=10):\n",
    "    nb_epochs = num_epochs\n",
    "    train_hist = np.zeros(nb_epochs)\n",
    "    # Q7. MSELoss, Adam을 설정하세요.\n",
    "    criterion = nn.MSELoss()\n",
    "    optimizer = optim.Adam(model.parameters(), lr=learning_rate)\n",
    "\n",
    "    for epoch in range(nb_epochs):\n",
    "        avg_cost = 0\n",
    "        total_batch = len(train_df)\n",
    "        for batch_idx, samples in enumerate(train_df):\n",
    "            x_train, y_train = samples\n",
    "            model.reset_hidden_state()\n",
    "            outputs = model(x_train)\n",
    "            loss = criterion(outputs, y_train)\n",
    "            optimizer.zero_grad()\n",
    "            loss.backward()\n",
    "            optimizer.step()\n",
    "            avg_cost += loss / total_batch\n",
    "        train_hist[epoch] = avg_cost\n",
    "        if epoch % verbose == 0:\n",
    "            print(\"Epoch:\", \"%04d\" % (epoch), \"train loss :\", \"{:.4f}\".format(avg_cost))\n",
    "\n",
    "        # patience번째 마다 early stopping 여부 확인\n",
    "        if (epoch % patience == 0) & (epoch != 0):\n",
    "            # loss가 커졌다면 early stop\n",
    "            if train_hist[epoch - patience] < train_hist[epoch]:\n",
    "                print(\"\\n Early Stopping\")\n",
    "                break\n",
    "\n",
    "    return model.eval(), train_hist"
   ]
  },
  {
   "cell_type": "code",
   "execution_count": 30,
   "metadata": {
    "id": "WqlVNgk1ztcW"
   },
   "outputs": [
    {
     "name": "stdout",
     "output_type": "stream",
     "text": [
      "Epoch: 0000 train loss : 0.5965\n",
      "Epoch: 0020 train loss : 0.0019\n",
      "Epoch: 0040 train loss : 0.0018\n",
      "Epoch: 0060 train loss : 0.0016\n",
      "\n",
      " Early Stopping\n"
     ]
    }
   ],
   "source": [
    "import torch.nn as nn\n",
    "import torch.optim as optim\n",
    "net = Net(data_dim, hidden_dim, seq_length, output_dim, 1)\n",
    "model, train_hist = train_model(\n",
    "    net,train_loader, num_epochs=nb_epochs, lr=learning_rate, verbose=20, patience=10\n",
    ")"
   ]
  },
  {
   "cell_type": "code",
   "execution_count": 31,
   "metadata": {
    "id": "ZWCz9AylztcW"
   },
   "outputs": [
    {
     "data": {
      "image/png": "[encoded data removed]",
      "text/plain": [
       "<Figure size 1000x400 with 1 Axes>"
      ]
     },
     "metadata": {},
     "output_type": "display_data"
    }
   ],
   "source": [
    "# epoch별 손실값\n",
    "fig = plt.figure(figsize=(10, 4))\n",
    "plt.plot(train_hist, label=\"Training loss\")\n",
    "plt.legend()\n",
    "plt.show()"
   ]
  },
  {
   "cell_type": "code",
   "execution_count": 32,
   "metadata": {
    "id": "YQF2YvadztcW"
   },
   "outputs": [
    {
     "name": "stderr",
     "output_type": "stream",
     "text": [
      "C:\\Users\\user\\AppData\\Local\\Temp\\ipykernel_13708\\1810756330.py:7: FutureWarning: You are using `torch.load` with `weights_only=False` (the current default value), which uses the default pickle module implicitly. It is possible to construct malicious pickle data which will execute arbitrary code during unpickling (See https://github.com/pytorch/pytorch/blob/main/SECURITY.md#untrusted-models for more details). In a future release, the default value for `weights_only` will be flipped to `True`. This limits the functions that could be executed during unpickling. Arbitrary objects will no longer be allowed to be loaded via this mode unless they are explicitly allowlisted by the user via `torch.serialization.add_safe_globals`. We recommend you start setting `weights_only=True` for any use case where you don't have full control of the loaded file. Please open an issue on GitHub for any issues related to this experimental feature.\n",
      "  model.load_state_dict(torch.load(PATH), strict=False)\n"
     ]
    },
    {
     "data": {
      "text/plain": [
       "Net(\n",
       "  (lstm): LSTM(5, 10, batch_first=True)\n",
       "  (fc): Linear(in_features=10, out_features=1, bias=True)\n",
       ")"
      ]
     },
     "execution_count": 32,
     "metadata": {},
     "output_type": "execute_result"
    }
   ],
   "source": [
    "# 모델 저장\n",
    "PATH = \"stock_daily2_.pth\"\n",
    "torch.save(model.state_dict(), PATH)\n",
    "\n",
    "# 불러오기\n",
    "model = Net(data_dim, hidden_dim, seq_length, output_dim, 1)\n",
    "model.load_state_dict(torch.load(PATH), strict=False)\n",
    "model.eval()"
   ]
  },
  {
   "cell_type": "code",
   "execution_count": 35,
   "metadata": {
    "id": "0qxkk2FLztcX"
   },
   "outputs": [
    {
     "name": "stdout",
     "output_type": "stream",
     "text": [
      "MAE SCORE :  11.48063392582683\n"
     ]
    }
   ],
   "source": [
    "# 예측 테스트\n",
    "with torch.no_grad():\n",
    "    pred = []\n",
    "    for pr in range(len(X_test_tensor)):\n",
    "\n",
    "        model.reset_hidden_state()\n",
    "\n",
    "        predicted = model(torch.unsqueeze(X_test_tensor[pr], 0))\n",
    "        predicted = torch.flatten(predicted).item()\n",
    "        pred.append(predicted)\n",
    "\n",
    "    # INVERSE\n",
    "    pred_inverse = scaler_y.inverse_transform(np.array(pred).reshape(-1, 1))\n",
    "    y_test_inverse = scaler_y.inverse_transform(y_test_tensor)\n",
    "\n",
    "\n",
    "def MAE(true, pred):\n",
    "    return np.mean(np.abs(true - pred))\n",
    "\n",
    "\n",
    "print(\"MAE SCORE : \", MAE( y_test_inverse,pred_inverse))"
   ]
  },
  {
   "cell_type": "code",
   "execution_count": null,
   "metadata": {},
   "outputs": [],
   "source": []
  }
 ],
 "metadata": {
  "accelerator": "GPU",
  "colab": {
   "gpuType": "T4",
   "provenance": []
  },
  "kernelspec": {
   "display_name": "Python 3 (ipykernel)",
   "language": "python",
   "name": "python3"
  },
  "language_info": {
   "codemirror_mode": {
    "name": "ipython",
    "version": 3
   },
   "file_extension": ".py",
   "mimetype": "text/x-python",
   "name": "python",
   "nbconvert_exporter": "python",
   "pygments_lexer": "ipython3",
   "version": "3.12.3"
  }
 },
 "nbformat": 4,
 "nbformat_minor": 4
}
